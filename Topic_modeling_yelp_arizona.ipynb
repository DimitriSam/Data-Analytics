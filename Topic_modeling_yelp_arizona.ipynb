{
  "nbformat": 4,
  "nbformat_minor": 0,
  "metadata": {
    "colab": {
      "name": "LDA.ipynb",
      "version": "0.3.2",
      "provenance": [],
      "toc_visible": true
    },
    "kernelspec": {
      "name": "python3",
      "display_name": "Python 3"
    },
    "accelerator": "GPU"
  },
  "cells": [
    {
      "cell_type": "code",
      "metadata": {
        "id": "tukthnnH05sB",
        "colab_type": "code",
        "outputId": "3eeae089-4308-41dd-c4c7-8bd5250a55cf",
        "colab": {
          "base_uri": "https://localhost:8080/",
          "height": 742
        }
      },
      "source": [
        "!pip install gensim\n",
        "!pip install pyLDAvis\n",
        "# Run in python console\n",
        "import nltk; nltk.download('stopwords')"
      ],
      "execution_count": 0,
      "outputs": [
        {
          "output_type": "stream",
          "text": [
            "Requirement already satisfied: gensim in /usr/local/lib/python3.6/dist-packages (3.6.0)\n",
            "Requirement already satisfied: scipy>=0.18.1 in /usr/local/lib/python3.6/dist-packages (from gensim) (1.1.0)\n",
            "Requirement already satisfied: six>=1.5.0 in /usr/local/lib/python3.6/dist-packages (from gensim) (1.11.0)\n",
            "Requirement already satisfied: numpy>=1.11.3 in /usr/local/lib/python3.6/dist-packages (from gensim) (1.14.6)\n",
            "Requirement already satisfied: smart-open>=1.2.1 in /usr/local/lib/python3.6/dist-packages (from gensim) (1.8.0)\n",
            "Requirement already satisfied: boto>=2.32 in /usr/local/lib/python3.6/dist-packages (from smart-open>=1.2.1->gensim) (2.49.0)\n",
            "Requirement already satisfied: bz2file in /usr/local/lib/python3.6/dist-packages (from smart-open>=1.2.1->gensim) (0.98)\n",
            "Requirement already satisfied: requests in /usr/local/lib/python3.6/dist-packages (from smart-open>=1.2.1->gensim) (2.18.4)\n",
            "Requirement already satisfied: boto3 in /usr/local/lib/python3.6/dist-packages (from smart-open>=1.2.1->gensim) (1.9.115)\n",
            "Requirement already satisfied: idna<2.7,>=2.5 in /usr/local/lib/python3.6/dist-packages (from requests->smart-open>=1.2.1->gensim) (2.6)\n",
            "Requirement already satisfied: chardet<3.1.0,>=3.0.2 in /usr/local/lib/python3.6/dist-packages (from requests->smart-open>=1.2.1->gensim) (3.0.4)\n",
            "Requirement already satisfied: certifi>=2017.4.17 in /usr/local/lib/python3.6/dist-packages (from requests->smart-open>=1.2.1->gensim) (2019.3.9)\n",
            "Requirement already satisfied: urllib3<1.23,>=1.21.1 in /usr/local/lib/python3.6/dist-packages (from requests->smart-open>=1.2.1->gensim) (1.22)\n",
            "Requirement already satisfied: jmespath<1.0.0,>=0.7.1 in /usr/local/lib/python3.6/dist-packages (from boto3->smart-open>=1.2.1->gensim) (0.9.4)\n",
            "Requirement already satisfied: s3transfer<0.3.0,>=0.2.0 in /usr/local/lib/python3.6/dist-packages (from boto3->smart-open>=1.2.1->gensim) (0.2.0)\n",
            "Requirement already satisfied: botocore<1.13.0,>=1.12.115 in /usr/local/lib/python3.6/dist-packages (from boto3->smart-open>=1.2.1->gensim) (1.12.115)\n",
            "Requirement already satisfied: python-dateutil<3.0.0,>=2.1; python_version >= \"2.7\" in /usr/local/lib/python3.6/dist-packages (from botocore<1.13.0,>=1.12.115->boto3->smart-open>=1.2.1->gensim) (2.5.3)\n",
            "Requirement already satisfied: docutils>=0.10 in /usr/local/lib/python3.6/dist-packages (from botocore<1.13.0,>=1.12.115->boto3->smart-open>=1.2.1->gensim) (0.14)\n",
            "Requirement already satisfied: pyLDAvis in /usr/local/lib/python3.6/dist-packages (2.1.2)\n",
            "Requirement already satisfied: pandas>=0.17.0 in /usr/local/lib/python3.6/dist-packages (from pyLDAvis) (0.22.0)\n",
            "Requirement already satisfied: funcy in /usr/local/lib/python3.6/dist-packages (from pyLDAvis) (1.11)\n",
            "Requirement already satisfied: scipy>=0.18.0 in /usr/local/lib/python3.6/dist-packages (from pyLDAvis) (1.1.0)\n",
            "Requirement already satisfied: numexpr in /usr/local/lib/python3.6/dist-packages (from pyLDAvis) (2.6.9)\n",
            "Requirement already satisfied: joblib>=0.8.4 in /usr/local/lib/python3.6/dist-packages (from pyLDAvis) (0.12.5)\n",
            "Requirement already satisfied: future in /usr/local/lib/python3.6/dist-packages (from pyLDAvis) (0.16.0)\n",
            "Requirement already satisfied: pytest in /usr/local/lib/python3.6/dist-packages (from pyLDAvis) (3.6.4)\n",
            "Requirement already satisfied: jinja2>=2.7.2 in /usr/local/lib/python3.6/dist-packages (from pyLDAvis) (2.10)\n",
            "Requirement already satisfied: numpy>=1.9.2 in /usr/local/lib/python3.6/dist-packages (from pyLDAvis) (1.14.6)\n",
            "Requirement already satisfied: wheel>=0.23.0 in /usr/local/lib/python3.6/dist-packages (from pyLDAvis) (0.33.1)\n",
            "Requirement already satisfied: python-dateutil>=2 in /usr/local/lib/python3.6/dist-packages (from pandas>=0.17.0->pyLDAvis) (2.5.3)\n",
            "Requirement already satisfied: pytz>=2011k in /usr/local/lib/python3.6/dist-packages (from pandas>=0.17.0->pyLDAvis) (2018.9)\n",
            "Requirement already satisfied: more-itertools>=4.0.0 in /usr/local/lib/python3.6/dist-packages (from pytest->pyLDAvis) (6.0.0)\n",
            "Requirement already satisfied: pluggy<0.8,>=0.5 in /usr/local/lib/python3.6/dist-packages (from pytest->pyLDAvis) (0.7.1)\n",
            "Requirement already satisfied: py>=1.5.0 in /usr/local/lib/python3.6/dist-packages (from pytest->pyLDAvis) (1.8.0)\n",
            "Requirement already satisfied: attrs>=17.4.0 in /usr/local/lib/python3.6/dist-packages (from pytest->pyLDAvis) (19.1.0)\n",
            "Requirement already satisfied: six>=1.10.0 in /usr/local/lib/python3.6/dist-packages (from pytest->pyLDAvis) (1.11.0)\n",
            "Requirement already satisfied: atomicwrites>=1.0 in /usr/local/lib/python3.6/dist-packages (from pytest->pyLDAvis) (1.3.0)\n",
            "Requirement already satisfied: setuptools in /usr/local/lib/python3.6/dist-packages (from pytest->pyLDAvis) (40.8.0)\n",
            "Requirement already satisfied: MarkupSafe>=0.23 in /usr/local/lib/python3.6/dist-packages (from jinja2>=2.7.2->pyLDAvis) (1.1.1)\n",
            "[nltk_data] Downloading package stopwords to /root/nltk_data...\n",
            "[nltk_data]   Package stopwords is already up-to-date!\n"
          ],
          "name": "stdout"
        },
        {
          "output_type": "execute_result",
          "data": {
            "text/plain": [
              "True"
            ]
          },
          "metadata": {
            "tags": []
          },
          "execution_count": 56
        }
      ]
    },
    {
      "cell_type": "code",
      "metadata": {
        "id": "usvR94Ao07On",
        "colab_type": "code",
        "outputId": "96d5cd98-bc68-4811-9815-a6af6e560ead",
        "colab": {
          "base_uri": "https://localhost:8080/",
          "height": 134
        }
      },
      "source": [
        "\n",
        "import spacy.cli\n",
        "spacy.cli.download(\"en_core_web_sm\")"
      ],
      "execution_count": 0,
      "outputs": [
        {
          "output_type": "stream",
          "text": [
            "\n",
            "\u001b[93m    Linking successful\u001b[0m\n",
            "    /usr/local/lib/python3.6/dist-packages/en_core_web_sm -->\n",
            "    /usr/local/lib/python3.6/dist-packages/spacy/data/en_core_web_sm\n",
            "\n",
            "    You can now load the model via spacy.load('en_core_web_sm')\n",
            "\n"
          ],
          "name": "stdout"
        }
      ]
    },
    {
      "cell_type": "markdown",
      "metadata": {
        "id": "e3eC2WHM6GXK",
        "colab_type": "text"
      },
      "source": [
        "##3. Import Packages"
      ]
    },
    {
      "cell_type": "code",
      "metadata": {
        "id": "LEzkfQLJ1AbQ",
        "colab_type": "code",
        "colab": {}
      },
      "source": [
        "import re\n",
        "import numpy as np\n",
        "import pandas as pd\n",
        "from pprint import pprint\n",
        "\n",
        "# Gensim\n",
        "import gensim\n",
        "import gensim.corpora as corpora\n",
        "from gensim.utils import simple_preprocess\n",
        "from gensim.models import CoherenceModel\n",
        "\n",
        "# spacy for lemmatization\n",
        "import spacy\n",
        "\n",
        "# Plotting tools\n",
        "import pyLDAvis\n",
        "import pyLDAvis.gensim  # don't skip this\n",
        "import matplotlib.pyplot as plt\n",
        "%matplotlib inline\n",
        "\n",
        "# Enable logging for gensim - optional\n",
        "import logging\n",
        "logging.basicConfig(format='%(asctime)s : %(levelname)s : %(message)s', level=logging.ERROR)\n",
        "\n",
        "import warnings\n",
        "warnings.filterwarnings(\"ignore\",category=DeprecationWarning)\n",
        "\n"
      ],
      "execution_count": 0,
      "outputs": []
    },
    {
      "cell_type": "markdown",
      "metadata": {
        "id": "17yzo7IP6WcB",
        "colab_type": "text"
      },
      "source": [
        "##5. Prepare Stopwords"
      ]
    },
    {
      "cell_type": "code",
      "metadata": {
        "id": "XLqVP-5l6Rjp",
        "colab_type": "code",
        "colab": {}
      },
      "source": [
        "# NLTK Stop words\n",
        "from nltk.corpus import stopwords\n",
        "stop_words = stopwords.words('english')\n",
        "stop_words.extend(['from', 'subject', 're', 'edu', 'use'])"
      ],
      "execution_count": 0,
      "outputs": []
    },
    {
      "cell_type": "markdown",
      "metadata": {
        "id": "GeWCbyFi6eun",
        "colab_type": "text"
      },
      "source": [
        "##6. Import Newsgroups Data"
      ]
    },
    {
      "cell_type": "code",
      "metadata": {
        "id": "MAjUrmei8Het",
        "colab_type": "code",
        "outputId": "6558de5f-1549-4afc-ab10-fa22f3baf198",
        "colab": {
          "base_uri": "https://localhost:8080/",
          "height": 34
        }
      },
      "source": [
        "#from google.colab import files\n",
        "#uploaded = files.upload()\n",
        "\n",
        "# Import Dataset\n",
        "from google.colab import drive\n",
        "drive.mount('/content/drive/')\n",
        "#users = pd.read_csv('drive/My Drive/yelp/user.csv')\n",
        "df = pd.read_csv('drive/My Drive/Colab Notebooks/LDA/yelp/restaurants_arizonacsv.csv')"
      ],
      "execution_count": 0,
      "outputs": [
        {
          "output_type": "stream",
          "text": [
            "Mounted at /content/drive/\n"
          ],
          "name": "stdout"
        }
      ]
    },
    {
      "cell_type": "code",
      "metadata": {
        "id": "fsxkEzxq1tlD",
        "colab_type": "code",
        "outputId": "910a5551-74cd-4562-a51f-28fcaf673761",
        "colab": {
          "base_uri": "https://localhost:8080/",
          "height": 363
        }
      },
      "source": [
        "# Import Dataset\n",
        "#df = pd.read_csv('restaurants_arizonacsv (1).csv')\n",
        "#print(df.target_names.unique())\n",
        "df =  df[df['stars_x']>3]\n",
        "df.head()"
      ],
      "execution_count": 0,
      "outputs": [
        {
          "output_type": "execute_result",
          "data": {
            "text/html": [
              "<div>\n",
              "<style scoped>\n",
              "    .dataframe tbody tr th:only-of-type {\n",
              "        vertical-align: middle;\n",
              "    }\n",
              "\n",
              "    .dataframe tbody tr th {\n",
              "        vertical-align: top;\n",
              "    }\n",
              "\n",
              "    .dataframe thead th {\n",
              "        text-align: right;\n",
              "    }\n",
              "</style>\n",
              "<table border=\"1\" class=\"dataframe\">\n",
              "  <thead>\n",
              "    <tr style=\"text-align: right;\">\n",
              "      <th></th>\n",
              "      <th>votes</th>\n",
              "      <th>user_id</th>\n",
              "      <th>review_id</th>\n",
              "      <th>stars_x</th>\n",
              "      <th>date</th>\n",
              "      <th>text</th>\n",
              "      <th>type_x</th>\n",
              "      <th>business_id</th>\n",
              "    </tr>\n",
              "  </thead>\n",
              "  <tbody>\n",
              "    <tr>\n",
              "      <th>0</th>\n",
              "      <td>{'funny': 0, 'useful': 1, 'cool': 0}</td>\n",
              "      <td>t95D1tnWvAOy2sxXnI3GUA</td>\n",
              "      <td>4ibY4fPQYM7FBSVPrvrYvg</td>\n",
              "      <td>4</td>\n",
              "      <td>2010-04-02</td>\n",
              "      <td>Not the same Domino's pizza I ate too much of ...</td>\n",
              "      <td>review</td>\n",
              "      <td>x5Mv61CnZLohZWxfCVCPTQ</td>\n",
              "    </tr>\n",
              "    <tr>\n",
              "      <th>1</th>\n",
              "      <td>{'funny': 0, 'useful': 1, 'cool': 0}</td>\n",
              "      <td>t95D1tnWvAOy2sxXnI3GUA</td>\n",
              "      <td>1JlopVxrAeDNQCRnSHLHrQ</td>\n",
              "      <td>4</td>\n",
              "      <td>2010-05-03</td>\n",
              "      <td>Easy ordering-on-line. Made exactly as I asked...</td>\n",
              "      <td>review</td>\n",
              "      <td>x5Mv61CnZLohZWxfCVCPTQ</td>\n",
              "    </tr>\n",
              "    <tr>\n",
              "      <th>2</th>\n",
              "      <td>{'funny': 4, 'useful': 4, 'cool': 6}</td>\n",
              "      <td>9ellV9VrEOPA3vX2pZptSA</td>\n",
              "      <td>9--jL__9efnmXZEm9o0HIw</td>\n",
              "      <td>5</td>\n",
              "      <td>2010-11-02</td>\n",
              "      <td>OK OK... as a Proud Italian I hope my momma do...</td>\n",
              "      <td>review</td>\n",
              "      <td>x5Mv61CnZLohZWxfCVCPTQ</td>\n",
              "    </tr>\n",
              "    <tr>\n",
              "      <th>7</th>\n",
              "      <td>{'funny': 0, 'useful': 0, 'cool': 0}</td>\n",
              "      <td>lzu5sYkqKRYDHnGGDlHcWw</td>\n",
              "      <td>3w9IoOVjTTWIZeNG13ZGfA</td>\n",
              "      <td>5</td>\n",
              "      <td>2014-06-04</td>\n",
              "      <td>I have always ordered pizza from dominos and t...</td>\n",
              "      <td>review</td>\n",
              "      <td>x5Mv61CnZLohZWxfCVCPTQ</td>\n",
              "    </tr>\n",
              "    <tr>\n",
              "      <th>10</th>\n",
              "      <td>{'funny': 0, 'useful': 0, 'cool': 0}</td>\n",
              "      <td>lkPszfTzL-Hb2zGJfMktWQ</td>\n",
              "      <td>SHRKu4T-PI5WJuoGN7Mo4w</td>\n",
              "      <td>5</td>\n",
              "      <td>2015-02-04</td>\n",
              "      <td>Love the online ordering ....... order was acc...</td>\n",
              "      <td>review</td>\n",
              "      <td>x5Mv61CnZLohZWxfCVCPTQ</td>\n",
              "    </tr>\n",
              "  </tbody>\n",
              "</table>\n",
              "</div>"
            ],
            "text/plain": [
              "                                   votes                 user_id  \\\n",
              "0   {'funny': 0, 'useful': 1, 'cool': 0}  t95D1tnWvAOy2sxXnI3GUA   \n",
              "1   {'funny': 0, 'useful': 1, 'cool': 0}  t95D1tnWvAOy2sxXnI3GUA   \n",
              "2   {'funny': 4, 'useful': 4, 'cool': 6}  9ellV9VrEOPA3vX2pZptSA   \n",
              "7   {'funny': 0, 'useful': 0, 'cool': 0}  lzu5sYkqKRYDHnGGDlHcWw   \n",
              "10  {'funny': 0, 'useful': 0, 'cool': 0}  lkPszfTzL-Hb2zGJfMktWQ   \n",
              "\n",
              "                 review_id  stars_x        date  \\\n",
              "0   4ibY4fPQYM7FBSVPrvrYvg        4  2010-04-02   \n",
              "1   1JlopVxrAeDNQCRnSHLHrQ        4  2010-05-03   \n",
              "2   9--jL__9efnmXZEm9o0HIw        5  2010-11-02   \n",
              "7   3w9IoOVjTTWIZeNG13ZGfA        5  2014-06-04   \n",
              "10  SHRKu4T-PI5WJuoGN7Mo4w        5  2015-02-04   \n",
              "\n",
              "                                                 text  type_x  \\\n",
              "0   Not the same Domino's pizza I ate too much of ...  review   \n",
              "1   Easy ordering-on-line. Made exactly as I asked...  review   \n",
              "2   OK OK... as a Proud Italian I hope my momma do...  review   \n",
              "7   I have always ordered pizza from dominos and t...  review   \n",
              "10  Love the online ordering ....... order was acc...  review   \n",
              "\n",
              "               business_id  \n",
              "0   x5Mv61CnZLohZWxfCVCPTQ  \n",
              "1   x5Mv61CnZLohZWxfCVCPTQ  \n",
              "2   x5Mv61CnZLohZWxfCVCPTQ  \n",
              "7   x5Mv61CnZLohZWxfCVCPTQ  \n",
              "10  x5Mv61CnZLohZWxfCVCPTQ  "
            ]
          },
          "metadata": {
            "tags": []
          },
          "execution_count": 61
        }
      ]
    },
    {
      "cell_type": "markdown",
      "metadata": {
        "id": "cm8wcMjF6lYL",
        "colab_type": "text"
      },
      "source": [
        "##7. Remove emails and newline characters"
      ]
    },
    {
      "cell_type": "code",
      "metadata": {
        "id": "LCKoJJlC2Uht",
        "colab_type": "code",
        "outputId": "06140efd-4c24-4d3b-e16f-5b0bdf25df6a",
        "colab": {
          "base_uri": "https://localhost:8080/",
          "height": 118
        }
      },
      "source": [
        "# Convert to list\n",
        "data = df.text.values.tolist()\n",
        "\n",
        "# Remove Emails\n",
        "data = [re.sub('\\S*@\\S*\\s?', '', sent) for sent in data]\n",
        "\n",
        "# Remove new line characters\n",
        "data = [re.sub('\\s+', ' ', sent) for sent in data]\n",
        "\n",
        "# Remove distracting single quotes\n",
        "data = [re.sub(\"\\'\", \"\", sent) for sent in data]\n",
        "\n",
        "pprint(data[:1])"
      ],
      "execution_count": 0,
      "outputs": [
        {
          "output_type": "stream",
          "text": [
            "['Not the same Dominos pizza I ate too much of in College. Vastly different '\n",
            " 'and a major improvement! Ordering on-line couldnt be easier, and pizza was '\n",
            " 'made exactly how I ordered. Piping hot, flavorful, better than average '\n",
            " 'crust, nicely blackened in all the right spots, tasty toppings, robust '\n",
            " 'sauce. Friendly delivery by John. Price is fair. Much, much better than '\n",
            " 'Pizza Hut!']\n"
          ],
          "name": "stdout"
        }
      ]
    },
    {
      "cell_type": "markdown",
      "metadata": {
        "id": "BQ78pQo66pZu",
        "colab_type": "text"
      },
      "source": [
        "##8. Tokenize words and Clean-up text"
      ]
    },
    {
      "cell_type": "code",
      "metadata": {
        "id": "wkxoCsnm2l_B",
        "colab_type": "code",
        "outputId": "d7e60165-a5a2-41e4-9c2c-c829bedffc5f",
        "colab": {
          "base_uri": "https://localhost:8080/",
          "height": 54
        }
      },
      "source": [
        "def sent_to_words(sentences):\n",
        "    for sentence in sentences:\n",
        "        yield(gensim.utils.simple_preprocess(str(sentence), deacc=True))  # deacc=True removes punctuations\n",
        "\n",
        "data_words = list(sent_to_words(data))\n",
        "\n",
        "print(data_words[:1])"
      ],
      "execution_count": 0,
      "outputs": [
        {
          "output_type": "stream",
          "text": [
            "[['not', 'the', 'same', 'dominos', 'pizza', 'ate', 'too', 'much', 'of', 'in', 'college', 'vastly', 'different', 'and', 'major', 'improvement', 'ordering', 'on', 'line', 'couldnt', 'be', 'easier', 'and', 'pizza', 'was', 'made', 'exactly', 'how', 'ordered', 'piping', 'hot', 'flavorful', 'better', 'than', 'average', 'crust', 'nicely', 'blackened', 'in', 'all', 'the', 'right', 'spots', 'tasty', 'toppings', 'robust', 'sauce', 'friendly', 'delivery', 'by', 'john', 'price', 'is', 'fair', 'much', 'much', 'better', 'than', 'pizza', 'hut']]\n"
          ],
          "name": "stdout"
        }
      ]
    },
    {
      "cell_type": "markdown",
      "metadata": {
        "id": "I6loxgP26sh0",
        "colab_type": "text"
      },
      "source": [
        "##9. Creating Bigram and Trigram Models"
      ]
    },
    {
      "cell_type": "code",
      "metadata": {
        "id": "kgxLUxai2xBD",
        "colab_type": "code",
        "outputId": "9b31c5f3-bc8b-4b28-ad04-284cc10443ea",
        "colab": {
          "base_uri": "https://localhost:8080/",
          "height": 87
        }
      },
      "source": [
        "# Build the bigram and trigram models\n",
        "bigram = gensim.models.Phrases(data_words, min_count=5, threshold=100) # higher threshold fewer phrases.\n",
        "trigram = gensim.models.Phrases(bigram[data_words], threshold=100)  \n",
        "\n",
        "# Faster way to get a sentence clubbed as a trigram/bigram\n",
        "bigram_mod = gensim.models.phrases.Phraser(bigram)\n",
        "trigram_mod = gensim.models.phrases.Phraser(trigram)\n",
        "\n",
        "# See trigram example\n",
        "print(trigram_mod[bigram_mod[data_words[0]]])"
      ],
      "execution_count": 0,
      "outputs": [
        {
          "output_type": "stream",
          "text": [
            "/usr/local/lib/python3.6/dist-packages/gensim/models/phrases.py:598: UserWarning: For a faster implementation, use the gensim.models.phrases.Phraser class\n",
            "  warnings.warn(\"For a faster implementation, use the gensim.models.phrases.Phraser class\")\n"
          ],
          "name": "stderr"
        },
        {
          "output_type": "stream",
          "text": [
            "['not', 'the', 'same', 'dominos', 'pizza', 'ate', 'too', 'much', 'of', 'in', 'college', 'vastly', 'different', 'and', 'major', 'improvement', 'ordering', 'on', 'line', 'couldnt', 'be', 'easier', 'and', 'pizza', 'was', 'made', 'exactly', 'how', 'ordered', 'piping_hot', 'flavorful', 'better', 'than', 'average', 'crust', 'nicely', 'blackened', 'in', 'all', 'the', 'right', 'spots', 'tasty', 'toppings', 'robust', 'sauce', 'friendly', 'delivery', 'by', 'john', 'price', 'is', 'fair', 'much', 'much', 'better', 'than', 'pizza', 'hut']\n"
          ],
          "name": "stdout"
        }
      ]
    },
    {
      "cell_type": "markdown",
      "metadata": {
        "id": "Ai1FsFjq28n3",
        "colab_type": "text"
      },
      "source": [
        "## *10. Remove Stopwords, Make Bigrams and Lemmatize*"
      ]
    },
    {
      "cell_type": "code",
      "metadata": {
        "id": "6QC3AJr423Ec",
        "colab_type": "code",
        "colab": {}
      },
      "source": [
        "# Define functions for stopwords, bigrams, trigrams and lemmatization\n",
        "def remove_stopwords(texts):\n",
        "    return [[word for word in simple_preprocess(str(doc)) if word not in stop_words] for doc in texts]\n",
        "\n",
        "def make_bigrams(texts):\n",
        "    return [bigram_mod[doc] for doc in texts]\n",
        "\n",
        "def make_trigrams(texts):\n",
        "    return [trigram_mod[bigram_mod[doc]] for doc in texts]\n",
        "\n",
        "def lemmatization(texts, allowed_postags=['NOUN', 'ADJ', 'VERB', 'ADV']):\n",
        "    \"\"\"https://spacy.io/api/annotation\"\"\"\n",
        "    texts_out = []\n",
        "    for sent in texts:\n",
        "        doc = nlp(\" \".join(sent)) \n",
        "        texts_out.append([token.lemma_ for token in doc if token.pos_ in allowed_postags])\n",
        "    return texts_out"
      ],
      "execution_count": 0,
      "outputs": []
    },
    {
      "cell_type": "code",
      "metadata": {
        "id": "TzOWjSli3LoQ",
        "colab_type": "code",
        "outputId": "0d6be7ef-5fd3-4112-fac3-08f602144765",
        "colab": {
          "base_uri": "https://localhost:8080/",
          "height": 54
        }
      },
      "source": [
        "# Remove Stop Words\n",
        "data_words_nostops = remove_stopwords(data_words)\n",
        "\n",
        "# Form Bigrams\n",
        "data_words_bigrams = make_bigrams(data_words_nostops)\n",
        "\n",
        "# Initialize spacy 'en' model, keeping only tagger component (for efficiency)\n",
        "# python3 -m spacy download en\n",
        "nlp = spacy.load('en', disable=['parser', 'ner'])\n",
        "\n",
        "# Do lemmatization keeping only noun, adj, vb, adv\n",
        "data_lemmatized = lemmatization(data_words_bigrams, allowed_postags=['NOUN', 'ADJ', 'VERB', 'ADV'])\n",
        "\n",
        "print(data_lemmatized[:1])"
      ],
      "execution_count": 0,
      "outputs": [
        {
          "output_type": "stream",
          "text": [
            "[['dominos', 'pizza', 'eat', 'much', 'college', 'vastly', 'different', 'major', 'improvement', 'ordering', 'line', 'could', 'not', 'easy', 'pizza', 'make', 'exactly', 'order', 'piping_hot', 'flavorful', 'good', 'average', 'crust', 'nicely', 'blacken', 'right', 'spot', 'tasty', 'topping', 'robust', 'sauce', 'friendly', 'delivery', 'john', 'price', 'fair', 'much', 'much', 'good', 'pizza', 'hut']]\n"
          ],
          "name": "stdout"
        }
      ]
    },
    {
      "cell_type": "markdown",
      "metadata": {
        "id": "XSFwwsgJ3MWp",
        "colab_type": "text"
      },
      "source": [
        "## 11. Create the Dictionary and Corpus needed for Topic Modeling"
      ]
    },
    {
      "cell_type": "code",
      "metadata": {
        "id": "eQecBZ9k3ZNe",
        "colab_type": "code",
        "outputId": "0a6b68df-8e65-4e84-c114-b374d69d3d2c",
        "colab": {
          "base_uri": "https://localhost:8080/",
          "height": 54
        }
      },
      "source": [
        "# Create Dictionary\n",
        "id2word = corpora.Dictionary(data_lemmatized)\n",
        "\n",
        "# Create Corpus\n",
        "texts = data_lemmatized\n",
        "\n",
        "# Term Document Frequency\n",
        "corpus = [id2word.doc2bow(text) for text in texts]\n",
        "\n",
        "# View\n",
        "print(corpus[:1])"
      ],
      "execution_count": 0,
      "outputs": [
        {
          "output_type": "stream",
          "text": [
            "[[(0, 1), (1, 1), (2, 1), (3, 1), (4, 1), (5, 1), (6, 1), (7, 1), (8, 1), (9, 1), (10, 1), (11, 1), (12, 1), (13, 1), (14, 2), (15, 1), (16, 1), (17, 1), (18, 1), (19, 1), (20, 1), (21, 3), (22, 1), (23, 1), (24, 1), (25, 1), (26, 1), (27, 3), (28, 1), (29, 1), (30, 1), (31, 1), (32, 1), (33, 1), (34, 1), (35, 1)]]\n"
          ],
          "name": "stdout"
        }
      ]
    },
    {
      "cell_type": "code",
      "metadata": {
        "id": "FO_SF2_43h1A",
        "colab_type": "code",
        "outputId": "e18c8a1b-455c-4ad1-ea3b-bcac64ac24d3",
        "colab": {
          "base_uri": "https://localhost:8080/",
          "height": 622
        }
      },
      "source": [
        "# Human readable format of corpus (term-frequency)\n",
        "[[(id2word[id], freq) for id, freq in cp] for cp in corpus[:1]]"
      ],
      "execution_count": 0,
      "outputs": [
        {
          "output_type": "execute_result",
          "data": {
            "text/plain": [
              "[[('average', 1),\n",
              "  ('blacken', 1),\n",
              "  ('college', 1),\n",
              "  ('could', 1),\n",
              "  ('crust', 1),\n",
              "  ('delivery', 1),\n",
              "  ('different', 1),\n",
              "  ('dominos', 1),\n",
              "  ('easy', 1),\n",
              "  ('eat', 1),\n",
              "  ('exactly', 1),\n",
              "  ('fair', 1),\n",
              "  ('flavorful', 1),\n",
              "  ('friendly', 1),\n",
              "  ('good', 2),\n",
              "  ('hut', 1),\n",
              "  ('improvement', 1),\n",
              "  ('john', 1),\n",
              "  ('line', 1),\n",
              "  ('major', 1),\n",
              "  ('make', 1),\n",
              "  ('much', 3),\n",
              "  ('nicely', 1),\n",
              "  ('not', 1),\n",
              "  ('order', 1),\n",
              "  ('ordering', 1),\n",
              "  ('piping_hot', 1),\n",
              "  ('pizza', 3),\n",
              "  ('price', 1),\n",
              "  ('right', 1),\n",
              "  ('robust', 1),\n",
              "  ('sauce', 1),\n",
              "  ('spot', 1),\n",
              "  ('tasty', 1),\n",
              "  ('topping', 1),\n",
              "  ('vastly', 1)]]"
            ]
          },
          "metadata": {
            "tags": []
          },
          "execution_count": 68
        }
      ]
    },
    {
      "cell_type": "markdown",
      "metadata": {
        "id": "KYRz1Xcb3ogb",
        "colab_type": "text"
      },
      "source": [
        "## 12. Building the Topic Model"
      ]
    },
    {
      "cell_type": "code",
      "metadata": {
        "id": "FE6Dtk_x3pLJ",
        "colab_type": "code",
        "colab": {}
      },
      "source": [
        "# Build LDA model\n",
        "lda_model = gensim.models.ldamodel.LdaModel(corpus=corpus,\n",
        "                                           id2word=id2word,\n",
        "                                           num_topics=6, \n",
        "                                           random_state=100,\n",
        "                                           update_every=1,\n",
        "                                           chunksize=100,\n",
        "                                           passes=10,\n",
        "                                           alpha='auto',\n",
        "                                           per_word_topics=True)"
      ],
      "execution_count": 0,
      "outputs": []
    },
    {
      "cell_type": "markdown",
      "metadata": {
        "id": "lpum0cVH3uTv",
        "colab_type": "text"
      },
      "source": [
        "##13. View the topics in LDA model"
      ]
    },
    {
      "cell_type": "code",
      "metadata": {
        "id": "j_FrMm0X3wF3",
        "colab_type": "code",
        "outputId": "9ac09c75-eedf-49a4-8a31-480264fde690",
        "colab": {
          "base_uri": "https://localhost:8080/",
          "height": 370
        }
      },
      "source": [
        "# Print the Keyword in the 10 topics\n",
        "pprint(lda_model.print_topics())\n",
        "doc_lda = lda_model[corpus]"
      ],
      "execution_count": 0,
      "outputs": [
        {
          "output_type": "stream",
          "text": [
            "[(0,\n",
            "  '0.034*\"go\" + 0.030*\"get\" + 0.025*\"time\" + 0.023*\"order\" + 0.021*\"come\" + '\n",
            "  '0.017*\"make\" + 0.015*\"back\" + 0.014*\"sushi\" + 0.014*\"eat\" + 0.014*\"would\"'),\n",
            " (1,\n",
            "  '0.052*\"chicken\" + 0.045*\"roll\" + 0.034*\"hot\" + 0.031*\"fry\" + 0.020*\"sauce\" '\n",
            "  '+ 0.018*\"spicy\" + 0.017*\"mexican\" + 0.017*\"rice\" + 0.016*\"soup\" + '\n",
            "  '0.015*\"fish\"'),\n",
            " (2,\n",
            "  '0.076*\"not\" + 0.046*\"be\" + 0.037*\"do\" + 0.019*\"know\" + 0.015*\"can\" + '\n",
            "  '0.015*\"bagel\" + 0.014*\"say\" + 0.014*\"s\" + 0.014*\"think\" + 0.012*\"star\"'),\n",
            " (3,\n",
            "  '0.081*\"good\" + 0.060*\"food\" + 0.057*\"place\" + 0.053*\"great\" + '\n",
            "  '0.035*\"service\" + 0.029*\"always\" + 0.028*\"love\" + 0.017*\"have\" + '\n",
            "  '0.017*\"friendly\" + 0.015*\"lunch\"'),\n",
            " (4,\n",
            "  '0.037*\"bar\" + 0.016*\"sit\" + 0.014*\"old\" + 0.011*\"coffee\" + 0.011*\"cafe\" + '\n",
            "  '0.011*\"local\" + 0.010*\"kid\" + 0.010*\"line\" + 0.010*\"walk\" + 0.009*\"cool\"'),\n",
            " (5,\n",
            "  '0.072*\"pie\" + 0.062*\"pizza\" + 0.035*\"salad\" + 0.027*\"cheese\" + '\n",
            "  '0.019*\"bread\" + 0.018*\"slice\" + 0.015*\"sauce\" + 0.013*\"italian\" + '\n",
            "  '0.013*\"cream\" + 0.013*\"bbq\"')]\n"
          ],
          "name": "stdout"
        }
      ]
    },
    {
      "cell_type": "markdown",
      "metadata": {
        "id": "YmlFAb5I31G4",
        "colab_type": "text"
      },
      "source": [
        "##14. Compute Model Perplexity and Coherence Score"
      ]
    },
    {
      "cell_type": "code",
      "metadata": {
        "id": "ygLJssoW32KK",
        "colab_type": "code",
        "outputId": "697ff92c-3d01-4eec-fa97-9fca3ebba582",
        "colab": {
          "base_uri": "https://localhost:8080/",
          "height": 84
        }
      },
      "source": [
        "# Compute Perplexity\n",
        "print('\\nPerplexity: ', lda_model.log_perplexity(corpus))  # a measure of how good the model is. lower the better.\n",
        "\n",
        "# Compute Coherence Score\n",
        "coherence_model_lda = CoherenceModel(model=lda_model, texts=data_lemmatized, dictionary=id2word, coherence='c_v')\n",
        "coherence_lda = coherence_model_lda.get_coherence()\n",
        "print('\\nCoherence Score: ', coherence_lda)"
      ],
      "execution_count": 0,
      "outputs": [
        {
          "output_type": "stream",
          "text": [
            "\n",
            "Perplexity:  -7.435416695853526\n",
            "\n",
            "Coherence Score:  0.4358264454981806\n"
          ],
          "name": "stdout"
        }
      ]
    },
    {
      "cell_type": "markdown",
      "metadata": {
        "id": "WCDQ-N8c3560",
        "colab_type": "text"
      },
      "source": [
        "##15. Visualize the topics-keywords"
      ]
    },
    {
      "cell_type": "code",
      "metadata": {
        "id": "0aeGDlaD36vs",
        "colab_type": "code",
        "outputId": "813b4b50-6757-4d96-8ef6-440db92e6c72",
        "colab": {
          "base_uri": "https://localhost:8080/",
          "height": 881
        }
      },
      "source": [
        "# Visualize the topics\n",
        "pyLDAvis.enable_notebook()\n",
        "vis = pyLDAvis.gensim.prepare(lda_model, corpus, id2word)\n",
        "vis"
      ],
      "execution_count": 0,
      "outputs": [
        {
          "output_type": "execute_result",
          "data": {
            "text/html": [
              "\n",
              "<link rel=\"stylesheet\" type=\"text/css\" href=\"https://cdn.rawgit.com/bmabey/pyLDAvis/files/ldavis.v1.0.0.css\">\n",
              "\n",
              "\n",
              "<div id=\"ldavis_el1411402800744075125696336830\"></div>\n",
              "<script type=\"text/javascript\">\n",
              "\n",
              "var ldavis_el1411402800744075125696336830_data = {\"mdsDat\": {\"Freq\": [33.542266845703125, 25.64327049255371, 16.209836959838867, 9.285484313964844, 7.661448955535889, 7.65769100189209], \"cluster\": [1, 1, 1, 1, 1, 1], \"topics\": [1, 2, 3, 4, 5, 6], \"x\": [0.20856465647465552, 0.19288981717846626, 0.18178131086293783, -0.2477072066736414, -0.07381897681359709, -0.2617096010288209], \"y\": [-0.09132376502047905, -0.18663777225705352, 0.14654084658280117, -0.13717306594129525, 0.3444762420964192, -0.07588248546039249]}, \"tinfo\": {\"Category\": [\"Default\", \"Default\", \"Default\", \"Default\", \"Default\", \"Default\", \"Default\", \"Default\", \"Default\", \"Default\", \"Default\", \"Default\", \"Default\", \"Default\", \"Default\", \"Default\", \"Default\", \"Default\", \"Default\", \"Default\", \"Default\", \"Default\", \"Default\", \"Default\", \"Default\", \"Default\", \"Default\", \"Default\", \"Default\", \"Default\", \"Topic1\", \"Topic1\", \"Topic1\", \"Topic1\", \"Topic1\", \"Topic1\", \"Topic1\", \"Topic1\", \"Topic1\", \"Topic1\", \"Topic1\", \"Topic1\", \"Topic1\", \"Topic1\", \"Topic1\", \"Topic1\", \"Topic1\", \"Topic1\", \"Topic1\", \"Topic1\", \"Topic1\", \"Topic1\", \"Topic1\", \"Topic1\", \"Topic1\", \"Topic1\", \"Topic1\", \"Topic1\", \"Topic1\", \"Topic1\", \"Topic1\", \"Topic1\", \"Topic1\", \"Topic1\", \"Topic1\", \"Topic1\", \"Topic1\", \"Topic1\", \"Topic1\", \"Topic1\", \"Topic1\", \"Topic1\", \"Topic1\", \"Topic1\", \"Topic1\", \"Topic1\", \"Topic1\", \"Topic2\", \"Topic2\", \"Topic2\", \"Topic2\", \"Topic2\", \"Topic2\", \"Topic2\", \"Topic2\", \"Topic2\", \"Topic2\", \"Topic2\", \"Topic2\", \"Topic2\", \"Topic2\", \"Topic2\", \"Topic2\", \"Topic2\", \"Topic2\", \"Topic2\", \"Topic2\", \"Topic2\", \"Topic2\", \"Topic2\", \"Topic2\", \"Topic2\", \"Topic2\", \"Topic2\", \"Topic2\", \"Topic2\", \"Topic2\", \"Topic2\", \"Topic2\", \"Topic2\", \"Topic2\", \"Topic2\", \"Topic2\", \"Topic2\", \"Topic2\", \"Topic2\", \"Topic2\", \"Topic3\", \"Topic3\", \"Topic3\", \"Topic3\", \"Topic3\", \"Topic3\", \"Topic3\", \"Topic3\", \"Topic3\", \"Topic3\", \"Topic3\", \"Topic3\", \"Topic3\", \"Topic3\", \"Topic3\", \"Topic3\", \"Topic3\", \"Topic3\", \"Topic3\", \"Topic3\", \"Topic3\", \"Topic3\", \"Topic3\", \"Topic3\", \"Topic3\", \"Topic3\", \"Topic3\", \"Topic3\", \"Topic3\", \"Topic3\", \"Topic3\", \"Topic3\", \"Topic3\", \"Topic3\", \"Topic3\", \"Topic3\", \"Topic3\", \"Topic3\", \"Topic3\", \"Topic3\", \"Topic3\", \"Topic3\", \"Topic3\", \"Topic3\", \"Topic3\", \"Topic3\", \"Topic3\", \"Topic3\", \"Topic3\", \"Topic3\", \"Topic3\", \"Topic3\", \"Topic3\", \"Topic4\", \"Topic4\", \"Topic4\", \"Topic4\", \"Topic4\", \"Topic4\", \"Topic4\", \"Topic4\", \"Topic4\", \"Topic4\", \"Topic4\", \"Topic4\", \"Topic4\", \"Topic4\", \"Topic4\", \"Topic4\", \"Topic4\", \"Topic4\", \"Topic4\", \"Topic4\", \"Topic4\", \"Topic4\", \"Topic4\", \"Topic4\", \"Topic4\", \"Topic4\", \"Topic4\", \"Topic4\", \"Topic4\", \"Topic4\", \"Topic4\", \"Topic4\", \"Topic4\", \"Topic4\", \"Topic4\", \"Topic4\", \"Topic4\", \"Topic4\", \"Topic4\", \"Topic4\", \"Topic5\", \"Topic5\", \"Topic5\", \"Topic5\", \"Topic5\", \"Topic5\", \"Topic5\", \"Topic5\", \"Topic5\", \"Topic5\", \"Topic5\", \"Topic5\", \"Topic5\", \"Topic5\", \"Topic5\", \"Topic5\", \"Topic5\", \"Topic5\", \"Topic5\", \"Topic5\", \"Topic5\", \"Topic5\", \"Topic5\", \"Topic5\", \"Topic5\", \"Topic5\", \"Topic5\", \"Topic5\", \"Topic5\", \"Topic5\", \"Topic5\", \"Topic5\", \"Topic5\", \"Topic6\", \"Topic6\", \"Topic6\", \"Topic6\", \"Topic6\", \"Topic6\", \"Topic6\", \"Topic6\", \"Topic6\", \"Topic6\", \"Topic6\", \"Topic6\", \"Topic6\", \"Topic6\", \"Topic6\", \"Topic6\", \"Topic6\", \"Topic6\", \"Topic6\", \"Topic6\", \"Topic6\", \"Topic6\", \"Topic6\", \"Topic6\", \"Topic6\", \"Topic6\", \"Topic6\", \"Topic6\", \"Topic6\", \"Topic6\", \"Topic6\", \"Topic6\", \"Topic6\", \"Topic6\", \"Topic6\", \"Topic6\", \"Topic6\", \"Topic6\", \"Topic6\", \"Topic6\", \"Topic6\"], \"Freq\": [48375.0, 28588.0, 35810.0, 33684.0, 31431.0, 12853.0, 17131.0, 11079.0, 20620.0, 11137.0, 13839.0, 27584.0, 17343.0, 10329.0, 16955.0, 19118.0, 25050.0, 17593.0, 16261.0, 7372.0, 6659.0, 6193.0, 6580.0, 9903.0, 7278.0, 13268.0, 7003.0, 11375.0, 5901.0, 10908.0, 19117.23828125, 17592.541015625, 16260.6435546875, 11374.298828125, 10907.6064453125, 8800.1962890625, 6282.84326171875, 6053.419921875, 5371.0634765625, 5233.10986328125, 5135.51416015625, 4738.70068359375, 4652.4091796875, 4420.23779296875, 4199.8779296875, 4200.7880859375, 4050.981201171875, 3845.873779296875, 3498.851806640625, 3425.58349609375, 3290.05517578125, 3274.62890625, 3127.234375, 3024.41552734375, 3016.93896484375, 2879.030029296875, 2862.566162109375, 2797.323486328125, 2746.947509765625, 2594.948974609375, 12970.5927734375, 26458.314453125, 4642.33935546875, 4416.6181640625, 23313.501953125, 6668.0703125, 5053.2998046875, 5584.048828125, 10678.6630859375, 10720.876953125, 6504.37353515625, 6701.96728515625, 6810.9248046875, 5619.6904296875, 7729.412109375, 7452.82373046875, 4719.42578125, 48374.515625, 35809.15625, 33683.7109375, 31430.21875, 20619.197265625, 17342.416015625, 16954.1484375, 9903.01171875, 8702.5185546875, 7899.07763671875, 7462.06396484375, 7308.6416015625, 5639.32861328125, 5305.89794921875, 5193.076171875, 4605.62646484375, 4432.77783203125, 4270.1767578125, 4126.70166015625, 4047.2373046875, 3844.678466796875, 3767.32275390625, 3677.64013671875, 3552.162353515625, 3163.8779296875, 3136.737060546875, 3096.35888671875, 2887.507568359375, 2762.91943359375, 2661.787841796875, 8793.4599609375, 5035.14111328125, 5620.13623046875, 10254.1220703125, 8059.32373046875, 6905.26318359375, 6865.4814453125, 5511.494140625, 4499.8701171875, 4287.791015625, 28587.072265625, 17130.833984375, 13838.5009765625, 7277.69140625, 5571.81591796875, 5462.07763671875, 5284.45068359375, 3457.828125, 3207.2548828125, 2384.34912109375, 2145.095703125, 2134.73583984375, 2086.775146484375, 2004.8048095703125, 1635.595947265625, 1625.5765380859375, 1428.4068603515625, 1246.827880859375, 1212.697021484375, 1202.8831787109375, 1146.8743896484375, 1131.6505126953125, 1127.5006103515625, 1070.371337890625, 1066.5986328125, 1030.7198486328125, 983.2976684570312, 925.4931640625, 919.4625244140625, 919.2733764648438, 3651.362548828125, 1688.11474609375, 1909.806884765625, 4664.4296875, 1749.2503662109375, 5184.6376953125, 2435.32666015625, 1966.716552734375, 2000.4749755859375, 1450.1527099609375, 2052.60107421875, 1559.653564453125, 1519.401123046875, 4379.6982421875, 4320.2373046875, 5378.01318359375, 1905.9049072265625, 3244.5751953125, 3351.70703125, 2848.861083984375, 3782.818115234375, 2147.249755859375, 2182.009765625, 11136.8173828125, 6579.37451171875, 3875.44091796875, 3653.275146484375, 3604.4072265625, 3365.575439453125, 3243.271728515625, 3123.15478515625, 2893.911865234375, 2800.039794921875, 2338.540283203125, 2261.233642578125, 2229.145263671875, 2161.38623046875, 2076.12255859375, 1864.1025390625, 1815.961669921875, 1684.3614501953125, 1578.888427734375, 1396.83251953125, 1332.709228515625, 1308.2509765625, 1249.997314453125, 1178.1348876953125, 1170.464111328125, 1109.70654296875, 1056.595703125, 1014.957763671875, 1004.7967529296875, 882.6805419921875, 7350.779296875, 9759.916015625, 3016.796875, 2467.84521484375, 4371.36279296875, 2659.5751953125, 2196.43359375, 1730.1085205078125, 1649.4739990234375, 1843.36669921875, 6659.013671875, 2555.0693359375, 1993.958984375, 1970.4248046875, 1971.2225341796875, 1807.400390625, 1681.67041015625, 1520.4554443359375, 1459.72900390625, 1420.428466796875, 1388.3802490234375, 1250.9046630859375, 1228.92041015625, 1154.5980224609375, 1124.4671630859375, 1116.170654296875, 1104.91796875, 1105.85205078125, 1103.3895263671875, 1061.6529541015625, 1046.656005859375, 1027.3883056640625, 1025.1990966796875, 987.2061767578125, 958.76220703125, 944.1500854492188, 923.9456787109375, 865.259521484375, 803.7959594726562, 773.6773071289062, 2812.074951171875, 1760.547119140625, 1864.0889892578125, 12852.427734375, 11078.1435546875, 6192.16064453125, 3362.040283203125, 3211.4931640625, 2357.248046875, 2328.77880859375, 2290.697509765625, 2120.85986328125, 2117.409423828125, 1585.108154296875, 1261.145751953125, 1257.82666015625, 1195.4404296875, 1194.30615234375, 1168.3980712890625, 1095.5914306640625, 1000.3795776367188, 874.0380249023438, 854.4445190429688, 849.565185546875, 832.8928833007812, 796.5266723632812, 764.45947265625, 744.9453735351562, 698.2070922851562, 656.6649780273438, 951.5267944335938, 713.8392944335938, 650.6588745117188, 1423.983642578125, 4715.3662109375, 796.3377685546875, 2631.011962890625, 1526.54833984375, 1504.51904296875, 895.2901611328125, 1048.636962890625, 1027.5164794921875, 981.4714965820312, 929.7072143554688], \"Term\": [\"good\", \"not\", \"food\", \"place\", \"great\", \"pie\", \"be\", \"pizza\", \"service\", \"chicken\", \"do\", \"go\", \"always\", \"roll\", \"love\", \"time\", \"get\", \"order\", \"come\", \"hot\", \"bar\", \"salad\", \"fry\", \"friendly\", \"know\", \"make\", \"sauce\", \"back\", \"cheese\", \"sushi\", \"time\", \"order\", \"come\", \"back\", \"sushi\", \"take\", \"wait\", \"meal\", \"dinner\", \"first\", \"experience\", \"night\", \"friend\", \"server\", \"visit\", \"home\", \"ask\", \"last\", \"long\", \"bring\", \"next\", \"bit\", \"busy\", \"quick\", \"large\", \"keep\", \"waitress\", \"different\", \"wife\", \"everyone\", \"make\", \"go\", \"sure\", \"day\", \"get\", \"menu\", \"enjoy\", \"drink\", \"would\", \"eat\", \"even\", \"well\", \"little\", \"special\", \"try\", \"really\", \"never\", \"good\", \"food\", \"place\", \"great\", \"service\", \"always\", \"love\", \"friendly\", \"price\", \"staff\", \"favorite\", \"amazing\", \"awesome\", \"location\", \"excellent\", \"fast\", \"family\", \"breakfast\", \"beer\", \"wing\", \"sandwich\", \"happy_hour\", \"recommend\", \"quality\", \"clean\", \"atmosphere\", \"super\", \"phoenix\", \"spot\", \"town\", \"lunch\", \"ever\", \"year\", \"have\", \"restaurant\", \"fresh\", \"delicious\", \"nice\", \"try\", \"really\", \"not\", \"be\", \"do\", \"know\", \"can\", \"bagel\", \"s\", \"burger\", \"dog\", \"will\", \"anything\", \"let\", \"chili\", \"that\", \"cheap\", \"guy\", \"wrong\", \"buy\", \"mean\", \"one\", \"there\", \"believe\", \"head\", \"talk\", \"yelp\", \"onion_ring\", \"value\", \"read\", \"fact\", \"life\", \"review\", \"name\", \"expect\", \"star\", \"reason\", \"think\", \"may\", \"call\", \"ill\", \"else\", \"probably\", \"real\", \"maybe\", \"thing\", \"look\", \"say\", \"actually\", \"see\", \"want\", \"much\", \"have\", \"people\", \"find\", \"chicken\", \"fry\", \"spicy\", \"mexican\", \"rice\", \"soup\", \"fish\", \"salsa\", \"chip\", \"shrimp\", \"grill\", \"beef\", \"taco\", \"bowl\", \"egg\", \"bean\", \"burrito\", \"green\", \"veggie\", \"wasabi\", \"potato\", \"orange\", \"red\", \"pork\", \"teriyaki\", \"combo\", \"margarita\", \"enchilada\", \"tempura\", \"jalapeno\", \"hot\", \"roll\", \"dish\", \"meat\", \"sauce\", \"flavor\", \"taste\", \"sweet\", \"side\", \"fresh\", \"bar\", \"old\", \"coffee\", \"local\", \"cafe\", \"line\", \"cool\", \"dining\", \"door\", \"watch\", \"game\", \"bartender\", \"room\", \"neighborhood\", \"wall\", \"morning\", \"crowd\", \"coupon\", \"boyfriend\", \"front\", \"play\", \"patio\", \"north\", \"tip\", \"parking\", \"rock\", \"cute\", \"fine\", \"establishment\", \"kitchen\", \"sit\", \"walk\", \"kid\", \"pie\", \"pizza\", \"salad\", \"bread\", \"slice\", \"italian\", \"cream\", \"bbq\", \"pasta\", \"dessert\", \"crust\", \"tomato\", \"chocolate\", \"sausage\", \"mention\", \"garlic\", \"topping\", \"wine\", \"chicago\", \"meatball\", \"mushroom\", \"honey\", \"lobster\", \"ice_cream\", \"spaghetti\", \"pecan\", \"buffalo\", \"pecan_pie\", \"crumble\", \"peach\", \"salmon\", \"cheese\", \"mouth\", \"sauce\", \"top\", \"sweet\", \"perfectly\", \"perfect\", \"flavor\", \"side\", \"delicious\"], \"Total\": [48375.0, 28588.0, 35810.0, 33684.0, 31431.0, 12853.0, 17131.0, 11079.0, 20620.0, 11137.0, 13839.0, 27584.0, 17343.0, 10329.0, 16955.0, 19118.0, 25050.0, 17593.0, 16261.0, 7372.0, 6659.0, 6193.0, 6580.0, 9903.0, 7278.0, 13268.0, 7003.0, 11375.0, 5901.0, 10908.0, 19118.177734375, 17593.48046875, 16261.583984375, 11375.2392578125, 10908.552734375, 8801.13671875, 6283.7822265625, 6054.359375, 5372.00244140625, 5234.048828125, 5136.4541015625, 4739.6396484375, 4653.3486328125, 4421.17626953125, 4200.81689453125, 4201.73095703125, 4051.919921875, 3846.81396484375, 3499.791259765625, 3426.522705078125, 3290.995849609375, 3275.56982421875, 3128.174072265625, 3025.355224609375, 3017.87744140625, 2879.969482421875, 2863.5087890625, 2798.26416015625, 2747.888671875, 2595.888916015625, 13268.3173828125, 27584.853515625, 4675.4873046875, 4444.7470703125, 25050.275390625, 6891.31298828125, 5191.4853515625, 5789.703125, 11910.4375, 12143.80859375, 7230.25, 7581.8125, 7917.87939453125, 6504.2744140625, 12493.0244140625, 11741.3779296875, 6823.37451171875, 48375.45703125, 35810.09765625, 33684.65234375, 31431.166015625, 20620.14453125, 17343.36328125, 16955.095703125, 9903.95703125, 8703.4658203125, 7900.02294921875, 7463.01025390625, 7309.587890625, 5640.2744140625, 5306.84228515625, 5194.02197265625, 4606.5712890625, 4433.72314453125, 4271.125, 4127.64794921875, 4048.181884765625, 3845.623779296875, 3768.27294921875, 3678.587158203125, 3553.108642578125, 3164.82373046875, 3137.68115234375, 3097.304931640625, 2888.45654296875, 2763.8662109375, 2662.734619140625, 8930.673828125, 5086.01318359375, 6543.87255859375, 14145.6953125, 10805.8837890625, 9302.6171875, 9440.0107421875, 8864.396484375, 12493.0244140625, 11741.3779296875, 28588.009765625, 17131.771484375, 13839.4345703125, 7278.6279296875, 5572.75244140625, 5463.015625, 5285.38671875, 3458.767333984375, 3208.193603515625, 2385.28369140625, 2146.031005859375, 2135.6728515625, 2087.7158203125, 2005.7406005859375, 1636.53125, 1626.5115966796875, 1429.3411865234375, 1247.7685546875, 1213.6339111328125, 1203.820068359375, 1147.8089599609375, 1132.5867919921875, 1128.440185546875, 1071.306396484375, 1067.533203125, 1031.662841796875, 984.237060546875, 926.42822265625, 920.399169921875, 920.210693359375, 3682.62939453125, 1691.3590087890625, 1915.9622802734375, 5030.451171875, 1806.2178955078125, 5807.26513671875, 2578.604736328125, 2051.60791015625, 2095.149658203125, 1484.1112060546875, 2186.2841796875, 1612.11181640625, 1567.708984375, 5587.09375, 6028.69287109375, 8287.078125, 2170.963134765625, 4830.6640625, 6507.1796875, 5435.5732421875, 14145.6953125, 4659.14453125, 5705.64306640625, 11137.7568359375, 6580.31494140625, 3876.378662109375, 3654.212158203125, 3605.34228515625, 3366.51220703125, 3244.212646484375, 3124.090576171875, 2894.848876953125, 2800.978515625, 2339.477783203125, 2262.16943359375, 2230.08056640625, 2162.322509765625, 2077.061767578125, 1865.0386962890625, 1816.89697265625, 1685.2977294921875, 1579.824462890625, 1397.7939453125, 1333.6500244140625, 1309.1890869140625, 1250.93798828125, 1179.0733642578125, 1171.4024658203125, 1110.6446533203125, 1057.5343017578125, 1015.8926391601562, 1005.7399291992188, 883.621826171875, 7372.3486328125, 10329.6201171875, 3628.889404296875, 2971.39794921875, 7003.126953125, 3687.84521484375, 5608.1357421875, 3394.55322265625, 4341.05712890625, 9302.6171875, 6659.9326171875, 2555.991943359375, 1994.88134765625, 1971.3455810546875, 1972.1553955078125, 1808.320556640625, 1682.59228515625, 1521.37548828125, 1460.6502685546875, 1421.3465576171875, 1389.2972412109375, 1251.8243408203125, 1229.8402099609375, 1155.5208740234375, 1125.3880615234375, 1117.0924072265625, 1105.8377685546875, 1106.7779541015625, 1104.31396484375, 1062.5733642578125, 1047.5723876953125, 1028.3070068359375, 1026.132568359375, 988.1292724609375, 959.6824951171875, 945.0712280273438, 924.8724975585938, 866.1837158203125, 804.7174072265625, 774.5988159179688, 3937.609375, 2439.157958984375, 2877.044677734375, 12853.4130859375, 11079.0791015625, 6193.09716796875, 3362.975830078125, 3212.43017578125, 2358.18359375, 2329.719482421875, 2291.64794921875, 2121.79638671875, 2118.348388671875, 1586.043212890625, 1262.0821533203125, 1258.764404296875, 1196.3759765625, 1195.2489013671875, 1169.333984375, 1096.5272216796875, 1001.3152465820312, 874.9745483398438, 855.383544921875, 850.501953125, 833.8335571289062, 797.47021484375, 765.4010620117188, 745.8876953125, 699.177001953125, 657.6036376953125, 952.890380859375, 714.8624877929688, 651.609375, 1441.97119140625, 5901.19091796875, 859.583984375, 7003.126953125, 3124.896484375, 3394.55322265625, 1160.6182861328125, 3511.931396484375, 3687.84521484375, 4341.05712890625, 9440.0107421875], \"loglift\": [30.0, 29.0, 28.0, 27.0, 26.0, 25.0, 24.0, 23.0, 22.0, 21.0, 20.0, 19.0, 18.0, 17.0, 16.0, 15.0, 14.0, 13.0, 12.0, 11.0, 10.0, 9.0, 8.0, 7.0, 6.0, 5.0, 4.0, 3.0, 2.0, 1.0, 1.0923000574111938, 1.0923000574111938, 1.0923000574111938, 1.0923000574111938, 1.0923000574111938, 1.0923000574111938, 1.0922000408172607, 1.0922000408172607, 1.0922000408172607, 1.0922000408172607, 1.0922000408172607, 1.0922000408172607, 1.0922000408172607, 1.0922000408172607, 1.0921000242233276, 1.0921000242233276, 1.0921000242233276, 1.0921000242233276, 1.0921000242233276, 1.0921000242233276, 1.0921000242233276, 1.0921000242233276, 1.0921000242233276, 1.0921000242233276, 1.0921000242233276, 1.0920000076293945, 1.0920000076293945, 1.0920000076293945, 1.0920000076293945, 1.0920000076293945, 1.069700002670288, 1.0506999492645264, 1.0851999521255493, 1.0859999656677246, 1.0204999446868896, 1.059399962425232, 1.0654000043869019, 1.0562000274658203, 0.9832000136375427, 0.9677000045776367, 0.9865999817848206, 0.968999981880188, 0.9417999982833862, 0.9462000131607056, 0.6122000217437744, 0.6377999782562256, 0.7236999869346619, 1.3609000444412231, 1.3609000444412231, 1.3609000444412231, 1.3609000444412231, 1.36080002784729, 1.36080002784729, 1.36080002784729, 1.36080002784729, 1.36080002784729, 1.36080002784729, 1.36080002784729, 1.36080002784729, 1.360700011253357, 1.360700011253357, 1.360700011253357, 1.360700011253357, 1.360700011253357, 1.360700011253357, 1.360700011253357, 1.360700011253357, 1.3605999946594238, 1.3605999946594238, 1.3605999946594238, 1.3605999946594238, 1.3605999946594238, 1.3605999946594238, 1.3605999946594238, 1.3605999946594238, 1.3604999780654907, 1.3604999780654907, 1.3453999757766724, 1.3508000373840332, 1.2086999416351318, 1.039199948310852, 1.0676000118255615, 1.0628999471664429, 1.0424000024795532, 0.885699987411499, 0.33980000019073486, 0.35350000858306885, 1.8194999694824219, 1.8194999694824219, 1.8194999694824219, 1.8193999528884888, 1.8193999528884888, 1.8193999528884888, 1.8193999528884888, 1.8193000555038452, 1.8193000555038452, 1.819200038909912, 1.819100022315979, 1.819100022315979, 1.819100022315979, 1.819100022315979, 1.819000005722046, 1.819000005722046, 1.8188999891281128, 1.8187999725341797, 1.8187999725341797, 1.8187999725341797, 1.8186999559402466, 1.8186999559402466, 1.8186999559402466, 1.8186999559402466, 1.8186999559402466, 1.818600058555603, 1.818600058555603, 1.81850004196167, 1.81850004196167, 1.81850004196167, 1.8109999895095825, 1.8176000118255615, 1.8163000345230103, 1.74399995803833, 1.787500023841858, 1.7060999870300293, 1.7624000310897827, 1.7773000001907349, 1.773300051689148, 1.7963999509811401, 1.756500005722046, 1.7864999771118164, 1.7883000373840332, 1.5760999917984009, 1.486299991607666, 1.3871999979019165, 1.6892999410629272, 1.4215999841690063, 1.1561000347137451, 1.1734999418258667, 0.5005999803543091, 1.0448999404907227, 0.858299970626831, 2.3766000270843506, 2.3766000270843506, 2.376499891281128, 2.376499891281128, 2.376499891281128, 2.3763999938964844, 2.3763999938964844, 2.3763999938964844, 2.3763999938964844, 2.3763999938964844, 2.376300096511841, 2.376300096511841, 2.376300096511841, 2.376300096511841, 2.376300096511841, 2.376199960708618, 2.376199960708618, 2.376199960708618, 2.3761000633239746, 2.375999927520752, 2.375999927520752, 2.375999927520752, 2.375999927520752, 2.3759000301361084, 2.3759000301361084, 2.3759000301361084, 2.3757998943328857, 2.3757998943328857, 2.3757998943328857, 2.375699996948242, 2.373800039291382, 2.319999933242798, 2.191999912261963, 2.190999984741211, 1.905400037765503, 2.049799919128418, 1.4392999410629272, 1.7027000188827515, 1.40910005569458, 0.7580000162124634, 2.5687999725341797, 2.5685999393463135, 2.56850004196167, 2.56850004196167, 2.56850004196167, 2.56850004196167, 2.5683999061584473, 2.5683999061584473, 2.5683000087738037, 2.5683000087738037, 2.5683000087738037, 2.56820011138916, 2.56820011138916, 2.56820011138916, 2.56820011138916, 2.5680999755859375, 2.5680999755859375, 2.5680999755859375, 2.5680999755859375, 2.5680999755859375, 2.5680999755859375, 2.5680999755859375, 2.5680999755859375, 2.568000078201294, 2.568000078201294, 2.568000078201294, 2.568000078201294, 2.5678999423980713, 2.5678000450134277, 2.5678000450134277, 2.232300043106079, 2.2428998947143555, 2.134999990463257, 2.5694000720977783, 2.5694000720977783, 2.5692999362945557, 2.569200038909912, 2.569200038909912, 2.5690999031066895, 2.5690999031066895, 2.569000005722046, 2.569000005722046, 2.569000005722046, 2.5689001083374023, 2.568700075149536, 2.568700075149536, 2.568700075149536, 2.568700075149536, 2.568700075149536, 2.5685999393463135, 2.56850004196167, 2.5683999061584473, 2.5683999061584473, 2.5683999061584473, 2.5683000087738037, 2.5683000087738037, 2.56820011138916, 2.56820011138916, 2.5680999755859375, 2.568000078201294, 2.568000078201294, 2.568000078201294, 2.568000078201294, 2.5569000244140625, 2.345099925994873, 2.493000030517578, 1.590499997138977, 1.8530999422073364, 1.7558000087738037, 2.3099000453948975, 1.36080002784729, 1.291599988937378, 1.0825999975204468, 0.2515999972820282], \"logprob\": [30.0, 29.0, 28.0, 27.0, 26.0, 25.0, 24.0, 23.0, 22.0, 21.0, 20.0, 19.0, 18.0, 17.0, 16.0, 15.0, 14.0, 13.0, 12.0, 11.0, 10.0, 9.0, 8.0, 7.0, 6.0, 5.0, 4.0, 3.0, 2.0, 1.0, -3.7065000534057617, -3.789599895477295, -3.868299961090088, -4.2256999015808105, -4.267600059509277, -4.4822998046875, -4.819200038909912, -4.856400012969971, -4.97599983215332, -5.002099990844727, -5.020899772644043, -5.10129976272583, -5.119699954986572, -5.170899868011475, -5.2220001220703125, -5.221799850463867, -5.2581000328063965, -5.310100078582764, -5.404600143432617, -5.42579984664917, -5.46619987487793, -5.470900058746338, -5.516900062561035, -5.5503997802734375, -5.552800178527832, -5.599599838256836, -5.605400085449219, -5.628399848937988, -5.646599769592285, -5.703499794006348, -4.094399929046631, -3.381500005722046, -5.1219000816345215, -5.1717000007629395, -3.507999897003174, -4.759699821472168, -5.0370001792907715, -4.93720006942749, -4.28879976272583, -4.284900188446045, -4.784599781036377, -4.754700183868408, -4.738500118255615, -4.930799961090088, -4.611999988555908, -4.648499965667725, -5.105400085449219, -2.5095999240875244, -2.81030011177063, -2.871500015258789, -2.9407999515533447, -3.362299919128418, -3.535399913787842, -3.558000087738037, -4.095699787139893, -4.224899768829346, -4.321800231933594, -4.378699779510498, -4.399499893188477, -4.65880012512207, -4.719699859619141, -4.741199970245361, -4.861299991607666, -4.899499893188477, -4.9369001388549805, -4.971099853515625, -4.990499973297119, -5.041900157928467, -5.06220006942749, -5.086299896240234, -5.120999813079834, -5.236700057983398, -5.2453999519348145, -5.258299827575684, -5.328199863433838, -5.372300148010254, -5.4095001220703125, -4.2144999504089355, -4.77209997177124, -4.662199974060059, -4.0609002113342285, -4.301700115203857, -4.456299781799316, -4.461999893188477, -4.681700229644775, -4.884500026702881, -4.932799816131592, -2.576900005340576, -3.0889999866485596, -3.3024001121520996, -3.9451000690460205, -4.212200164794922, -4.232100009918213, -4.265100002288818, -4.689199924468994, -4.764500141143799, -5.060999870300293, -5.1666998863220215, -5.171500205993652, -5.194300174713135, -5.234300136566162, -5.437900066375732, -5.443999767303467, -5.573299884796143, -5.7093000411987305, -5.736999988555908, -5.745200157165527, -5.792799949645996, -5.80620002746582, -5.809899806976318, -5.8618998527526855, -5.8653998374938965, -5.899600028991699, -5.946700096130371, -6.007299900054932, -6.013800144195557, -6.014100074768066, -4.634799957275391, -5.406300067901611, -5.282899856567383, -4.389900207519531, -5.370699882507324, -4.284200191497803, -5.03980016708374, -5.253499984741211, -5.236499786376953, -5.558199882507324, -5.2108001708984375, -5.485400199890137, -5.511600017547607, -4.452899932861328, -4.466599941253662, -4.247600078582764, -5.284900188446045, -4.752900123596191, -4.720399856567383, -4.882999897003174, -4.599400043487549, -5.1656999588012695, -5.149600028991699, -2.9625000953674316, -3.488800048828125, -4.018099784851074, -4.077099800109863, -4.09060001373291, -4.15910005569458, -4.196100234985352, -4.23390007019043, -4.310100078582764, -4.343100070953369, -4.523200035095215, -4.55679988861084, -4.571100234985352, -4.6020002365112305, -4.642199993133545, -4.749899864196777, -4.776100158691406, -4.85129976272583, -4.915999889373779, -5.03849983215332, -5.0854997634887695, -5.104000091552734, -5.149600028991699, -5.208799839019775, -5.2153000831604, -5.268599987030029, -5.317699909210205, -5.357900142669678, -5.3678998947143555, -5.497499942779541, -3.3778998851776123, -3.094399929046631, -4.268499851226807, -4.469399929046631, -3.897599935531616, -4.394599914550781, -4.585899829864502, -4.82450008392334, -4.872300148010254, -4.761099815368652, -3.2844998836517334, -4.242400169372559, -4.490300178527832, -4.502200126647949, -4.501800060272217, -4.588600158691406, -4.660699844360352, -4.761499881744385, -4.802199840545654, -4.829500198364258, -4.85230016708374, -4.956600189208984, -4.974299907684326, -5.0366997718811035, -5.063199996948242, -5.0706000328063965, -5.080699920654297, -5.079899787902832, -5.082099914550781, -5.12060022354126, -5.134900093078613, -5.15339994430542, -5.155600070953369, -5.193299770355225, -5.222599983215332, -5.2378997802734375, -5.2596001625061035, -5.325200080871582, -5.398900032043457, -5.437099933624268, -4.146500110626221, -4.614799976348877, -4.557700157165527, -2.6263999938964844, -2.7750000953674316, -3.3566999435424805, -3.967400074005127, -4.013199806213379, -4.322500228881836, -4.33459997177124, -4.351099967956543, -4.428199768066406, -4.429800033569336, -4.719299793243408, -4.947999954223633, -4.9506001472473145, -5.001500129699707, -5.002399921417236, -5.0243000984191895, -5.088699817657471, -5.179599761962891, -5.314599990844727, -5.337299823760986, -5.3429999351501465, -5.362800121307373, -5.40749979019165, -5.448599815368652, -5.474400043487549, -5.5391998291015625, -5.600599765777588, -5.229700088500977, -5.517099857330322, -5.6097002029418945, -4.826499938964844, -3.6291000843048096, -5.407700061798096, -4.212600231170654, -4.756999969482422, -4.771500110626221, -5.290599822998047, -5.132500171661377, -5.1528000831604, -5.198699951171875, -5.252900123596191]}, \"token.table\": {\"Topic\": [1, 3, 2, 2, 3, 1, 2, 2, 1, 3, 5, 5, 6, 3, 4, 4, 2, 3, 1, 4, 5, 6, 2, 1, 6, 3, 4, 1, 3, 5, 1, 3, 3, 3, 4, 6, 6, 4, 3, 4, 6, 2, 5, 4, 1, 5, 5, 6, 5, 6, 6, 5, 1, 3, 1, 2, 4, 6, 6, 1, 5, 1, 1, 4, 3, 3, 5, 1, 5, 1, 2, 3, 4, 1, 3, 4, 1, 2, 5, 1, 3, 1, 2, 1, 2, 2, 3, 1, 3, 2, 2, 2, 1, 2, 3, 5, 1, 4, 4, 6, 2, 2, 4, 6, 1, 2, 5, 4, 5, 6, 1, 3, 1, 2, 2, 2, 4, 4, 3, 2, 1, 2, 3, 3, 1, 6, 1, 4, 6, 1, 3, 6, 4, 1, 1, 5, 5, 3, 1, 1, 3, 3, 5, 1, 2, 3, 6, 5, 2, 1, 1, 2, 3, 2, 1, 2, 1, 3, 4, 1, 3, 1, 3, 1, 3, 4, 6, 6, 6, 1, 2, 4, 5, 4, 6, 1, 3, 6, 3, 5, 5, 1, 2, 1, 1, 2, 1, 5, 3, 5, 3, 3, 4, 1, 5, 6, 5, 6, 6, 6, 1, 2, 3, 1, 2, 6, 4, 6, 2, 6, 6, 2, 5, 4, 4, 2, 1, 3, 2, 1, 3, 2, 3, 1, 2, 1, 3, 2, 4, 1, 2, 1, 3, 4, 5, 1, 4, 5, 3, 6, 1, 6, 4, 2, 4, 6, 6, 1, 3, 1, 3, 5, 1, 2, 4, 1, 4, 6, 1, 5, 6, 4, 6, 1, 2, 4, 2, 2, 1, 3, 2, 1, 3, 1, 1, 4, 6, 4, 1, 3, 1, 2, 3, 4, 6, 4, 4, 3, 3, 1, 3, 1, 3, 1, 5, 6, 1, 3, 4, 6, 6, 2, 1, 2, 4, 3, 4, 1, 1, 1, 3, 5, 5, 1, 3, 4, 5, 1, 2, 1, 3, 6, 2, 1, 3, 3, 1, 2, 3], \"Freq\": [0.12160501629114151, 0.8779513239860535, 0.9999213814735413, 0.999919593334198, 0.9995195865631104, 0.9997729659080505, 0.999782919883728, 0.9997740387916565, 0.9998910427093506, 0.9998140931129456, 0.9998599886894226, 0.9993414878845215, 0.9997172355651855, 0.9999549388885498, 0.9994430541992188, 0.999483048915863, 0.9998430013656616, 0.9994819164276123, 0.9998260140419006, 0.9993883967399597, 0.9988101720809937, 0.9997098445892334, 0.9997366070747375, 0.9998474717140198, 0.999082088470459, 0.999778151512146, 0.9995062947273254, 0.9996246695518494, 0.9993840456008911, 0.9994141459465027, 0.04094349592924118, 0.9587602019309998, 0.9998649954795837, 0.9996753931045532, 0.20080693066120148, 0.7989912629127502, 0.998886227607727, 0.999932050704956, 0.999657154083252, 0.9997067451477051, 0.9993927478790283, 0.9997397065162659, 0.9995582103729248, 0.9994195699691772, 0.9999640583992004, 0.9996479749679565, 0.9992970824241638, 0.9996911883354187, 0.9992424249649048, 0.9987934827804565, 0.9993422627449036, 0.9990566372871399, 0.9937573075294495, 0.006074586417526007, 0.13972441852092743, 0.7272237539291382, 0.03442792594432831, 0.09851683676242828, 0.9993634819984436, 0.9995482563972473, 0.9990959167480469, 0.9998133778572083, 0.1683710664510727, 0.8313838243484497, 0.9999685883522034, 0.999627947807312, 0.9995548129081726, 0.9644708633422852, 0.03540768846869469, 0.8828366994857788, 0.11479100584983826, 0.002305701607838273, 0.9994888305664062, 0.022235531359910965, 0.9770157337188721, 0.9991213083267212, 0.9733245372772217, 0.026389364153146744, 0.9991084933280945, 0.8995539546012878, 0.10027315467596054, 0.009830882772803307, 0.9899699091911316, 0.9996575713157654, 0.9998032450675964, 0.0026096547953784466, 0.9968881011009216, 0.9999116063117981, 0.9984798431396484, 0.9998369216918945, 0.9998759627342224, 0.9998646378517151, 0.003680566791445017, 0.613778293132782, 0.3824284076690674, 0.9986333847045898, 0.9997996091842651, 0.9996262192726135, 0.7212883830070496, 0.2787535786628723, 0.9999693632125854, 0.7422642111778259, 0.19811628758907318, 0.059445638209581375, 0.999710202217102, 0.9999033808708191, 0.9994603991508484, 0.9998001456260681, 0.9990662336349487, 0.998859167098999, 0.9306883811950684, 0.06930063664913177, 0.9591495394706726, 0.040819503366947174, 0.9999905228614807, 0.9999629259109497, 0.9992299675941467, 0.9997957944869995, 0.9996854662895203, 0.9996622204780579, 0.007634831592440605, 0.7248848080635071, 0.2674311697483063, 0.9996098875999451, 0.9998260140419006, 0.9990003108978271, 0.002848481759428978, 0.9971042275428772, 0.998169481754303, 0.044865529984235764, 0.9545857310295105, 0.9994980692863464, 0.999296247959137, 0.9996633529663086, 0.35174983739852905, 0.6478870511054993, 0.9992269277572632, 0.99991375207901, 0.9997092485427856, 0.9997884035110474, 0.9996849298477173, 0.9986843466758728, 0.9992697238922119, 0.8602050542831421, 0.10709938406944275, 0.032584480941295624, 0.9994103908538818, 0.9993174076080322, 0.9998412728309631, 0.9997739195823669, 0.026208002120256424, 0.257103830575943, 0.7165732383728027, 0.9999353885650635, 0.015228413976728916, 0.9845841526985168, 0.9775919318199158, 0.022384149953722954, 0.9994947910308838, 0.05545634776353836, 0.9443091154098511, 0.030617928132414818, 0.9689298272132874, 0.9997754693031311, 0.9994776844978333, 0.8305854797363281, 0.16928058862686157, 0.998382568359375, 0.9989551305770874, 0.9675949811935425, 0.03221447020769119, 0.999668300151825, 0.9990221261978149, 0.07212791591882706, 0.9260293245315552, 0.4757547974586487, 0.5241397619247437, 0.9994097948074341, 0.9980140328407288, 0.0017737215384840965, 0.9995492100715637, 0.6915932893753052, 0.3082052767276764, 0.9996973872184753, 0.37814193964004517, 0.6217005252838135, 0.9998650550842285, 0.9988963007926941, 0.9999646544456482, 0.9996119141578674, 0.9993187785148621, 0.9993575215339661, 0.9990917444229126, 0.9999727010726929, 0.9992888569831848, 0.9996246695518494, 0.9987289905548096, 0.9990648031234741, 0.9983165860176086, 0.9990655779838562, 0.44858020544052124, 0.09035993367433548, 0.4608142077922821, 0.6620288491249084, 0.039294615387916565, 0.29869604110717773, 0.22832657396793365, 0.7711406946182251, 0.9998419284820557, 0.9998900890350342, 0.999902606010437, 0.999980628490448, 0.999453604221344, 0.9990896582603455, 0.9995126128196716, 0.9999464750289917, 0.06083381175994873, 0.9390361905097961, 0.9996879696846008, 0.9995520710945129, 0.9984583854675293, 0.03225582838058472, 0.9676747918128967, 0.6347636580467224, 0.3652041554450989, 0.031004011631011963, 0.968321681022644, 0.9998403787612915, 0.9992501735687256, 0.2541208267211914, 0.7457973957061768, 0.008417898789048195, 0.9914112091064453, 0.9996277093887329, 0.9988664984703064, 0.055084310472011566, 0.9448556303977966, 0.9993168115615845, 0.9997376203536987, 0.9998228549957275, 0.011789416894316673, 0.9875370860099792, 0.9996508955955505, 0.9998378157615662, 0.624149739742279, 0.3756893277168274, 0.9988498687744141, 0.35090774297714233, 0.648962140083313, 0.24240973591804504, 0.6717503070831299, 0.08590951561927795, 0.9997339248657227, 0.9999445080757141, 0.9996506571769714, 0.39391326904296875, 0.37986138463020325, 0.22598181664943695, 0.2857063412666321, 0.7141388654708862, 0.9995548129081726, 0.9998478293418884, 0.9988098740577698, 0.8640471696853638, 0.13591063022613525, 0.9996443390846252, 0.999686598777771, 0.9998705387115479, 0.07255810499191284, 0.9271534085273743, 0.9995787143707275, 0.99283766746521, 0.0068442062474787235, 0.9999493360519409, 0.046839743852615356, 0.5096399784088135, 0.44335731863975525, 0.9995154738426208, 0.9998708367347717, 0.9987805485725403, 0.3159695267677307, 0.11411991715431213, 0.06454908102750778, 0.391573965549469, 0.1135849803686142, 0.9992642998695374, 0.9988027215003967, 0.9996307492256165, 0.9992952346801758, 0.21603360772132874, 0.783949613571167, 0.10710721462965012, 0.8928471207618713, 0.9999383687973022, 0.9988571405410767, 0.999142587184906, 0.41889387369155884, 0.0019200636306777596, 0.09024298936128616, 0.4886561930179596, 0.9995191693305969, 0.9997240900993347, 0.6186652183532715, 0.36020100116729736, 0.021051747724413872, 0.9987431168556213, 0.9994781017303467, 0.9998055100440979, 0.999875545501709, 0.9998223185539246, 0.2779647707939148, 0.7219704389572144, 0.9987666010856628, 0.48484906554222107, 0.5151233077049255, 0.9994320273399353, 0.9990526437759399, 0.8839575052261353, 0.11593534052371979, 0.9996765851974487, 0.999461829662323, 0.9986864924430847, 0.9997080564498901, 0.8966085314750671, 0.10335472226142883, 0.9990617036819458, 0.14104798436164856, 0.8588187098503113, 0.9995005130767822], \"Term\": [\"actually\", \"actually\", \"always\", \"amazing\", \"anything\", \"ask\", \"atmosphere\", \"awesome\", \"back\", \"bagel\", \"bar\", \"bartender\", \"bbq\", \"be\", \"bean\", \"beef\", \"beer\", \"believe\", \"bit\", \"bowl\", \"boyfriend\", \"bread\", \"breakfast\", \"bring\", \"buffalo\", \"burger\", \"burrito\", \"busy\", \"buy\", \"cafe\", \"call\", \"call\", \"can\", \"cheap\", \"cheese\", \"cheese\", \"chicago\", \"chicken\", \"chili\", \"chip\", \"chocolate\", \"clean\", \"coffee\", \"combo\", \"come\", \"cool\", \"coupon\", \"cream\", \"crowd\", \"crumble\", \"crust\", \"cute\", \"day\", \"day\", \"delicious\", \"delicious\", \"delicious\", \"delicious\", \"dessert\", \"different\", \"dining\", \"dinner\", \"dish\", \"dish\", \"do\", \"dog\", \"door\", \"drink\", \"drink\", \"eat\", \"eat\", \"eat\", \"egg\", \"else\", \"else\", \"enchilada\", \"enjoy\", \"enjoy\", \"establishment\", \"even\", \"even\", \"ever\", \"ever\", \"everyone\", \"excellent\", \"expect\", \"expect\", \"experience\", \"fact\", \"family\", \"fast\", \"favorite\", \"find\", \"find\", \"find\", \"fine\", \"first\", \"fish\", \"flavor\", \"flavor\", \"food\", \"fresh\", \"fresh\", \"fresh\", \"friend\", \"friendly\", \"front\", \"fry\", \"game\", \"garlic\", \"get\", \"get\", \"go\", \"go\", \"good\", \"great\", \"green\", \"grill\", \"guy\", \"happy_hour\", \"have\", \"have\", \"have\", \"head\", \"home\", \"honey\", \"hot\", \"hot\", \"ice_cream\", \"ill\", \"ill\", \"italian\", \"jalapeno\", \"keep\", \"kid\", \"kid\", \"kitchen\", \"know\", \"large\", \"last\", \"let\", \"life\", \"line\", \"little\", \"little\", \"little\", \"lobster\", \"local\", \"location\", \"long\", \"look\", \"look\", \"look\", \"love\", \"lunch\", \"lunch\", \"make\", \"make\", \"margarita\", \"may\", \"may\", \"maybe\", \"maybe\", \"meal\", \"mean\", \"meat\", \"meat\", \"meatball\", \"mention\", \"menu\", \"menu\", \"mexican\", \"morning\", \"mouth\", \"mouth\", \"much\", \"much\", \"mushroom\", \"name\", \"name\", \"neighborhood\", \"never\", \"never\", \"next\", \"nice\", \"nice\", \"night\", \"north\", \"not\", \"old\", \"one\", \"onion_ring\", \"orange\", \"order\", \"parking\", \"pasta\", \"patio\", \"peach\", \"pecan\", \"pecan_pie\", \"people\", \"people\", \"people\", \"perfect\", \"perfect\", \"perfect\", \"perfectly\", \"perfectly\", \"phoenix\", \"pie\", \"pizza\", \"place\", \"play\", \"pork\", \"potato\", \"price\", \"probably\", \"probably\", \"quality\", \"quick\", \"read\", \"real\", \"real\", \"really\", \"really\", \"reason\", \"reason\", \"recommend\", \"red\", \"restaurant\", \"restaurant\", \"review\", \"review\", \"rice\", \"rock\", \"roll\", \"roll\", \"room\", \"s\", \"salad\", \"salmon\", \"salmon\", \"salsa\", \"sandwich\", \"sauce\", \"sauce\", \"sausage\", \"say\", \"say\", \"see\", \"see\", \"see\", \"server\", \"service\", \"shrimp\", \"side\", \"side\", \"side\", \"sit\", \"sit\", \"slice\", \"soup\", \"spaghetti\", \"special\", \"special\", \"spicy\", \"spot\", \"staff\", \"star\", \"star\", \"super\", \"sure\", \"sure\", \"sushi\", \"sweet\", \"sweet\", \"sweet\", \"taco\", \"take\", \"talk\", \"taste\", \"taste\", \"taste\", \"taste\", \"taste\", \"tempura\", \"teriyaki\", \"that\", \"there\", \"thing\", \"thing\", \"think\", \"think\", \"time\", \"tip\", \"tomato\", \"top\", \"top\", \"top\", \"top\", \"topping\", \"town\", \"try\", \"try\", \"try\", \"value\", \"veggie\", \"visit\", \"wait\", \"waitress\", \"walk\", \"walk\", \"wall\", \"want\", \"want\", \"wasabi\", \"watch\", \"well\", \"well\", \"wife\", \"will\", \"wine\", \"wing\", \"would\", \"would\", \"wrong\", \"year\", \"year\", \"yelp\"]}, \"R\": 30, \"lambda.step\": 0.01, \"plot.opts\": {\"xlab\": \"PC1\", \"ylab\": \"PC2\"}, \"topic.order\": [1, 4, 3, 2, 5, 6]};\n",
              "\n",
              "function LDAvis_load_lib(url, callback){\n",
              "  var s = document.createElement('script');\n",
              "  s.src = url;\n",
              "  s.async = true;\n",
              "  s.onreadystatechange = s.onload = callback;\n",
              "  s.onerror = function(){console.warn(\"failed to load library \" + url);};\n",
              "  document.getElementsByTagName(\"head\")[0].appendChild(s);\n",
              "}\n",
              "\n",
              "if(typeof(LDAvis) !== \"undefined\"){\n",
              "   // already loaded: just create the visualization\n",
              "   !function(LDAvis){\n",
              "       new LDAvis(\"#\" + \"ldavis_el1411402800744075125696336830\", ldavis_el1411402800744075125696336830_data);\n",
              "   }(LDAvis);\n",
              "}else if(typeof define === \"function\" && define.amd){\n",
              "   // require.js is available: use it to load d3/LDAvis\n",
              "   require.config({paths: {d3: \"https://cdnjs.cloudflare.com/ajax/libs/d3/3.5.5/d3.min\"}});\n",
              "   require([\"d3\"], function(d3){\n",
              "      window.d3 = d3;\n",
              "      LDAvis_load_lib(\"https://cdn.rawgit.com/bmabey/pyLDAvis/files/ldavis.v1.0.0.js\", function(){\n",
              "        new LDAvis(\"#\" + \"ldavis_el1411402800744075125696336830\", ldavis_el1411402800744075125696336830_data);\n",
              "      });\n",
              "    });\n",
              "}else{\n",
              "    // require.js not available: dynamically load d3 & LDAvis\n",
              "    LDAvis_load_lib(\"https://cdnjs.cloudflare.com/ajax/libs/d3/3.5.5/d3.min.js\", function(){\n",
              "         LDAvis_load_lib(\"https://cdn.rawgit.com/bmabey/pyLDAvis/files/ldavis.v1.0.0.js\", function(){\n",
              "                 new LDAvis(\"#\" + \"ldavis_el1411402800744075125696336830\", ldavis_el1411402800744075125696336830_data);\n",
              "            })\n",
              "         });\n",
              "}\n",
              "</script>"
            ],
            "text/plain": [
              "PreparedData(topic_coordinates=            Freq  cluster  topics         x         y\n",
              "topic                                                \n",
              "0      33.542267        1       1  0.208565 -0.091324\n",
              "3      25.643270        1       2  0.192890 -0.186638\n",
              "2      16.209837        1       3  0.181781  0.146541\n",
              "1       9.285484        1       4 -0.247707 -0.137173\n",
              "4       7.661449        1       5 -0.073819  0.344476\n",
              "5       7.657691        1       6 -0.261710 -0.075882, topic_info=     Category          Freq       Term         Total  loglift  logprob\n",
              "term                                                                  \n",
              "14    Default  48375.000000       good  48375.000000  30.0000  30.0000\n",
              "23    Default  28588.000000        not  28588.000000  29.0000  29.0000\n",
              "195   Default  35810.000000       food  35810.000000  28.0000  28.0000\n",
              "221   Default  33684.000000      place  33684.000000  27.0000  27.0000\n",
              "217   Default  31431.000000      great  31431.000000  26.0000  26.0000\n",
              "3252  Default  12853.000000        pie  12853.000000  25.0000  25.0000\n",
              "83    Default  17131.000000         be  17131.000000  24.0000  24.0000\n",
              "27    Default  11079.000000      pizza  11079.000000  23.0000  23.0000\n",
              "163   Default  20620.000000    service  20620.000000  22.0000  22.0000\n",
              "276   Default  11137.000000    chicken  11137.000000  21.0000  21.0000\n",
              "104   Default  13839.000000         do  13839.000000  20.0000  20.0000\n",
              "114   Default  27584.000000         go  27584.000000  19.0000  19.0000\n",
              "188   Default  17343.000000     always  17343.000000  18.0000  18.0000\n",
              "1215  Default  10329.000000       roll  10329.000000  17.0000  17.0000\n",
              "212   Default  16955.000000       love  16955.000000  16.0000  16.0000\n",
              "177   Default  19118.000000       time  19118.000000  15.0000  15.0000\n",
              "111   Default  25050.000000        get  25050.000000  14.0000  14.0000\n",
              "24    Default  17593.000000      order  17593.000000  13.0000  13.0000\n",
              "96    Default  16261.000000       come  16261.000000  12.0000  12.0000\n",
              "196   Default   7372.000000        hot   7372.000000  11.0000  11.0000\n",
              "331   Default   6659.000000        bar   6659.000000  10.0000  10.0000\n",
              "293   Default   6193.000000      salad   6193.000000   9.0000   9.0000\n",
              "668   Default   6580.000000        fry   6580.000000   8.0000   8.0000\n",
              "13    Default   9903.000000   friendly   9903.000000   7.0000   7.0000\n",
              "130   Default   7278.000000       know   7278.000000   6.0000   6.0000\n",
              "20    Default  13268.000000       make  13268.000000   5.0000   5.0000\n",
              "31    Default   7003.000000      sauce   7003.000000   4.0000   4.0000\n",
              "80    Default  11375.000000       back  11375.000000   3.0000   3.0000\n",
              "44    Default   5901.000000     cheese   5901.000000   2.0000   2.0000\n",
              "3086  Default  10908.000000      sushi  10908.000000   1.0000   1.0000\n",
              "...       ...           ...        ...           ...      ...      ...\n",
              "2420   Topic6   1261.145752     tomato   1262.082153   2.5687  -4.9480\n",
              "1252   Topic6   1257.826660  chocolate   1258.764404   2.5687  -4.9506\n",
              "1840   Topic6   1195.440430    sausage   1196.375977   2.5687  -5.0015\n",
              "904    Topic6   1194.306152    mention   1195.248901   2.5687  -5.0024\n",
              "52     Topic6   1168.398071     garlic   1169.333984   2.5687  -5.0243\n",
              "34     Topic6   1095.591431    topping   1096.527222   2.5686  -5.0887\n",
              "777    Topic6   1000.379578       wine   1001.315247   2.5685  -5.1796\n",
              "2113   Topic6    874.038025    chicago    874.974548   2.5684  -5.3146\n",
              "2159   Topic6    854.444519   meatball    855.383545   2.5684  -5.3373\n",
              "1387   Topic6    849.565186   mushroom    850.501953   2.5684  -5.3430\n",
              "2677   Topic6    832.892883      honey    833.833557   2.5683  -5.3628\n",
              "7729   Topic6    796.526672    lobster    797.470215   2.5683  -5.4075\n",
              "414    Topic6    764.459473  ice_cream    765.401062   2.5682  -5.4486\n",
              "5904   Topic6    744.945374  spaghetti    745.887695   2.5682  -5.4744\n",
              "2400   Topic6    698.207092      pecan    699.177002   2.5681  -5.5392\n",
              "2788   Topic6    656.664978    buffalo    657.603638   2.5680  -5.6006\n",
              "9260   Topic6    951.526794  pecan_pie    952.890381   2.5680  -5.2297\n",
              "3715   Topic6    713.839294    crumble    714.862488   2.5680  -5.5171\n",
              "3777   Topic6    650.658875      peach    651.609375   2.5680  -5.6097\n",
              "769    Topic6   1423.983643     salmon   1441.971191   2.5569  -4.8265\n",
              "44     Topic6   4715.366211     cheese   5901.190918   2.3451  -3.6291\n",
              "143    Topic6    796.337769      mouth    859.583984   2.4930  -5.4077\n",
              "31     Topic6   2631.011963      sauce   7003.126953   1.5905  -4.2126\n",
              "807    Topic6   1526.548340        top   3124.896484   1.8531  -4.7570\n",
              "225    Topic6   1504.519043      sweet   3394.553223   1.7558  -4.7715\n",
              "688    Topic6    895.290161  perfectly   1160.618286   2.3099  -5.2906\n",
              "687    Topic6   1048.636963    perfect   3511.931396   1.3608  -5.1325\n",
              "515    Topic6   1027.516479     flavor   3687.845215   1.2916  -5.1528\n",
              "1219   Topic6    981.471497       side   4341.057129   1.0826  -5.1987\n",
              "504    Topic6    929.707214  delicious   9440.010742   0.2516  -5.2529\n",
              "\n",
              "[284 rows x 6 columns], token_table=      Topic      Freq        Term\n",
              "term                             \n",
              "73        1  0.121605    actually\n",
              "73        3  0.877951    actually\n",
              "188       2  0.999921      always\n",
              "75        2  0.999920     amazing\n",
              "833       3  0.999520    anything\n",
              "38        1  0.999773         ask\n",
              "303       2  0.999783  atmosphere\n",
              "78        2  0.999774     awesome\n",
              "80        1  0.999891        back\n",
              "5403      3  0.999814       bagel\n",
              "331       5  0.999860         bar\n",
              "2095      5  0.999341   bartender\n",
              "2493      6  0.999717         bbq\n",
              "83        3  0.999955          be\n",
              "1817      4  0.999443        bean\n",
              "400       4  0.999483        beef\n",
              "729       2  0.999843        beer\n",
              "1430      3  0.999482     believe\n",
              "675       1  0.999826         bit\n",
              "2046      4  0.999388        bowl\n",
              "243       5  0.998810   boyfriend\n",
              "40        6  0.999710       bread\n",
              "3138      2  0.999737   breakfast\n",
              "385       1  0.999847       bring\n",
              "2788      6  0.999082     buffalo\n",
              "2557      3  0.999778      burger\n",
              "2518      4  0.999506     burrito\n",
              "478       1  0.999625        busy\n",
              "2330      3  0.999384         buy\n",
              "1778      5  0.999414        cafe\n",
              "...     ...       ...         ...\n",
              "807       6  0.488656         top\n",
              "34        6  0.999519     topping\n",
              "367       2  0.999724        town\n",
              "320       1  0.618665         try\n",
              "320       2  0.360201         try\n",
              "320       4  0.021052         try\n",
              "1686      3  0.998743       value\n",
              "951       4  0.999478      veggie\n",
              "426       1  0.999806       visit\n",
              "710       1  0.999876        wait\n",
              "476       1  0.999822    waitress\n",
              "329       3  0.277965        walk\n",
              "329       5  0.721970        walk\n",
              "808       5  0.998767        wall\n",
              "227       1  0.484849        want\n",
              "227       3  0.515123        want\n",
              "6930      4  0.999432      wasabi\n",
              "1871      5  0.999053       watch\n",
              "184       1  0.883958        well\n",
              "184       2  0.115935        well\n",
              "1411      1  0.999677        wife\n",
              "210       3  0.999462        will\n",
              "777       6  0.998686        wine\n",
              "186       2  0.999708        wing\n",
              "344       1  0.896609       would\n",
              "344       3  0.103355       would\n",
              "1513      3  0.999062       wrong\n",
              "590       1  0.141048        year\n",
              "590       2  0.858819        year\n",
              "315       3  0.999501        yelp\n",
              "\n",
              "[329 rows x 3 columns], R=30, lambda_step=0.01, plot_opts={'xlab': 'PC1', 'ylab': 'PC2'}, topic_order=[1, 4, 3, 2, 5, 6])"
            ]
          },
          "metadata": {
            "tags": []
          },
          "execution_count": 90
        }
      ]
    },
    {
      "cell_type": "code",
      "metadata": {
        "id": "7_HDLpsK5wXA",
        "colab_type": "code",
        "colab": {}
      },
      "source": [
        ""
      ],
      "execution_count": 0,
      "outputs": []
    },
    {
      "cell_type": "markdown",
      "metadata": {
        "id": "5bHoltDW6SiU",
        "colab_type": "text"
      },
      "source": [
        "##16. Building LDA Mallet Model"
      ]
    },
    {
      "cell_type": "code",
      "metadata": {
        "id": "4SSnJnHJkjks",
        "colab_type": "code",
        "outputId": "bb28a267-d4d5-4ba3-d3ef-376bddf2aca2",
        "colab": {
          "base_uri": "https://localhost:8080/",
          "height": 34
        }
      },
      "source": [
        "from google.colab import drive\n",
        "drive.mount('/content/gdrive', force_remount=True)"
      ],
      "execution_count": 0,
      "outputs": [
        {
          "output_type": "stream",
          "text": [
            "Mounted at /content/gdrive\n"
          ],
          "name": "stdout"
        }
      ]
    },
    {
      "cell_type": "code",
      "metadata": {
        "id": "dGPCCFTWi-K_",
        "colab_type": "code",
        "colab": {}
      },
      "source": [
        "from gensim.test.utils import common_corpus, common_dictionary\n",
        "# Download File: http://mallet.cs.umass.edu/dist/mallet-2.0.8.zip\n",
        "mallet_path = 'gdrive/My Drive/Colab Notebooks/LDA/yelp/mallet/bin/mallet'\n",
        "#mallet_path = 'gdrive/My Drive/Colab Notebooks/LDA/yelp/mallet' # update this path\n",
        "ldamallet = gensim.models.wrappers.LdaMallet(mallet_path, corpus=corpus, num_topics=20, id2word=id2word)"
      ],
      "execution_count": 0,
      "outputs": []
    },
    {
      "cell_type": "code",
      "metadata": {
        "id": "QNd0aREJf-53",
        "colab_type": "code",
        "colab": {}
      },
      "source": [
        "#load pretrained model\n",
        "ldamallet = gensim.models.wrappers.LdaMallet.load('drive/My Drive/Colab Notebooks/LDA/yelp/mallet.gensim')"
      ],
      "execution_count": 0,
      "outputs": []
    },
    {
      "cell_type": "code",
      "metadata": {
        "id": "JCDvn_7rjE11",
        "colab_type": "code",
        "outputId": "04632b9e-3d9d-4fe5-cdd4-2826d3712ce8",
        "colab": {
          "base_uri": "https://localhost:8080/",
          "height": 974
        }
      },
      "source": [
        "# Show Topics\n",
        "pprint(ldamallet.show_topics(formatted=False))\n",
        "\n",
        "# Compute Coherence Score\n",
        "coherence_model_ldamallet = CoherenceModel(model=ldamallet, texts=data_lemmatized, dictionary=id2word, coherence='c_v')\n",
        "coherence_ldamallet = coherence_model_ldamallet.get_coherence()\n",
        "print('\\nCoherence Score: ', coherence_ldamallet)"
      ],
      "execution_count": 0,
      "outputs": [
        {
          "output_type": "stream",
          "text": [
            "[(0,\n",
            "  [('pizza', 0.027078807830862014),\n",
            "   ('make', 0.022334956892480808),\n",
            "   ('time', 0.021417488565376366),\n",
            "   ('sandwich', 0.018238730655585088),\n",
            "   ('order', 0.0178231714721319),\n",
            "   ('eat', 0.014574254219679696),\n",
            "   ('find', 0.012593602007636574),\n",
            "   ('location', 0.011587085284077876),\n",
            "   ('give', 0.01139819474614461),\n",
            "   ('star', 0.01115803391934374)]),\n",
            " (1,\n",
            "  [('good', 0.03146730769752532),\n",
            "   ('chicken', 0.02888165980687679),\n",
            "   ('order', 0.024263850037848676),\n",
            "   ('sauce', 0.019485963431938855),\n",
            "   ('fresh', 0.019339452428691197),\n",
            "   ('fry', 0.017106516212527775),\n",
            "   ('lunch', 0.014813890328374569),\n",
            "   ('hot', 0.014604976490410312),\n",
            "   ('taste', 0.012835991784531152),\n",
            "   ('roll', 0.01213870793574136)]),\n",
            " (2,\n",
            "  [('food', 0.10964246956511454),\n",
            "   ('good', 0.0884023644143225),\n",
            "   ('great', 0.0873319317170391),\n",
            "   ('place', 0.06462515635118472),\n",
            "   ('love', 0.04900925835573258),\n",
            "   ('service', 0.0489353334456992),\n",
            "   ('friendly', 0.025371029123457556),\n",
            "   ('price', 0.020746286751769025),\n",
            "   ('staff', 0.018392517616306062),\n",
            "   ('amazing', 0.016097888408869807)]),\n",
            " (3,\n",
            "  [('salad', 0.01763780677707033),\n",
            "   ('restaurant', 0.016046700279878243),\n",
            "   ('dinner', 0.015694570153450483),\n",
            "   ('meal', 0.015684136668222996),\n",
            "   ('experience', 0.013378336432947903),\n",
            "   ('server', 0.011474225378931141),\n",
            "   ('make', 0.01084299952266805),\n",
            "   ('wine', 0.00966140732065491),\n",
            "   ('menu', 0.009285801852465303),\n",
            "   ('bread', 0.008967580553026884)]),\n",
            " (4,\n",
            "  [('place', 0.03353676097480697),\n",
            "   ('time', 0.0193781971282417),\n",
            "   ('wait', 0.018316716266439926),\n",
            "   ('bar', 0.016166326096794987),\n",
            "   ('drink', 0.014948503092557292),\n",
            "   ('nice', 0.01288314110564066),\n",
            "   ('breakfast', 0.011805203176214052),\n",
            "   ('good', 0.01110303495755448),\n",
            "   ('friend', 0.011001549707201339),\n",
            "   ('sit', 0.010137553656897568)])]\n",
            "\n",
            "Coherence Score:  0.3995732429175912\n"
          ],
          "name": "stdout"
        }
      ]
    },
    {
      "cell_type": "code",
      "metadata": {
        "id": "IStaXs9Y_YP9",
        "colab_type": "code",
        "outputId": "b84bcf2a-c274-422c-8e14-372233e96a1a",
        "colab": {
          "base_uri": "https://localhost:8080/",
          "height": 881
        }
      },
      "source": [
        "lda_model2 = gensim.models.wrappers.ldamallet.malletmodel2ldamodel(ldamallet)\n",
        "\n",
        "# Visualize the topics\n",
        "pyLDAvis.enable_notebook()\n",
        "vis = pyLDAvis.gensim.prepare(lda_model2, corpus, id2word)\n",
        "vis"
      ],
      "execution_count": 0,
      "outputs": [
        {
          "output_type": "execute_result",
          "data": {
            "text/html": [
              "\n",
              "<link rel=\"stylesheet\" type=\"text/css\" href=\"https://cdn.rawgit.com/bmabey/pyLDAvis/files/ldavis.v1.0.0.css\">\n",
              "\n",
              "\n",
              "<div id=\"ldavis_el1411402800840707124026620830\"></div>\n",
              "<script type=\"text/javascript\">\n",
              "\n",
              "var ldavis_el1411402800840707124026620830_data = {\"mdsDat\": {\"Freq\": [21.213042304869177, 20.476375394693232, 20.352033741555104, 20.138047024691684, 17.820501534190818], \"cluster\": [1, 1, 1, 1, 1], \"topics\": [1, 2, 3, 4, 5], \"x\": [0.00019463625041192244, -0.0001665155872876197, 0.0009838827461192672, -0.00044440994811132214, -0.0005675934611322491], \"y\": [-0.0002463445899799805, -0.0007720283084528566, 0.0003332291878815661, -0.00015897028601244558, 0.0008441139965637169]}, \"tinfo\": {\"Category\": [\"Default\", \"Default\", \"Default\", \"Default\", \"Default\", \"Default\", \"Default\", \"Default\", \"Default\", \"Default\", \"Default\", \"Default\", \"Default\", \"Default\", \"Default\", \"Default\", \"Default\", \"Default\", \"Default\", \"Default\", \"Default\", \"Default\", \"Default\", \"Default\", \"Default\", \"Default\", \"Default\", \"Default\", \"Default\", \"Default\", \"Topic1\", \"Topic1\", \"Topic1\", \"Topic1\", \"Topic1\", \"Topic1\", \"Topic1\", \"Topic1\", \"Topic1\", \"Topic1\", \"Topic1\", \"Topic1\", \"Topic1\", \"Topic1\", \"Topic1\", \"Topic1\", \"Topic1\", \"Topic1\", \"Topic1\", \"Topic1\", \"Topic1\", \"Topic1\", \"Topic1\", \"Topic1\", \"Topic1\", \"Topic1\", \"Topic1\", \"Topic1\", \"Topic1\", \"Topic1\", \"Topic1\", \"Topic1\", \"Topic1\", \"Topic1\", \"Topic1\", \"Topic1\", \"Topic1\", \"Topic1\", \"Topic1\", \"Topic1\", \"Topic1\", \"Topic1\", \"Topic1\", \"Topic1\", \"Topic1\", \"Topic1\", \"Topic1\", \"Topic1\", \"Topic2\", \"Topic2\", \"Topic2\", \"Topic2\", \"Topic2\", \"Topic2\", \"Topic2\", \"Topic2\", \"Topic2\", \"Topic2\", \"Topic2\", \"Topic2\", \"Topic2\", \"Topic2\", \"Topic2\", \"Topic2\", \"Topic2\", \"Topic2\", \"Topic2\", \"Topic2\", \"Topic2\", \"Topic2\", \"Topic2\", \"Topic2\", \"Topic2\", \"Topic2\", \"Topic2\", \"Topic2\", \"Topic2\", \"Topic2\", \"Topic2\", \"Topic2\", \"Topic2\", \"Topic2\", \"Topic2\", \"Topic2\", \"Topic2\", \"Topic2\", \"Topic2\", \"Topic2\", \"Topic2\", \"Topic2\", \"Topic2\", \"Topic2\", \"Topic2\", \"Topic2\", \"Topic2\", \"Topic2\", \"Topic2\", \"Topic2\", \"Topic2\", \"Topic2\", \"Topic2\", \"Topic2\", \"Topic3\", \"Topic3\", \"Topic3\", \"Topic3\", \"Topic3\", \"Topic3\", \"Topic3\", \"Topic3\", \"Topic3\", \"Topic3\", \"Topic3\", \"Topic3\", \"Topic3\", \"Topic3\", \"Topic3\", \"Topic3\", \"Topic3\", \"Topic3\", \"Topic3\", \"Topic3\", \"Topic3\", \"Topic3\", \"Topic3\", \"Topic3\", \"Topic3\", \"Topic3\", \"Topic3\", \"Topic3\", \"Topic3\", \"Topic3\", \"Topic3\", \"Topic3\", \"Topic3\", \"Topic3\", \"Topic3\", \"Topic3\", \"Topic3\", \"Topic3\", \"Topic3\", \"Topic3\", \"Topic3\", \"Topic3\", \"Topic3\", \"Topic3\", \"Topic3\", \"Topic3\", \"Topic3\", \"Topic3\", \"Topic3\", \"Topic3\", \"Topic3\", \"Topic3\", \"Topic3\", \"Topic4\", \"Topic4\", \"Topic4\", \"Topic4\", \"Topic4\", \"Topic4\", \"Topic4\", \"Topic4\", \"Topic4\", \"Topic4\", \"Topic4\", \"Topic4\", \"Topic4\", \"Topic4\", \"Topic4\", \"Topic4\", \"Topic4\", \"Topic4\", \"Topic4\", \"Topic4\", \"Topic4\", \"Topic4\", \"Topic4\", \"Topic4\", \"Topic4\", \"Topic4\", \"Topic4\", \"Topic4\", \"Topic4\", \"Topic4\", \"Topic4\", \"Topic4\", \"Topic4\", \"Topic4\", \"Topic4\", \"Topic4\", \"Topic4\", \"Topic4\", \"Topic4\", \"Topic4\", \"Topic4\", \"Topic4\", \"Topic4\", \"Topic4\", \"Topic4\", \"Topic4\", \"Topic4\", \"Topic4\", \"Topic4\", \"Topic5\", \"Topic5\", \"Topic5\", \"Topic5\", \"Topic5\", \"Topic5\", \"Topic5\", \"Topic5\", \"Topic5\", \"Topic5\", \"Topic5\", \"Topic5\", \"Topic5\", \"Topic5\", \"Topic5\", \"Topic5\", \"Topic5\", \"Topic5\", \"Topic5\", \"Topic5\", \"Topic5\", \"Topic5\", \"Topic5\", \"Topic5\", \"Topic5\", \"Topic5\", \"Topic5\", \"Topic5\", \"Topic5\", \"Topic5\", \"Topic5\", \"Topic5\", \"Topic5\", \"Topic5\", \"Topic5\", \"Topic5\", \"Topic5\", \"Topic5\", \"Topic5\", \"Topic5\", \"Topic5\", \"Topic5\", \"Topic5\", \"Topic5\", \"Topic5\", \"Topic5\", \"Topic5\", \"Topic5\", \"Topic5\", \"Topic5\"], \"Freq\": [64.0, 64.0, 64.0, 67.0, 63.0, 63.0, 66.0, 68.0, 64.0, 65.0, 67.0, 65.0, 67.0, 65.0, 63.0, 64.0, 68.0, 61.0, 62.0, 62.0, 64.0, 65.0, 66.0, 65.0, 59.0, 64.0, 64.0, 65.0, 62.0, 64.0, 17.451693983798258, 17.016030741036612, 18.474582876619987, 18.044732272629698, 18.36296277534903, 17.950821446989057, 16.141998857067087, 17.747601339047577, 17.4957392118421, 17.71648068415731, 17.672517159924706, 18.10064910323615, 17.13833110539674, 19.06444892190327, 18.165468777558004, 17.065283518492198, 18.001686960046523, 17.419609479396005, 17.124040782685007, 18.16778460592822, 16.321006482507283, 18.427936835030735, 17.39906407265996, 17.08837409093787, 17.029064437478503, 18.12337376385733, 17.148914769567412, 18.98937052883198, 18.194909124746225, 17.13320801223301, 18.35952580919204, 17.64682962026783, 17.788910558618834, 17.44864938508677, 17.650424937167323, 17.874650542030867, 17.786823571542538, 17.436181700277075, 17.909320796335468, 17.861982280771105, 17.596290001908365, 17.675745541513354, 17.678840165839468, 17.620185168798415, 17.801769005485212, 17.744984446971237, 17.663239790889257, 17.647531987185598, 15.893908425458802, 17.305237336270103, 17.087365630545616, 18.10792808696577, 16.69885904279176, 18.06259452042558, 16.691918514729416, 16.97459649709925, 16.65136814976164, 17.02340581783648, 16.361690902581437, 15.993308451866639, 17.154664012383193, 16.993828489693815, 16.37950626905705, 16.39866791012963, 16.122608452267873, 15.690907043161484, 16.23461603676223, 18.360381259990955, 16.496765532929565, 17.556978884075956, 16.180641062137777, 16.612757091860818, 16.305812930430868, 16.598676084611338, 15.97490257482726, 15.953051265521799, 16.6491371242726, 16.444438815895268, 16.803482484594625, 17.116796209049472, 17.11566096462651, 18.21108742229886, 17.14570829967529, 18.15045020646069, 17.876619575836134, 17.33363582144491, 17.195390848185802, 17.488063735945406, 16.870412030001507, 16.850731720673952, 16.962948491673387, 16.737778377196637, 16.908428914048955, 16.90619638710306, 16.804845460538907, 16.96167025365579, 16.94932763782361, 16.92638114864449, 16.886208874740234, 16.966344943583024, 16.851252015301476, 16.88627145407305, 17.742452333053375, 19.241298009620497, 17.630564532160708, 17.31647171131838, 16.063023956566244, 16.587815866368516, 16.737409573145715, 17.173782801468132, 15.840647196190638, 17.666773292103464, 17.506214651805653, 17.95835429869113, 16.470083053132694, 16.831399163381178, 15.858273249256165, 15.616111807858044, 16.29394479151469, 15.781769232065082, 16.417371971766656, 17.107057462429086, 16.444030852600484, 16.497120058368697, 16.077576265184632, 15.665884527634164, 16.056817945416732, 16.70113285041219, 17.205391862191924, 16.676649958096814, 16.655017021753526, 15.190486762818768, 16.734937363674426, 18.133173194902785, 17.333841633404976, 17.05410089899301, 17.117821642662083, 17.413235152855894, 17.222124489340086, 17.49213283039283, 16.94498301414919, 17.025399719869498, 17.320620841858606, 16.979474102262156, 17.51208435197608, 17.021455416923153, 16.857009476274953, 17.008818442804014, 17.089956115409137, 16.952988813422593, 16.990679203653414, 16.972613394862325, 17.137385153104276, 17.02938446674163, 17.03785949753608, 18.088616584917528, 18.00160760961342, 17.439638553073028, 16.602562850248674, 16.021435855970896, 16.825112533250326, 16.509429270286876, 16.408978343950075, 17.798161171693515, 16.213761809844087, 16.80059049454848, 16.876000464255988, 16.402120893686444, 17.02375482670938, 16.265225554077194, 15.106465659612212, 16.520716910148767, 17.000676041383343, 16.06779662160987, 14.955506878177916, 15.7462837382649, 16.844399643675505, 16.854108729971745, 16.292500210666674, 17.031796942225814, 17.102997745220726, 17.113122535059468, 17.221897936505435, 16.169326304397618, 15.817782333032351, 16.41535673488358, 16.51055001884435, 17.279189499490847, 17.192945376276544, 17.166327889491473, 17.103821941653305, 16.891813652968562, 17.602669649337496, 16.67687973021449, 17.56277950999097, 16.844540401124227, 16.957923957394215, 16.839527308440807, 16.90736590643871, 16.722244942960586, 17.10915826527872, 16.95508987333069, 16.956757761213463, 16.809826182321032, 15.883213865552497, 15.332158471518941, 14.901474934418264, 15.372343749248314, 14.920184667014318, 14.51765007459874, 14.907127605161367, 14.492264218879447, 14.602909296080933, 12.954998285631737, 14.19518576959721, 13.500669704483476, 13.69440573955186, 14.167898275252, 15.31886377665325, 14.501921269790156, 15.779553382240417, 14.51038956744376, 14.259028708787149, 14.667730244395422, 14.35251670568264, 14.45947970730624, 14.72697098613852, 14.758778347682862, 14.64887969496044, 15.317954347392336, 14.326935515121052, 14.386416814370229, 15.385600095763591, 14.935652211218345, 15.03970181759089, 14.977914447001465, 14.793561443941172, 15.00531089081147, 15.164304708043554, 15.04748351923042, 15.835408931776763, 14.862342822093787, 14.868726976980678, 15.029695788147743, 14.907785309211626, 14.977730059360939, 15.08262692485917, 14.89740722997704, 14.889646547188471, 14.8177409385656, 14.75479266125104, 14.874826660328663, 14.801856864721364, 14.76001642245853], \"Term\": [\"zoom\", \"benzs\", \"giardiarano\", \"lubbock\", \"appetiz\", \"butts\", \"stafff\", \"incognito\", \"necklace\", \"rice\", \"befitting\", \"richelle\", \"company\", \"mid_afternoon\", \"kabob\", \"quite\", \"playday\", \"uninitiated\", \"hourglass\", \"buren\", \"zbyvjajglqq\", \"authenticate\", \"hindi\", \"deshuesado\", \"psuedo\", \"rainbow_donut\", \"kart\", \"settled\", \"iain\", \"wacko\", \"servery\", \"weave\", \"wattleseed\", \"hav\", \"apporach\", \"tropic\", \"wednesday\", \"niro\", \"premade\", \"sop\", \"langoon\", \"crapola\", \"applaud\", \"kia\", \"capish\", \"ric\", \"seaonally\", \"grog\", \"holdem\", \"think\", \"person\", \"santouka\", \"chihuahuan\", \"swagger\", \"fuzzy\", \"black_for\", \"billboard\", \"au_ju\", \"distinctive\", \"handicapped\", \"pbb\", \"conglomerate\", \"thebak\", \"breastmeat\", \"acquaint\", \"elvira\", \"contribution\", \"retain\", \"basqu\", \"pit\", \"cheesesteaky\", \"diavola\", \"doodling\", \"disaffect\", \"chandler_fashion\", \"roat\", \"limoncello\", \"misery\", \"capricciosa\", \"kee\", \"knoock\", \"adem\", \"rust\", \"sscx\", \"masticate\", \"preconceived\", \"operendi\", \"touchy\", \"bobby_cs\", \"foccatia\", \"shazaam\", \"rainforest\", \"rangoone\", \"fbing\", \"coladas\", \"macarron\", \"injure\", \"stalwart\", \"microwave\", \"vertical\", \"hatter\", \"angelica\", \"seahawk\", \"accessory\", \"titti\", \"darryl\", \"anybody\", \"landscaping\", \"anywhere_else\", \"misspell\", \"purell\", \"parmeasan\", \"mushy\", \"armadillo_gold\", \"annoyed\", \"hick\", \"rejuvenation\", \"yackonomy\", \"ryoricho\", \"corbin\", \"transient\", \"sprinkled\", \"hamtramck\", \"give\", \"tantan\", \"gallo\", \"witchcraft\", \"anderson\", \"vote\", \"delicatessen\", \"seaspray\", \"agua_frescas\", \"deft\", \"knowledge\", \"curtsey\", \"roland\", \"practice\", \"oppose\", \"feast\", \"sterno\", \"charmer\", \"usairways\", \"gruesome\", \"bikeweek\", \"shorter\", \"bernardo\", \"asley\", \"nigri\", \"catcher\", \"shishito\", \"bummed\", \"hapsbbq\", \"froyo\", \"salvador\", \"anonymity\", \"rubys\", \"xxx\", \"commotion\", \"trusty\", \"macalpine\", \"baccon\", \"staying\", \"potobello\", \"pinot_noir\", \"regulate\", \"prov\", \"harden\", \"cask_condition\", \"stylus\", \"luckly\", \"goodly\", \"refried_bean\", \"print\", \"unwelcomed\", \"simulate\", \"sweeet\", \"but\", \"mayflower\", \"thoroughly_enjoy\", \"preparation\", \"troupe\", \"mmmmh\", \"prune\", \"downsides\", \"throttle\", \"tamp\", \"befitting\", \"vagrant\", \"rinse\", \"hopeless\", \"stalk\", \"el_tio\", \"cheri\", \"claustrophia\", \"beefy\", \"bridgework\", \"content\", \"scrabl\", \"croquet\", \"panty\", \"bartendar\", \"taxidermy\", \"general_tso\", \"soulful\", \"draft_beer\", \"beard\", \"bulkogi\", \"habla\", \"puertorican\", \"writt\", \"whinny\", \"obtain\", \"opposed\", \"decibel\", \"hohokam\", \"chompis\", \"yc\", \"piemaker\", \"bounty\", \"gyosa\", \"willi\", \"funny\", \"handmade\", \"activate\", \"inflate\", \"leslie\", \"unsatisfi\", \"frier\", \"barbed\", \"reccomend\", \"pross\", \"belov\", \"eiw\", \"viewpoint\", \"zoom\", \"rice\", \"kabob\", \"stafff\", \"necklace\", \"hourglass\", \"giardiarano\", \"garrish\", \"appetiz\", \"fodor\", \"moreso\", \"dea\", \"emporium\", \"iain\", \"lubbock\", \"hermanos\", \"haagen\", \"chouder\", \"critique\", \"wacko\", \"sensible\", \"benzs\", \"mid_afternoon\", \"richelle\", \"settled\", \"filling\", \"lobsterfeast\", \"honeycomb\", \"taylor_ham\", \"octogenarian\", \"tide\", \"resolution\", \"grolsch\", \"sheet\", \"restless\", \"browned_butter\", \"refrain\", \"magnetic\", \"booing\", \"sabrett\", \"inattention\", \"putem\", \"wel\", \"chease\", \"peking_duck\", \"evidently\", \"tabletop\", \"recurring\", \"kohbeday\", \"hustlin\"], \"Total\": [64.0, 64.0, 64.0, 67.0, 63.0, 63.0, 66.0, 68.0, 64.0, 65.0, 67.0, 65.0, 67.0, 65.0, 63.0, 64.0, 68.0, 61.0, 62.0, 62.0, 64.0, 65.0, 66.0, 65.0, 59.0, 64.0, 64.0, 65.0, 62.0, 64.0, 62.856512093923186, 61.358634896836286, 67.06784624593443, 66.72843803368114, 67.94515164761954, 66.44128267604829, 59.77131297040616, 65.93471716099458, 65.31863936265668, 66.14491320084053, 66.24665368295886, 67.85338422669193, 64.36752191783846, 71.69394964975787, 68.34720812724419, 64.30720969440617, 67.87887088399287, 65.6857647994041, 64.62402710013062, 68.773001174668, 61.878768832869575, 69.90988689938447, 66.02856463176903, 64.85784930360478, 64.7055332104765, 68.87724165791789, 65.1784179463367, 72.18455391467946, 69.1998665515781, 65.1660137170133, 70.17093569020936, 67.387586759972, 68.15336062303814, 66.59779091723479, 67.62036329247876, 68.86633563611639, 68.71675850399346, 66.67715188169373, 69.95934537635402, 69.83835430736798, 67.82681035608007, 68.78471825365759, 68.91637263261006, 69.13671225115269, 73.10615110260972, 72.81716084232578, 70.3978768343168, 69.97890439962144, 60.14638851548264, 65.56376490121899, 65.306611914162, 69.25978259123833, 64.01384849905615, 69.44468797427254, 64.23630383203907, 65.52556076542044, 64.36686728683189, 65.88359130561513, 63.53174466996413, 62.15840696929886, 66.71484718522821, 66.20469691803366, 63.83364203885381, 63.92463959908736, 63.07538718632009, 61.41535912430398, 63.61704156492806, 71.94713790435046, 64.65568130532114, 68.88583100863052, 63.53426492945004, 65.28814860752365, 64.08690871846119, 65.24100700588701, 62.79494549657114, 62.875411311402225, 65.62679534599951, 64.9066140980048, 66.49317948106743, 67.88388461720096, 67.9145987080285, 73.06241408709182, 68.08861465452989, 73.12083281296712, 71.83952986916616, 69.24775209503608, 68.5722571071332, 70.35188716840439, 66.89702879230434, 67.11031860192284, 68.16495258610217, 66.68309827723282, 68.35965687795489, 68.3827633736511, 67.4034252267866, 69.1666671653363, 69.02832942872762, 69.0314623865231, 69.12217837367336, 71.66642876523451, 68.3624675892664, 71.04046840694255, 64.37419779301523, 71.2527990655672, 66.1721825959925, 65.21321336181529, 60.574381280551066, 63.218513202879365, 63.82262378959611, 66.25397734597418, 61.64749929169377, 68.75997478307221, 68.17431194390487, 70.0551892542741, 64.25115680594052, 65.76539720017192, 62.00412603068346, 61.0677413425687, 63.76979705652991, 61.80516829358841, 64.36329193228902, 67.09785531882872, 64.5869289381984, 64.92317992758181, 63.27348807260901, 61.66722946492803, 63.22428922848407, 65.76197145094585, 67.75596422639211, 65.69139807117745, 65.63679156726491, 59.9244753336797, 66.13423339431453, 72.08758258266458, 68.77842428290984, 67.56048359061552, 67.93090542864482, 69.34691214743691, 68.68593616460733, 70.12558305939146, 67.39256131788082, 68.00243301759473, 69.85761074848914, 67.97148235021477, 71.77227881975602, 68.52336279775803, 67.24043505523365, 69.02574192233317, 70.12318193474685, 68.90313153904293, 69.71736999411034, 69.4163653006607, 72.89166341460444, 70.89888836647549, 71.95321242834467, 66.2991712877964, 67.26827500459433, 65.51731964738434, 63.180225951801674, 61.59950722880649, 64.7616928147016, 63.56898560478067, 63.44181592423258, 68.87225036718627, 62.798780221793436, 65.19256863127448, 65.83817224831239, 64.25685061558232, 66.69858077698017, 63.78643259053583, 59.27941016676673, 64.86261195247066, 66.85452730535336, 63.23291475831539, 58.89361480442541, 62.05450454826452, 66.49774151947791, 66.54702570617499, 64.61804739733432, 67.60468583359457, 68.01340005080428, 68.16655324410661, 68.60893419009109, 64.49546954128205, 63.09670885833147, 65.48538243956423, 65.86942176020598, 68.97418843783387, 68.71998534673656, 68.72066308844194, 68.81566875758989, 67.75669695045345, 71.49113106663106, 66.75447769647363, 72.91145052740049, 68.12316660877322, 69.23473486095627, 68.49220835270941, 70.41130335409133, 67.83067437835675, 74.10837227330236, 71.86026967609519, 72.0777360149908, 70.27682999436033, 64.13095199645745, 65.36833016204147, 63.81135476650921, 66.06181662601115, 64.36760586922168, 62.64399016214583, 64.65625412276316, 63.30680586409824, 63.90681330618056, 56.743567918061466, 62.23497122238054, 59.25785691459973, 60.19740901828607, 62.34646930844449, 67.51549940275912, 63.97735642975833, 69.72755752219636, 64.16871144288272, 63.10610084658593, 64.97843174791291, 63.71961898095284, 64.20629394955381, 65.44736200115943, 65.63013738063964, 65.1696299157879, 68.18413176248572, 63.782587027594886, 64.14268831400341, 68.61529971287958, 66.86248433433366, 67.61524779131146, 67.30546020519215, 66.37903194386718, 67.58032476983195, 68.71119014788378, 68.30496781473926, 73.86814954906053, 67.17608018825692, 67.37619043514557, 68.64852182528158, 68.18691710767975, 69.48371575979037, 70.87076718930399, 68.80129177453739, 68.77377393424703, 68.0542635559082, 66.8701268387164, 69.85113374663518, 70.15241258537051, 68.46578342049023], \"loglift\": [30.0, 29.0, 28.0, 27.0, 26.0, 25.0, 24.0, 23.0, 22.0, 21.0, 20.0, 19.0, 18.0, 17.0, 16.0, 15.0, 14.0, 13.0, 12.0, 11.0, 10.0, 9.0, 8.0, 7.0, 6.0, 5.0, 4.0, 3.0, 2.0, 1.0, 0.2691, 0.268, 0.2612, 0.2428, 0.2422, 0.2419, 0.2415, 0.2381, 0.2332, 0.2332, 0.2292, 0.2292, 0.2273, 0.226, 0.2255, 0.2239, 0.2233, 0.2233, 0.2225, 0.2194, 0.2178, 0.2172, 0.2169, 0.2168, 0.2156, 0.2154, 0.2154, 0.2152, 0.2147, 0.2146, 0.2098, 0.2106, 0.2074, 0.2111, 0.2074, 0.2018, 0.199, 0.2092, 0.188, 0.187, 0.2013, 0.1918, 0.19, 0.1835, 0.1379, 0.1387, 0.1679, 0.173, 0.2551, 0.2539, 0.2451, 0.2444, 0.2421, 0.2392, 0.2383, 0.2352, 0.2338, 0.2326, 0.2293, 0.2284, 0.2277, 0.226, 0.2256, 0.2254, 0.2218, 0.2213, 0.2202, 0.2202, 0.22, 0.2189, 0.2181, 0.2173, 0.2172, 0.2171, 0.217, 0.2144, 0.2143, 0.2129, 0.2104, 0.2082, 0.2076, 0.1966, 0.2068, 0.1925, 0.195, 0.2009, 0.2027, 0.1939, 0.2083, 0.204, 0.195, 0.2036, 0.1889, 0.1885, 0.1969, 0.1803, 0.1816, 0.1802, 0.1765, 0.1451, 0.1855, 0.1491, 0.3032, 0.2828, 0.2694, 0.266, 0.2646, 0.2541, 0.2535, 0.2419, 0.2331, 0.2331, 0.2325, 0.2308, 0.2307, 0.2291, 0.2285, 0.2283, 0.2275, 0.2269, 0.2258, 0.2253, 0.2239, 0.222, 0.2219, 0.2217, 0.2214, 0.2214, 0.2213, 0.221, 0.2206, 0.2196, 0.2178, 0.2119, 0.2138, 0.2154, 0.2136, 0.2101, 0.2086, 0.2035, 0.2114, 0.2072, 0.1974, 0.2049, 0.1814, 0.1993, 0.2085, 0.1912, 0.1802, 0.1897, 0.1802, 0.1835, 0.1443, 0.1657, 0.1514, 0.3037, 0.2843, 0.279, 0.2661, 0.2558, 0.2547, 0.2544, 0.2503, 0.2494, 0.2485, 0.2466, 0.2413, 0.2371, 0.237, 0.236, 0.2354, 0.2349, 0.2333, 0.2326, 0.2319, 0.2312, 0.2294, 0.2292, 0.2248, 0.224, 0.2221, 0.2205, 0.2203, 0.2191, 0.219, 0.2189, 0.2189, 0.2183, 0.217, 0.2155, 0.2104, 0.2135, 0.201, 0.2156, 0.1791, 0.2053, 0.1958, 0.1996, 0.176, 0.2023, 0.1366, 0.1584, 0.1555, 0.1721, 0.3292, 0.2747, 0.2703, 0.2668, 0.2629, 0.2627, 0.2576, 0.2504, 0.2486, 0.2478, 0.2468, 0.2457, 0.2442, 0.2431, 0.2415, 0.2406, 0.2389, 0.2382, 0.2374, 0.2364, 0.2343, 0.2341, 0.2333, 0.2326, 0.2322, 0.2316, 0.2315, 0.23, 0.2297, 0.2259, 0.2217, 0.2222, 0.2236, 0.2199, 0.2139, 0.212, 0.1848, 0.2163, 0.2138, 0.2058, 0.2045, 0.1903, 0.1775, 0.1948, 0.1947, 0.2003, 0.2136, 0.1781, 0.1689, 0.1904], \"logprob\": [30.0, 29.0, 28.0, 27.0, 26.0, 25.0, 24.0, 23.0, 22.0, 21.0, 20.0, 19.0, 18.0, 17.0, 16.0, 15.0, 14.0, 13.0, 12.0, 11.0, 10.0, 9.0, 8.0, 7.0, 6.0, 5.0, 4.0, 3.0, 2.0, 1.0, -10.2472, -10.2725, -10.1902, -10.2138, -10.1963, -10.219, -10.3252, -10.2304, -10.2447, -10.2321, -10.2346, -10.2107, -10.2653, -10.1588, -10.2071, -10.2696, -10.2162, -10.249, -10.2662, -10.207, -10.3142, -10.1928, -10.2502, -10.2682, -10.2717, -10.2094, -10.2647, -10.1628, -10.2055, -10.2656, -10.1965, -10.2361, -10.2281, -10.2474, -10.2359, -10.2233, -10.2282, -10.2481, -10.2213, -10.224, -10.2389, -10.2344, -10.2343, -10.2376, -10.2273, -10.2305, -10.2352, -10.236, -10.3054, -10.2203, -10.233, -10.1749, -10.256, -10.1774, -10.2564, -10.2396, -10.2588, -10.2367, -10.2763, -10.2991, -10.229, -10.2384, -10.2753, -10.2741, -10.2911, -10.3182, -10.2841, -10.1611, -10.2681, -10.2058, -10.2875, -10.2611, -10.2798, -10.262, -10.3003, -10.3016, -10.2589, -10.2713, -10.2497, -10.2312, -10.2313, -10.1693, -10.2295, -10.1726, -10.1878, -10.2186, -10.2267, -10.2098, -10.2457, -10.2469, -10.2403, -10.2536, -10.2435, -10.2436, -10.2496, -10.2403, -10.2411, -10.2424, -10.2448, -10.2401, -10.2469, -10.2448, -10.1892, -10.1081, -10.1956, -10.2135, -10.2887, -10.2565, -10.2476, -10.2218, -10.3026, -10.1935, -10.2026, -10.1771, -10.2637, -10.242, -10.3015, -10.3169, -10.2744, -10.3063, -10.2669, -10.2257, -10.2652, -10.262, -10.2878, -10.3137, -10.2891, -10.2497, -10.22, -10.2512, -10.2525, -10.3445, -10.2477, -10.1675, -10.2125, -10.2288, -10.2251, -10.208, -10.219, -10.2034, -10.2352, -10.2305, -10.2133, -10.2332, -10.2023, -10.2307, -10.2404, -10.2315, -10.2267, -10.2348, -10.2325, -10.2336, -10.2239, -10.2303, -10.2298, -10.1593, -10.1642, -10.1959, -10.2451, -10.2807, -10.2318, -10.2507, -10.2568, -10.1755, -10.2688, -10.2332, -10.2287, -10.2572, -10.22, -10.2656, -10.3395, -10.25, -10.2214, -10.2778, -10.3496, -10.298, -10.2306, -10.23, -10.2639, -10.2195, -10.2154, -10.2148, -10.2084, -10.2715, -10.2935, -10.2564, -10.2506, -10.2051, -10.2101, -10.2117, -10.2153, -10.2278, -10.1866, -10.2406, -10.1888, -10.2306, -10.2239, -10.2309, -10.2269, -10.2379, -10.215, -10.2241, -10.224, -10.2327, -10.1671, -10.2024, -10.2309, -10.1998, -10.2297, -10.257, -10.2305, -10.2588, -10.2511, -10.3709, -10.2795, -10.3296, -10.3154, -10.2814, -10.2033, -10.2581, -10.1737, -10.2575, -10.275, -10.2467, -10.2684, -10.261, -10.2427, -10.2405, -10.248, -10.2033, -10.2702, -10.2661, -10.1989, -10.2286, -10.2217, -10.2258, -10.2382, -10.224, -10.2134, -10.2212, -10.1701, -10.2335, -10.2331, -10.2223, -10.2305, -10.2258, -10.2188, -10.2312, -10.2317, -10.2365, -10.2408, -10.2327, -10.2376, -10.2404]}, \"token.table\": {\"Topic\": [1, 2, 3, 4, 5, 1, 2, 3, 4, 5, 1, 2, 3, 4, 5, 1, 2, 3, 4, 5, 1, 2, 3, 4, 5, 1, 2, 3, 4, 5, 1, 2, 3, 4, 5, 1, 2, 3, 4, 5, 1, 2, 3, 4, 5, 1, 2, 3, 4, 5, 1, 2, 3, 4, 5, 1, 2, 3, 4, 5, 1, 2, 3, 4, 5, 1, 2, 3, 4, 5, 1, 2, 3, 4, 5, 1, 2, 3, 4, 5, 1, 2, 3, 4, 5, 1, 2, 3, 4, 5, 1, 2, 3, 4, 5, 1, 2, 3, 4, 5, 1, 2, 3, 4, 5, 1, 2, 3, 4, 5, 1, 2, 3, 4, 5, 1, 2, 3, 4, 5, 1, 2, 3, 4, 5, 1, 2, 3, 4, 5, 1, 2, 3, 4, 5, 1, 2, 3, 4, 5, 1, 2, 3, 4, 5, 1, 2, 3, 4, 5, 1, 2, 3, 4, 5, 1, 2, 3, 4, 5, 1, 2, 3, 4, 5, 1, 2, 3, 4, 5, 1, 2, 3, 4, 5, 1, 2, 3, 4, 5, 1, 2, 3, 4, 5, 1, 2, 3, 4, 5, 1, 2, 3, 4, 5, 1, 2, 3, 4, 5, 1, 2, 3, 4, 5, 1, 2, 3, 4, 5, 1, 2, 3, 4, 5, 1, 2, 3, 4, 5, 1, 2, 3, 4, 5, 1, 2, 3, 4, 5, 1, 2, 3, 4, 5, 1, 2, 3, 4, 5, 1, 2, 3, 4, 5, 1, 2, 3, 4, 5, 1, 2, 3, 4, 5, 1, 2, 3, 4, 5, 1, 2, 3, 4, 5, 1, 2, 3, 4, 5, 1, 2, 3, 4, 5, 1, 2, 3, 4, 5, 1, 2, 3, 4, 5, 1, 2, 3, 4, 5, 1, 2, 3, 4, 5, 1, 2, 3, 4, 5, 1, 2, 3, 4, 5, 1, 2, 3, 4, 5, 1, 2, 3, 4, 5, 1, 2, 3, 4, 5, 1, 2, 3, 4, 5, 1, 2, 3, 4, 5, 1, 2, 3, 4, 5, 1, 2, 3, 4, 5, 1, 2, 3, 4, 5, 1, 2, 3, 4, 5, 1, 2, 3, 4, 5, 1, 2, 3, 4, 5, 1, 2, 3, 4, 5, 1, 2, 3, 4, 5, 1, 2, 3, 4, 5, 1, 2, 3, 4, 5, 1, 2, 3, 4, 5, 1, 2, 3, 4, 5, 1, 2, 3, 4, 5, 1, 2, 3, 4, 5, 1, 2, 3, 4, 5, 1, 2, 3, 4, 5, 1, 2, 3, 4, 5, 1, 2, 3, 4, 5, 1, 2, 3, 4, 5, 1, 2, 3, 4, 5, 1, 2, 3, 4, 5, 1, 2, 3, 4, 5, 1, 2, 3, 4, 5, 1, 2, 3, 4, 5, 1, 2, 3, 4, 5, 1, 2, 3, 4, 5, 1, 2, 3, 4, 5, 1, 2, 3, 4, 5, 1, 2, 3, 4, 5, 1, 2, 3, 4, 5, 1, 2, 3, 4, 5, 1, 2, 3, 4, 5, 1, 2, 3, 4, 5, 1, 2, 3, 4, 5, 1, 2, 3, 4, 5, 1, 2, 3, 4, 5, 1, 2, 3, 4, 5, 1, 2, 3, 4, 5, 1, 2, 3, 4, 5, 1, 2, 3, 4, 5, 1, 2, 3, 4, 5, 1, 2, 3, 4, 5, 1, 2, 3, 4, 5, 1, 2, 3, 4, 5, 1, 2, 3, 4, 5, 1, 2, 3, 4, 5, 1, 2, 3, 4, 5, 1, 2, 3, 4, 5, 1, 2, 3, 4, 5, 1, 2, 3, 4, 5, 1, 2, 3, 4, 5, 1, 2, 3, 4, 5, 1, 2, 3, 4, 5, 1, 2, 3, 4, 5, 1, 2, 3, 4, 5, 1, 2, 3, 4, 5, 1, 2, 3, 4, 5, 1, 2, 3, 4, 5, 1, 2, 3, 4, 5, 1, 2, 3, 4, 5, 1, 2, 3, 4, 5, 1, 2, 3, 4, 5, 1, 2, 3, 4, 5, 1, 2, 3, 4, 5, 1, 2, 3, 4, 5, 1, 2, 3, 4, 5, 1, 2, 3, 4, 5, 1, 2, 3, 4, 5, 1, 2, 3, 4, 5, 1, 2, 3, 4, 5, 1, 2, 3, 4, 5, 1, 2, 3, 4, 5, 1, 2, 3, 4, 5, 1, 2, 3, 4, 5, 1, 2, 3, 4, 5, 1, 2, 3, 4, 5, 1, 2, 3, 4, 5, 1, 2, 3, 4, 5, 1, 2, 3, 4, 5, 1, 2, 3, 4, 5, 1, 2, 3, 4, 5, 1, 2, 3, 4, 5, 1, 2, 3, 4, 5, 1, 2, 3, 4, 5, 1, 2, 3, 4, 5, 1, 2, 3, 4, 5, 1, 2, 3, 4, 5, 1, 2, 3, 4, 5, 1, 2, 3, 4, 5, 1, 2, 3, 4, 5, 1, 2, 3, 4, 5, 1, 2, 3, 4, 5, 1, 2, 3, 4, 5, 1, 2, 3, 4, 5, 1, 2, 3, 4, 5, 1, 2, 3, 4, 5, 1, 2, 3, 4, 5, 1, 2, 3, 4, 5, 1, 2, 3, 4, 5, 1, 2, 3, 4, 5, 1, 2, 3, 4, 5, 1, 2, 3, 4, 5, 1, 2, 3, 4, 5, 1, 2, 3, 4, 5, 1, 2, 3, 4, 5, 1, 2, 3, 4, 5, 1, 2, 3, 4, 5, 1, 2, 3, 4, 5, 1, 2, 3, 4, 5, 1, 2, 3, 4, 5, 1, 2, 3, 4, 5, 1, 2, 3, 4, 5, 1, 2, 3, 4, 5, 1, 2, 3, 4, 5, 1, 2, 3, 4, 5, 1, 2, 3, 4, 5, 1, 2, 3, 4, 5, 1, 2, 3, 4, 5, 1, 2, 3, 4, 5, 1, 2, 3, 4, 5, 1, 2, 3, 4, 5, 1, 2, 3, 4, 5, 1, 2, 3, 4, 5, 1, 2, 3, 4, 5, 1, 2, 3, 4, 5, 1, 2, 3, 4, 5, 1, 2, 3, 4, 5, 1, 2, 3, 4, 5, 1, 2, 3, 4, 5, 1, 2, 3, 4, 5, 1, 2, 3, 4, 5, 1, 2, 3, 4, 5, 1, 2, 3, 4, 5, 1, 2, 3, 4, 5, 1, 2, 3, 4, 5, 1, 2, 3, 4, 5, 1, 2, 3, 4, 5, 1, 2, 3, 4, 5, 1, 2, 3, 4, 5, 1, 2, 3, 4, 5, 1, 2, 3, 4, 5, 1, 2, 3, 4, 5, 1, 2, 3, 4, 5, 1, 2, 3, 4, 5, 1, 2, 3, 4, 5, 1, 2, 3, 4, 5, 1, 2, 3, 4, 5, 1, 2, 3, 4, 5, 1, 2, 3, 4, 5, 1, 2, 3, 4, 5, 1, 2, 3, 4, 5, 1, 2, 3, 4, 5, 1, 2, 3, 4, 5, 1, 2, 3, 4, 5, 1, 2, 3, 4, 5, 1, 2, 3, 4, 5, 1, 2, 3, 4, 5, 1, 2, 3, 4, 5, 1, 2, 3, 4, 5, 1, 2, 3, 4, 5, 1, 2, 3, 4, 5, 1, 2, 3, 4, 5, 1, 2, 3, 4, 5, 1, 2, 3, 4, 5, 1, 2, 3, 4, 5, 1, 2, 3, 4, 5, 1, 2, 3, 4, 5, 1, 2, 3, 4, 5, 1, 2, 3, 4, 5, 1, 2, 3, 4, 5, 1, 2, 3, 4, 5, 1, 2, 3, 4, 5, 1, 2, 3, 4, 5, 1, 2, 3, 4, 5, 1, 2, 3, 4, 5, 1, 2, 3, 4, 5, 1, 2, 3, 4, 5, 1, 2, 3, 4, 5, 1, 2, 3, 4, 5, 1, 2, 3, 4, 5, 1, 2, 3, 4, 5, 1, 2, 3, 4, 5, 1, 2, 3, 4, 5, 1, 2, 3, 4, 5, 1, 2, 3, 4, 5, 1, 2, 3, 4, 5, 1, 2, 3, 4, 5, 1, 2, 3, 4, 5, 1, 2, 3, 4, 5, 1, 2, 3, 4, 5, 1, 2, 3, 4, 5, 1, 2, 3, 4, 5, 1, 2, 3, 4, 5, 1, 2, 3, 4, 5, 1, 2, 3, 4, 5, 1, 2, 3, 4, 5, 1, 2, 3, 4, 5, 1, 2, 3, 4, 5, 1, 2, 3, 4, 5, 1, 2, 3, 4, 5, 1, 2, 3, 4, 5, 1, 2, 3, 4, 5], \"Freq\": [0.22991674543966614, 0.2605723114982883, 0.18393339635173292, 0.16860561332242183, 0.16860561332242183, 0.2661920037628975, 0.19224978049542596, 0.20703822514892026, 0.19224978049542596, 0.16267289118843736, 0.17976322209519605, 0.17976322209519605, 0.20972375911106206, 0.2546645646348611, 0.19474349060312907, 0.202137510055815, 0.25989108435747643, 0.18769911648039966, 0.202137510055815, 0.15882232932956894, 0.1970707726728872, 0.23930022395993444, 0.1970707726728872, 0.1970707726728872, 0.1829942889105381, 0.21729222417470365, 0.2462645207313308, 0.20280607589639005, 0.1738337793397629, 0.15934763106144934, 0.1991173019493757, 0.26038416408764514, 0.1991173019493757, 0.16848387088024097, 0.16848387088024097, 0.20879869380155933, 0.2505584325618712, 0.19487878088145538, 0.1809588679613514, 0.16703895504124747, 0.18965289200161511, 0.18965289200161511, 0.25287052266882015, 0.2054572996684164, 0.1580440766680126, 0.19808981882264737, 0.25904053230653884, 0.19808981882264737, 0.19808981882264737, 0.1676144620807016, 0.1955087740044298, 0.2556653198519466, 0.1955087740044298, 0.16543050108067137, 0.18046963754255058, 0.17212562215077884, 0.21906897364644579, 0.2034211898145568, 0.17212562215077884, 0.23471675747833476, 0.2641083498864466, 0.18642942344925642, 0.20196520873669446, 0.20196520873669446, 0.15535785287438036, 0.2649195647299822, 0.2060485503455417, 0.17661304315332146, 0.19133079674943157, 0.16189528955721133, 0.191463902439542, 0.24616787456512546, 0.191463902439542, 0.2051398954709379, 0.15043592334535444, 0.17740754856469587, 0.17740754856469587, 0.2580473433668304, 0.20966346648554968, 0.19353550752512277, 0.2632142053888368, 0.19394730923387973, 0.18009393000288831, 0.19394730923387973, 0.18009393000288831, 0.18363147269759736, 0.16832884997279757, 0.19893409542239712, 0.22953934087199668, 0.21423671814719691, 0.19805965053422114, 0.19805965053422114, 0.25900108146782763, 0.19805965053422114, 0.16758893506741787, 0.18462944698842335, 0.19883171214137899, 0.21303397729433463, 0.2414385076002459, 0.15622491668251207, 0.21930042764305488, 0.18556190031335415, 0.16869263664850376, 0.25303895497275564, 0.16869263664850376, 0.2572922874444724, 0.21441023953706034, 0.18582220759878562, 0.18582220759878562, 0.14294015969137355, 0.20949325265966645, 0.19337838707046134, 0.20949325265966645, 0.2578378494272818, 0.14503379030284602, 0.19108651406314367, 0.19108651406314367, 0.19108651406314367, 0.2547820187508582, 0.1592387617192864, 0.20812188210629481, 0.14865848721878203, 0.19325603338441663, 0.26758527699380763, 0.17839018466253842, 0.1809066408823197, 0.19482253633480584, 0.20873843178729196, 0.23657022269226421, 0.1809066408823197, 0.1713227679616983, 0.1713227679616983, 0.24919675339883388, 0.1868975650491254, 0.21804715922397963, 0.1976723406753182, 0.16726121134065386, 0.25849459934464686, 0.18246677600798603, 0.18246677600798603, 0.21411690068462477, 0.19984244063898313, 0.25694028082154974, 0.17129352054769983, 0.15701906050205816, 0.260822531992056, 0.18411002258262776, 0.19945252446451342, 0.18411002258262776, 0.16876752070074214, 0.2613345071133635, 0.18874158847076253, 0.18874158847076253, 0.20326017219928272, 0.15970442101372215, 0.18888195283063325, 0.25184260377417766, 0.18888195283063325, 0.17314179009474714, 0.18888195283063325, 0.2077885364189002, 0.2226305747345359, 0.17810445978762873, 0.17810445978762873, 0.2226305747345359, 0.20372530537311653, 0.17462169031981417, 0.18917349784646537, 0.2473807279530701, 0.17462169031981417, 0.25526372220254206, 0.18018615684885322, 0.19520166991959098, 0.18018615684885322, 0.18018615684885322, 0.19940923134241376, 0.19940923134241376, 0.1687308880589655, 0.2607659179093103, 0.1687308880589655, 0.19032290645768787, 0.17568268288401956, 0.19032290645768787, 0.20496313003135616, 0.21960335360502445, 0.18045725652930739, 0.21053346595085862, 0.195495361240083, 0.25564778008318545, 0.16541915181853176, 0.2019784819843609, 0.18644167567787162, 0.24858890090382885, 0.18644167567787162, 0.17090486937138233, 0.17644771259875516, 0.17644771259875516, 0.24061051718012066, 0.17644771259875516, 0.2245698160347793, 0.19333604830666765, 0.19333604830666765, 0.2528240631702577, 0.19333604830666765, 0.1635920408748726, 0.15825707594671243, 0.1899084911360549, 0.2532113215147399, 0.1899084911360549, 0.20573419873072615, 0.26336115977830177, 0.21946763314858478, 0.17557410651886782, 0.16094293097562884, 0.17557410651886782, 0.21613932807708966, 0.266017634556418, 0.1828871237575374, 0.1828871237575374, 0.16626102159776127, 0.21630379112063183, 0.20188353837925638, 0.24514429660338274, 0.20188353837925638, 0.14420252741375456, 0.18817685728813563, 0.2038582620621469, 0.25090247638418084, 0.18817685728813563, 0.17249545251412432, 0.24621731179276163, 0.20518109316063468, 0.19150235361659237, 0.20518109316063468, 0.15046613498446543, 0.19465509773916898, 0.19465509773916898, 0.25954013031889195, 0.16221258144930747, 0.19465509773916898, 0.23255377315344863, 0.20348455150926756, 0.15988071904299594, 0.18894994068717702, 0.2180191623313581, 0.2653817849535137, 0.206408054963844, 0.16217775747159172, 0.17692118996900916, 0.19166462246642657, 0.18914969291439238, 0.18914969291439238, 0.17338721850485966, 0.25219959055252317, 0.17338721850485966, 0.2574643276710063, 0.19688448586606366, 0.19688448586606366, 0.181739525414828, 0.16659456496359232, 0.18324700189503623, 0.19851758538628925, 0.19851758538628925, 0.24432933586004832, 0.16797641840378322, 0.1870070277269216, 0.1870070277269216, 0.20259094670416505, 0.1870070277269216, 0.233758784658652, 0.20327490281441724, 0.20327490281441724, 0.1742356309837862, 0.2613534464756793, 0.1742356309837862, 0.20610257946731184, 0.2536647131905376, 0.19024853489290325, 0.19024853489290325, 0.15854044574408604, 0.19768263805316655, 0.19768263805316655, 0.25850806514644853, 0.18247628127984605, 0.16726992450652553, 0.1619959089472511, 0.2061766113874105, 0.22090351220079696, 0.2061766113874105, 0.2061766113874105, 0.26711150918809784, 0.17807433945873188, 0.20775339603518722, 0.17807433945873188, 0.16323481117050423, 0.197453841078239, 0.1822650840722206, 0.16707632706620223, 0.25820886910231255, 0.1822650840722206, 0.2619448354647569, 0.17462989030983792, 0.18918238116899108, 0.18918238116899108, 0.17462989030983792, 0.19371089678640752, 0.2533142496437637, 0.20861173500074656, 0.19371089678640752, 0.16390922035772942, 0.26527785172606355, 0.20632721800916054, 0.17685190115070903, 0.1915895595799348, 0.14737658429225753, 0.20600226959994955, 0.20600226959994955, 0.19015594116918422, 0.17430961273841886, 0.2218485980307149, 0.20989951865410383, 0.19490669589309642, 0.179913873132089, 0.2548779869371261, 0.1649210503710816, 0.19645717414778613, 0.18134508382872566, 0.27201762574308846, 0.2115692644668466, 0.1511209031906047, 0.20675809078393254, 0.25447149634945543, 0.1749491537402506, 0.2226625593057735, 0.15904468521840964, 0.21938019153705016, 0.16875399349003858, 0.2025047921880463, 0.18562939283904242, 0.236255590886054, 0.18605958039144252, 0.20156454542406274, 0.18605958039144252, 0.24807944052192338, 0.18605958039144252, 0.18641008993361052, 0.20194426409474472, 0.2796151349004158, 0.1708759157724763, 0.1708759157724763, 0.18139595099102132, 0.23721008975748942, 0.20930302037425536, 0.20930302037425536, 0.1674424162994043, 0.21469726181681142, 0.16869070571320896, 0.16869070571320896, 0.21469726181681142, 0.21469726181681142, 0.26168603226113907, 0.20353358064755261, 0.2180716935509492, 0.15991924193736276, 0.15991924193736276, 0.2603537167722333, 0.18803323989105739, 0.20249733526729258, 0.18803323989105739, 0.17356914451482222, 0.26011610855613004, 0.20231252887699003, 0.15895984411763503, 0.20231252887699003, 0.17341073903742002, 0.2611861204006942, 0.20314476031165107, 0.17412408026712947, 0.18863442028939026, 0.17412408026712947, 0.18335971549798014, 0.2115689024976694, 0.23977808949735865, 0.18335971549798014, 0.18335971549798014, 0.20375723310327845, 0.20375723310327845, 0.18677746367800527, 0.2546965413790981, 0.15281792482745885, 0.20810864532260398, 0.20810864532260398, 0.19423473563443036, 0.23585646469895116, 0.1526130065699096, 0.20450224077545046, 0.1730403575792273, 0.18877129917733887, 0.2674260071678967, 0.1730403575792273, 0.2613758933698811, 0.2178132444749009, 0.17425059557992073, 0.15972971261492733, 0.17425059557992073, 0.19934412785697767, 0.19934412785697767, 0.18273211720222954, 0.19934412785697767, 0.23256814916647395, 0.20571819116812082, 0.17632987814410356, 0.22041234768012946, 0.17632987814410356, 0.22041234768012946, 0.21900788315433656, 0.2502947236049561, 0.18772104270371706, 0.18772104270371706, 0.15643420225309754, 0.18802110109982897, 0.18802110109982897, 0.2663632265580911, 0.2036895261914814, 0.15668425091652416, 0.20532636609303678, 0.20532636609303678, 0.17599402807974582, 0.1906601970863913, 0.21999253509968225, 0.19305514064938975, 0.25740685419918635, 0.17696721226194062, 0.19305514064938975, 0.17696721226194062, 0.1938545707221682, 0.1938545707221682, 0.1762314279292438, 0.1938545707221682, 0.22910085630801694, 0.21900301305450068, 0.18980261131390058, 0.18980261131390058, 0.24820341479510077, 0.16060220957330051, 0.18579610762237198, 0.18579610762237198, 0.24772814349649597, 0.18579610762237198, 0.18579610762237198, 0.19186295355433497, 0.19186295355433497, 0.22138033102423266, 0.25089770849413034, 0.14758688734948844, 0.2627286903687477, 0.20091017498786587, 0.18545554614264542, 0.18545554614264542, 0.1545462884522045, 0.187951805873843, 0.24578313075810237, 0.20240963709490783, 0.187951805873843, 0.17349397465277816, 0.18955307942341298, 0.18955307942341298, 0.18955307942341298, 0.20534916937536407, 0.22114525932731516, 0.1944520517006038, 0.17949420156978813, 0.20940990183141947, 0.2542834522238665, 0.16453635143897244, 0.21652971069771734, 0.20106330279073753, 0.1546640790697981, 0.20106330279073753, 0.23199611860469713, 0.19010638585876588, 0.24860065843069387, 0.21935352214472986, 0.1608592495728019, 0.1754828177157839, 0.19289962787852666, 0.20773806079225948, 0.25225335953345795, 0.19289962787852666, 0.163222762051061, 0.25880797843970943, 0.16746398604922375, 0.19791198351271896, 0.19791198351271896, 0.18268798478097137, 0.2109099754850142, 0.1958449772360846, 0.1958449772360846, 0.16571498073822544, 0.2259749737339438, 0.22002422279439046, 0.17601937823551236, 0.2640290673532686, 0.1906876597551384, 0.1466828151962603, 0.20372329617923385, 0.174619968153629, 0.18917163216643143, 0.2473782882176411, 0.18917163216643143, 0.20078144850468027, 0.17209838443258307, 0.20078144850468027, 0.18643991646863167, 0.22946451257677744, 0.21037754657607366, 0.18032361135092026, 0.18032361135092026, 0.25545844941380375, 0.18032361135092026, 0.1901706444081397, 0.24868468884141343, 0.1901706444081397, 0.1901706444081397, 0.16091362219150282, 0.26087217907517496, 0.19949048988101614, 0.19949048988101614, 0.16879964528393673, 0.16879964528393673, 0.20981623561137566, 0.1958284865706173, 0.1958284865706173, 0.2517794827336508, 0.15386523944834216, 0.2235540901974368, 0.17884327215794943, 0.2533613022237617, 0.19374687817111189, 0.14903606013162454, 0.1766500817894279, 0.2060917620876659, 0.25025428253502285, 0.2060917620876659, 0.16192924164030892, 0.18887446031405394, 0.2518326137520719, 0.20461399867355842, 0.18887446031405394, 0.17313492195454944, 0.2697500575528909, 0.1648472573934333, 0.20980560031891513, 0.19481948601042118, 0.1648472573934333, 0.2031968922359724, 0.2188274224079703, 0.18756636206397453, 0.17193583189197664, 0.23445795257996815, 0.21661352962640434, 0.2454953335765916, 0.17329082370112348, 0.1877317256762171, 0.17329082370112348, 0.16563485851345072, 0.19575028733407812, 0.18069257292376442, 0.24092343056501922, 0.21080800174439182, 0.20603293317862875, 0.19018424601104192, 0.19018424601104192, 0.2535789946813892, 0.15848687167586828, 0.2630600530923217, 0.20116357001177546, 0.18568944924163888, 0.20116357001177546, 0.15474120770136573, 0.20267313924168479, 0.18708289776155518, 0.20267313924168479, 0.18708289776155518, 0.2182633807218144, 0.19480675316812116, 0.19480675316812116, 0.19480675316812116, 0.2597423375574949, 0.16233896097343428, 0.22348512544879115, 0.17559545570976448, 0.17559545570976448, 0.1915586789561067, 0.23944834869513337, 0.2336933750065229, 0.18987586719279986, 0.17527003125489218, 0.18987586719279986, 0.21908753906861522, 0.2085122083767977, 0.1764334070880596, 0.1764334070880596, 0.2085122083767977, 0.22455160902116675, 0.17598683895694803, 0.19065240887002702, 0.20531797878310604, 0.20531797878310604, 0.21998354869618503, 0.1905966959363123, 0.16127412733072577, 0.20525798023910555, 0.23458054884469204, 0.21991926454189878, 0.20572900266691202, 0.19201373582245124, 0.19201373582245124, 0.24687480320029442, 0.16458320213352962, 0.18862870238555032, 0.25150493651406713, 0.18862870238555032, 0.18862870238555032, 0.15719058532129193, 0.1880543054431135, 0.20372549756337296, 0.1880543054431135, 0.1880543054431135, 0.23506788180389188, 0.1694525698295876, 0.2310716861312558, 0.2002621279804217, 0.18485734890500466, 0.21566690705583877, 0.18302792736322698, 0.2592895637645716, 0.18302792736322698, 0.1982802546434959, 0.16777560008295808, 0.2650153896224096, 0.19527449761651236, 0.19527449761651236, 0.19527449761651236, 0.153429962412974, 0.21437339328522176, 0.26031054898919787, 0.19906100805056307, 0.16843623758124565, 0.16843623758124565, 0.18244897281912156, 0.21051804556052486, 0.2666561910433315, 0.18244897281912156, 0.15437990007771824, 0.18531080430312957, 0.22807483606539025, 0.19956548155721648, 0.1710561270490427, 0.21382015881130337, 0.20028775465580195, 0.24650800573021778, 0.20028775465580195, 0.20028775465580195, 0.16947425393952473, 0.2717118374936163, 0.18114122499574423, 0.2113314291617016, 0.18114122499574423, 0.16604612291276555, 0.1908308237439714, 0.20551011787812304, 0.1908308237439714, 0.249548000280578, 0.17615152960981975, 0.2556895294209435, 0.18466466013734806, 0.18466466013734806, 0.19886963399406712, 0.18466466013734806, 0.1881391232188234, 0.20381738348705866, 0.1881391232188234, 0.1881391232188234, 0.21949564375529396, 0.17773696567679692, 0.17773696567679692, 0.2073597932895964, 0.22217120709599614, 0.22217120709599614, 0.19964183382465397, 0.1853817028371787, 0.24242222678707984, 0.19964183382465397, 0.1568614408622281, 0.18267231863444056, 0.16744962541490385, 0.2587857847321241, 0.18267231863444056, 0.19789501185397726, 0.22795600643910852, 0.260521150216124, 0.17910829077358525, 0.19539086266209302, 0.14654314699656976, 0.17863501362941575, 0.20840751590098505, 0.20840751590098505, 0.17863501362941575, 0.22329376703676967, 0.17124272948147964, 0.2646478546531958, 0.20237777120538503, 0.18681025034343232, 0.18681025034343232, 0.21731023212872955, 0.18833553451156562, 0.2462849297458935, 0.18833553451156562, 0.15936083689440167, 0.15466544931724358, 0.24746471890758973, 0.21653162904414103, 0.23199817397586536, 0.15466544931724358, 0.16807400120733865, 0.19863291051776386, 0.18335345586255125, 0.21391236517297646, 0.22919181982818906, 0.2572203745461521, 0.20006029131367387, 0.1857702705055543, 0.21435031212179342, 0.14290020808119563, 0.1915034779359983, 0.25042762499322857, 0.1915034779359983, 0.1915034779359983, 0.17677244117169075, 0.1872757230041295, 0.1872757230041295, 0.2448990223900155, 0.2160873726970725, 0.172869898157658, 0.19281763555607845, 0.19281763555607845, 0.19281763555607845, 0.17674949925973857, 0.22495390814875818, 0.20561440515471832, 0.24967463483072938, 0.20561440515471832, 0.1909276619293813, 0.14686743225337023, 0.20196494532378037, 0.18642918029887418, 0.21750071034868654, 0.170893415273968, 0.23303647537359273, 0.1965030920774389, 0.18012783440431898, 0.2620041227699185, 0.1965030920774389, 0.16375257673119908, 0.2729973036215339, 0.18199820241435594, 0.18199820241435594, 0.16683168554649294, 0.18199820241435594, 0.19070936377619951, 0.20537931483590716, 0.19070936377619951, 0.24938916801503014, 0.1613694616567842, 0.17947284070385702, 0.20938498082116652, 0.19442891076251176, 0.19442891076251176, 0.22434105087982129, 0.20196726278551586, 0.26411103595028995, 0.1708953762031288, 0.20196726278551586, 0.1708953762031288, 0.18981781430844288, 0.18981781430844288, 0.2689085702702941, 0.18981781430844288, 0.17399966311607265, 0.2040550573371531, 0.2040550573371531, 0.16032897362204884, 0.24778114105225732, 0.17490433486041693, 0.18812778066821176, 0.18812778066821176, 0.18812778066821176, 0.25083704089094905, 0.18812778066821176, 0.21899084775555988, 0.24636470372500488, 0.17793006380139242, 0.1916169917861149, 0.1642431358166699, 0.2565164597414861, 0.19951280202115584, 0.1852618875910733, 0.17101097316099073, 0.1852618875910733, 0.21810639640542545, 0.18902554355136872, 0.18902554355136872, 0.18902554355136872, 0.21810639640542545, 0.25857010896928045, 0.1777669499163803, 0.1939275817269603, 0.1939275817269603, 0.1777669499163803, 0.18847630243184146, 0.2029744795419831, 0.17397812532169982, 0.24646901087240808, 0.17397812532169982, 0.1942082047757096, 0.1664641755220368, 0.24969626328305522, 0.208080219402546, 0.1664641755220368, 0.25773803203866436, 0.2147816933655536, 0.14318779557703576, 0.20046291380785006, 0.18614413425014648, 0.17620366928106038, 0.16152003017430533, 0.23493822570808048, 0.22025458660132546, 0.20557094749457042, 0.18144914341793253, 0.21169066732092126, 0.2570529531754044, 0.1965699053694269, 0.15120761951494377, 0.19810355048319583, 0.19810355048319583, 0.26413806731092776, 0.18159492127626284, 0.14857766286239688, 0.16787342025777807, 0.25944074039838433, 0.2136570803280812, 0.19839586030464681, 0.15261220023434371, 0.2602626167029295, 0.19902435394929904, 0.1837147882608914, 0.1837147882608914, 0.1684052225724838, 0.2176969270475098, 0.2031837985776758, 0.24672318398717777, 0.17415754163800784, 0.15964441316817385, 0.21472248820540168, 0.18609282311134812, 0.24335215329945523, 0.17177799056432133, 0.17177799056432133, 0.18891252864615296, 0.2159000327384605, 0.2159000327384605, 0.2293937847846143, 0.14843127250769161, 0.20722172571814848, 0.17761862204412726, 0.2516263812291803, 0.19242017388113788, 0.16281707020711667, 0.20578484969784114, 0.19206585971798507, 0.23322282965755328, 0.20578484969784114, 0.16462787975827292, 0.16729368257422994, 0.2342111556039219, 0.20075241908907593, 0.18402305083165293, 0.21748178734649892, 0.20118218552881076, 0.20118218552881076, 0.17023108006283985, 0.24760884372776706, 0.17023108006283985, 0.1914168712957912, 0.25031437015603464, 0.22086562072591293, 0.17669249658073033, 0.16196812186566947, 0.20148605823555682, 0.18709419693301704, 0.18709419693301704, 0.2158779195380966, 0.2158779195380966, 0.16959186921211014, 0.23126163983469566, 0.23126163983469566, 0.15417442655646377, 0.20042675452340292, 0.17034833828659257, 0.2168069760011178, 0.18583455085810097, 0.2168069760011178, 0.2168069760011178, 0.19636069048235305, 0.2567793644769232, 0.19636069048235305, 0.19636069048235305, 0.15104668498642543, 0.20365436758390273, 0.2506515293340341, 0.20365436758390273, 0.17232292641714847, 0.17232292641714847, 0.20639629678320118, 0.19165370415582966, 0.19165370415582966, 0.2506240746653157, 0.16216851890108666, 0.1861100787161701, 0.2147423985186578, 0.17179391881492626, 0.20042623861741396, 0.2147423985186578, 0.2301397842477321, 0.18952688114519115, 0.1759892467776775, 0.18952688114519115, 0.21660214988021845, 0.19116963060184072, 0.2058749868019823, 0.2499910554024071, 0.2058749868019823, 0.16175891820155752, 0.18901276287642807, 0.18901276287642807, 0.24717053606917516, 0.18901276287642807, 0.1744733195782413, 0.18958104266116801, 0.24791367117229662, 0.18958104266116801, 0.17499788553338586, 0.18958104266116801, 0.20800689806322722, 0.17829162691133763, 0.19314926248728242, 0.20800689806322722, 0.22286453363917202, 0.2037513827059097, 0.18919771251263043, 0.21830505289918894, 0.18919771251263043, 0.21830505289918894, 0.2549599003593218, 0.2099669767665003, 0.19496933556889315, 0.179971694371286, 0.14997641197607164, 0.26435605091226283, 0.18660427123218554, 0.1710539152961701, 0.18660427123218554, 0.18660427123218554, 0.21417099022256522, 0.1835751344764845, 0.1835751344764845, 0.1835751344764845, 0.2294689180956056, 0.1828428292082153, 0.22855353651026913, 0.1828428292082153, 0.16760592677419736, 0.22855353651026913, 0.20576058100705932, 0.1899328440065163, 0.1899328440065163, 0.2690715290092314, 0.15827737000543024, 0.24719447712299847, 0.1922623710956655, 0.20599539760249874, 0.17852934458883224, 0.17852934458883224, 0.18401178812370003, 0.19934610380067505, 0.26068336650857504, 0.19934610380067505, 0.15334315676975002, 0.1945928186513512, 0.1945928186513512, 0.2594570915351349, 0.1621606822094593, 0.1945928186513512, 0.20308105675276933, 0.2655675357536214, 0.1718378172523433, 0.1874594370025563, 0.1874594370025563, 0.2092768580719167, 0.2541218990873274, 0.1793801640616429, 0.19432851106677979, 0.16443181705650597, 0.18937042858820038, 0.20393738463344657, 0.18937042858820038, 0.18937042858820038, 0.21850434067869273, 0.1694310108080024, 0.20023664913673014, 0.2464451066298217, 0.20023664913673014, 0.15402819164363857, 0.2574743115506096, 0.15734541261426144, 0.228866054711653, 0.18595366945321806, 0.15734541261426144, 0.2023130588483509, 0.2023130588483509, 0.17118797287168155, 0.24900068781335497, 0.15562542988334685, 0.20284954072461223, 0.24966097319952277, 0.18724572989964205, 0.20284954072461223, 0.14043429742473154, 0.26517824715680033, 0.191517622946578, 0.17678549810453356, 0.20624974778862248, 0.1620533732624891, 0.175534915914652, 0.24867446421242365, 0.20479073523376065, 0.19016282557420633, 0.19016282557420633, 0.20401879684632104, 0.1883250432427579, 0.1883250432427579, 0.20401879684632104, 0.21971255044988422, 0.27045725945782345, 0.17500175611976812, 0.17500175611976812, 0.19091100667611066, 0.17500175611976812, 0.19947942034961041, 0.2148239911457343, 0.18413484955348655, 0.16879027875736266, 0.2301685619418582, 0.20984834097169058, 0.2548158426084814, 0.19485917375942696, 0.17987000654716334, 0.16488083933489972, 0.20716088665868088, 0.1923636804687751, 0.17756647427886932, 0.1923636804687751, 0.22195809284858667, 0.19415851993149358, 0.17797864327053578, 0.25887802657532477, 0.19415851993149358, 0.17797864327053578, 0.17120314320913463, 0.18676706531905596, 0.24902275375874125, 0.18676706531905596, 0.18676706531905596, 0.1671954715292791, 0.22292729537237213, 0.25079320729391863, 0.19506138345082563, 0.18112842749005237, 0.27212976975788467, 0.19653816704736113, 0.19653816704736113, 0.16630152596315173, 0.18141984650525644, 0.20558913106706736, 0.18977458252344678, 0.18977458252344678, 0.25303277669792906, 0.15814548543620566, 0.19495194938232957, 0.2549371645768925, 0.19495194938232957, 0.19495194938232957, 0.1649593417850481, 0.18719934352381515, 0.25919909103297484, 0.18719934352381515, 0.20159929302564708, 0.15839944452015128, 0.19678538471921744, 0.1816480474331238, 0.1816480474331238, 0.2119227220053111, 0.22706005929140474, 0.20073595106903783, 0.18529472406372724, 0.18529472406372724, 0.26250085909028026, 0.16985349705841662, 0.2084864031692495, 0.25018368380309935, 0.1806882160800162, 0.2084864031692495, 0.15289002899078294, 0.18356439399341068, 0.18356439399341068, 0.2503150827182873, 0.21693973835584898, 0.16687672181219151, 0.2113080687502407, 0.19621463526808064, 0.25658836919672084, 0.16602776830376054, 0.16602776830376054, 0.21838531783351073, 0.20382629664461002, 0.24750336021131217, 0.17470825426680858, 0.14559021188900714, 0.2621116824337119, 0.21585667965129218, 0.16960167686887243, 0.20043834539048558, 0.16960167686887243, 0.2043098795562622, 0.1897163167308149, 0.2480905680326041, 0.1751227539053676, 0.1751227539053676, 0.19440668972192338, 0.19440668972192338, 0.19440668972192338, 0.20936105046976364, 0.2243154112176039, 0.19608088227179535, 0.19608088227179535, 0.16591459269151915, 0.2714966062224859, 0.16591459269151915, 0.19286853681782493, 0.2522127019925403, 0.19286853681782493, 0.19286853681782493, 0.1780324955241461, 0.16958922357398226, 0.18500642571707154, 0.21584083000325013, 0.262092436432518, 0.16958922357398226, 0.18946211784249933, 0.18946211784249933, 0.20403612690730696, 0.18946211784249933, 0.2186101359721146, 0.26411023367665587, 0.1907462798775848, 0.17607348911777057, 0.1907462798775848, 0.17607348911777057, 0.26173061655814667, 0.17448707770543112, 0.18902766751421704, 0.18902766751421704, 0.17448707770543112, 0.19964866986537638, 0.18538805058927807, 0.24243052769367132, 0.18538805058927807, 0.18538805058927807, 0.18067296179369588, 0.1945708819316725, 0.2362646423456023, 0.1945708819316725, 0.18067296179369588, 0.19226432535044996, 0.17747476186195382, 0.19226432535044996, 0.20705388883894613, 0.22184345232744226, 0.19109818322328584, 0.2547975776310478, 0.17517333462134535, 0.19109818322328584, 0.19109818322328584, 0.21249600579692152, 0.2580308641819761, 0.21249600579692152, 0.18213943354021844, 0.13660457515516383, 0.19071384203750635, 0.24939502420289292, 0.205384137578853, 0.19071384203750635, 0.16137325095481306, 0.270915901605387, 0.18061060107025798, 0.18061060107025798, 0.19566148449277948, 0.18061060107025798, 0.20081078791673734, 0.21515441562507573, 0.2438416710417525, 0.17212353250006057, 0.18646716020839896, 0.20662387672946378, 0.19186502839164493, 0.25090042174292027, 0.17710618005382608, 0.16234733171600724, 0.16195031626280523, 0.19434037951536626, 0.2267304427679273, 0.2267304427679273, 0.21053541114164678, 0.20221063932888778, 0.1877670222339672, 0.1877670222339672, 0.24554149061364944, 0.1588797880441261, 0.19125667927939377, 0.20596873153165482, 0.25010488828843797, 0.16183257477487165, 0.19125667927939377, 0.1890634782955218, 0.1890634782955218, 0.26178020071687635, 0.20360682277979272, 0.15997678932698, 0.19842081559450672, 0.1831576759333908, 0.19842081559450672, 0.2594733742389703, 0.15263139661115901, 0.1887180543466372, 0.2613019214030361, 0.20323482775791699, 0.20323482775791699, 0.14516773411279785, 0.18498273187682543, 0.19921217279042738, 0.19921217279042738, 0.24190049553123327, 0.18498273187682543, 0.18807277643540418, 0.24594132303091315, 0.18807277643540418, 0.20253991308428143, 0.15913850313764968, 0.20006638588068967, 0.20006638588068967, 0.1692869418990451, 0.20006638588068967, 0.23084582986233423, 0.26838494163052296, 0.19383356895537768, 0.17892329442034863, 0.17892329442034863, 0.16401301988531958, 0.27705961888791203, 0.16297624640465413, 0.21186912032605038, 0.16297624640465413, 0.19557149568558496, 0.26768694219452543, 0.20076520664589406, 0.2174956405330519, 0.15057390498442055, 0.15057390498442055, 0.18343247174502147, 0.21165285201348633, 0.1975426618792539, 0.21165285201348633, 0.21165285201348633, 0.2205447748354792, 0.19113880485741533, 0.20584178984644727, 0.2499507448135431, 0.14702984989031948, 0.18891046522840324, 0.18891046522840324, 0.20344203947674194, 0.24703676222175808, 0.17437889098006454, 0.18832847481007953, 0.24627569782856554, 0.21730208631932252, 0.18832847481007953, 0.1593548633008365, 0.19229436302682962, 0.2070862371058165, 0.19229436302682962, 0.2514618593427772, 0.16271061486885582, 0.20561717907210866, 0.18980047298963879, 0.2530672973195184, 0.20561717907210866, 0.14235035474222907, 0.1989996368752353, 0.2416424162056429, 0.1989996368752353, 0.1847853770984328, 0.15635685754482775, 0.18217861458819756, 0.21254171701956384, 0.18217861458819756, 0.2580863706666132, 0.18217861458819756, 0.18535446058494684, 0.18535446058494684, 0.23169307573118353, 0.18535446058494684, 0.21624687068243797, 0.20271022954279722, 0.17152404038236688, 0.20271022954279722, 0.18711713496258203, 0.24948951328344274], \"Term\": [\"accessory\", \"accessory\", \"accessory\", \"accessory\", \"accessory\", \"acquaint\", \"acquaint\", \"acquaint\", \"acquaint\", \"acquaint\", \"activate\", \"activate\", \"activate\", \"activate\", \"activate\", \"adem\", \"adem\", \"adem\", \"adem\", \"adem\", \"agua_frescas\", \"agua_frescas\", \"agua_frescas\", \"agua_frescas\", \"agua_frescas\", \"anderson\", \"anderson\", \"anderson\", \"anderson\", \"anderson\", \"angelica\", \"angelica\", \"angelica\", \"angelica\", \"angelica\", \"annoyed\", \"annoyed\", \"annoyed\", \"annoyed\", \"annoyed\", \"anonymity\", \"anonymity\", \"anonymity\", \"anonymity\", \"anonymity\", \"anybody\", \"anybody\", \"anybody\", \"anybody\", \"anybody\", \"anywhere_else\", \"anywhere_else\", \"anywhere_else\", \"anywhere_else\", \"anywhere_else\", \"appetiz\", \"appetiz\", \"appetiz\", \"appetiz\", \"appetiz\", \"applaud\", \"applaud\", \"applaud\", \"applaud\", \"applaud\", \"apporach\", \"apporach\", \"apporach\", \"apporach\", \"apporach\", \"armadillo_gold\", \"armadillo_gold\", \"armadillo_gold\", \"armadillo_gold\", \"armadillo_gold\", \"asley\", \"asley\", \"asley\", \"asley\", \"asley\", \"au_ju\", \"au_ju\", \"au_ju\", \"au_ju\", \"au_ju\", \"authenticate\", \"authenticate\", \"authenticate\", \"authenticate\", \"authenticate\", \"baccon\", \"baccon\", \"baccon\", \"baccon\", \"baccon\", \"barbed\", \"barbed\", \"barbed\", \"barbed\", \"barbed\", \"bartendar\", \"bartendar\", \"bartendar\", \"bartendar\", \"bartendar\", \"basqu\", \"basqu\", \"basqu\", \"basqu\", \"basqu\", \"beard\", \"beard\", \"beard\", \"beard\", \"beard\", \"beefy\", \"beefy\", \"beefy\", \"beefy\", \"beefy\", \"befitting\", \"befitting\", \"befitting\", \"befitting\", \"befitting\", \"belov\", \"belov\", \"belov\", \"belov\", \"belov\", \"benzs\", \"benzs\", \"benzs\", \"benzs\", \"benzs\", \"bernardo\", \"bernardo\", \"bernardo\", \"bernardo\", \"bernardo\", \"bikeweek\", \"bikeweek\", \"bikeweek\", \"bikeweek\", \"bikeweek\", \"billboard\", \"billboard\", \"billboard\", \"billboard\", \"billboard\", \"black_for\", \"black_for\", \"black_for\", \"black_for\", \"black_for\", \"bobby_cs\", \"bobby_cs\", \"bobby_cs\", \"bobby_cs\", \"bobby_cs\", \"booing\", \"booing\", \"booing\", \"booing\", \"booing\", \"bounty\", \"bounty\", \"bounty\", \"bounty\", \"bounty\", \"breastmeat\", \"breastmeat\", \"breastmeat\", \"breastmeat\", \"breastmeat\", \"bridgework\", \"bridgework\", \"bridgework\", \"bridgework\", \"bridgework\", \"browned_butter\", \"browned_butter\", \"browned_butter\", \"browned_butter\", \"browned_butter\", \"bulkogi\", \"bulkogi\", \"bulkogi\", \"bulkogi\", \"bulkogi\", \"bummed\", \"bummed\", \"bummed\", \"bummed\", \"bummed\", \"buren\", \"buren\", \"buren\", \"buren\", \"buren\", \"but\", \"but\", \"but\", \"but\", \"but\", \"butts\", \"butts\", \"butts\", \"butts\", \"butts\", \"capish\", \"capish\", \"capish\", \"capish\", \"capish\", \"capricciosa\", \"capricciosa\", \"capricciosa\", \"capricciosa\", \"capricciosa\", \"cask_condition\", \"cask_condition\", \"cask_condition\", \"cask_condition\", \"cask_condition\", \"catcher\", \"catcher\", \"catcher\", \"catcher\", \"catcher\", \"chandler_fashion\", \"chandler_fashion\", \"chandler_fashion\", \"chandler_fashion\", \"chandler_fashion\", \"charmer\", \"charmer\", \"charmer\", \"charmer\", \"charmer\", \"chease\", \"chease\", \"chease\", \"chease\", \"chease\", \"cheesesteaky\", \"cheesesteaky\", \"cheesesteaky\", \"cheesesteaky\", \"cheesesteaky\", \"cheri\", \"cheri\", \"cheri\", \"cheri\", \"cheri\", \"chihuahuan\", \"chihuahuan\", \"chihuahuan\", \"chihuahuan\", \"chihuahuan\", \"chompis\", \"chompis\", \"chompis\", \"chompis\", \"chompis\", \"chouder\", \"chouder\", \"chouder\", \"chouder\", \"chouder\", \"claustrophia\", \"claustrophia\", \"claustrophia\", \"claustrophia\", \"claustrophia\", \"coladas\", \"coladas\", \"coladas\", \"coladas\", \"coladas\", \"commotion\", \"commotion\", \"commotion\", \"commotion\", \"commotion\", \"company\", \"company\", \"company\", \"company\", \"company\", \"conglomerate\", \"conglomerate\", \"conglomerate\", \"conglomerate\", \"conglomerate\", \"content\", \"content\", \"content\", \"content\", \"content\", \"contribution\", \"contribution\", \"contribution\", \"contribution\", \"contribution\", \"corbin\", \"corbin\", \"corbin\", \"corbin\", \"corbin\", \"crapola\", \"crapola\", \"crapola\", \"crapola\", \"crapola\", \"critique\", \"critique\", \"critique\", \"critique\", \"critique\", \"croquet\", \"croquet\", \"croquet\", \"croquet\", \"croquet\", \"curtsey\", \"curtsey\", \"curtsey\", \"curtsey\", \"curtsey\", \"darryl\", \"darryl\", \"darryl\", \"darryl\", \"darryl\", \"dea\", \"dea\", \"dea\", \"dea\", \"dea\", \"decibel\", \"decibel\", \"decibel\", \"decibel\", \"decibel\", \"deft\", \"deft\", \"deft\", \"deft\", \"deft\", \"delicatessen\", \"delicatessen\", \"delicatessen\", \"delicatessen\", \"delicatessen\", \"deshuesado\", \"deshuesado\", \"deshuesado\", \"deshuesado\", \"deshuesado\", \"diavola\", \"diavola\", \"diavola\", \"diavola\", \"diavola\", \"disaffect\", \"disaffect\", \"disaffect\", \"disaffect\", \"disaffect\", \"distinctive\", \"distinctive\", \"distinctive\", \"distinctive\", \"distinctive\", \"doodling\", \"doodling\", \"doodling\", \"doodling\", \"doodling\", \"downsides\", \"downsides\", \"downsides\", \"downsides\", \"downsides\", \"draft_beer\", \"draft_beer\", \"draft_beer\", \"draft_beer\", \"draft_beer\", \"eiw\", \"eiw\", \"eiw\", \"eiw\", \"eiw\", \"el_tio\", \"el_tio\", \"el_tio\", \"el_tio\", \"el_tio\", \"elvira\", \"elvira\", \"elvira\", \"elvira\", \"elvira\", \"emporium\", \"emporium\", \"emporium\", \"emporium\", \"emporium\", \"evidently\", \"evidently\", \"evidently\", \"evidently\", \"evidently\", \"fbing\", \"fbing\", \"fbing\", \"fbing\", \"fbing\", \"feast\", \"feast\", \"feast\", \"feast\", \"feast\", \"filling\", \"filling\", \"filling\", \"filling\", \"filling\", \"foccatia\", \"foccatia\", \"foccatia\", \"foccatia\", \"foccatia\", \"fodor\", \"fodor\", \"fodor\", \"fodor\", \"fodor\", \"frier\", \"frier\", \"frier\", \"frier\", \"frier\", \"froyo\", \"froyo\", \"froyo\", \"froyo\", \"froyo\", \"funny\", \"funny\", \"funny\", \"funny\", \"funny\", \"fuzzy\", \"fuzzy\", \"fuzzy\", \"fuzzy\", \"fuzzy\", \"gallo\", \"gallo\", \"gallo\", \"gallo\", \"gallo\", \"garrish\", \"garrish\", \"garrish\", \"garrish\", \"garrish\", \"general_tso\", \"general_tso\", \"general_tso\", \"general_tso\", \"general_tso\", \"giardiarano\", \"giardiarano\", \"giardiarano\", \"giardiarano\", \"giardiarano\", \"give\", \"give\", \"give\", \"give\", \"give\", \"goodly\", \"goodly\", \"goodly\", \"goodly\", \"goodly\", \"grog\", \"grog\", \"grog\", \"grog\", \"grog\", \"grolsch\", \"grolsch\", \"grolsch\", \"grolsch\", \"grolsch\", \"gruesome\", \"gruesome\", \"gruesome\", \"gruesome\", \"gruesome\", \"gyosa\", \"gyosa\", \"gyosa\", \"gyosa\", \"gyosa\", \"haagen\", \"haagen\", \"haagen\", \"haagen\", \"haagen\", \"habla\", \"habla\", \"habla\", \"habla\", \"habla\", \"hamtramck\", \"hamtramck\", \"hamtramck\", \"hamtramck\", \"hamtramck\", \"handicapped\", \"handicapped\", \"handicapped\", \"handicapped\", \"handicapped\", \"handmade\", \"handmade\", \"handmade\", \"handmade\", \"handmade\", \"hapsbbq\", \"hapsbbq\", \"hapsbbq\", \"hapsbbq\", \"hapsbbq\", \"harden\", \"harden\", \"harden\", \"harden\", \"harden\", \"hatter\", \"hatter\", \"hatter\", \"hatter\", \"hatter\", \"hav\", \"hav\", \"hav\", \"hav\", \"hav\", \"hermanos\", \"hermanos\", \"hermanos\", \"hermanos\", \"hermanos\", \"hick\", \"hick\", \"hick\", \"hick\", \"hick\", \"hindi\", \"hindi\", \"hindi\", \"hindi\", \"hindi\", \"hohokam\", \"hohokam\", \"hohokam\", \"hohokam\", \"hohokam\", \"holdem\", \"holdem\", \"holdem\", \"holdem\", \"holdem\", \"honeycomb\", \"honeycomb\", \"honeycomb\", \"honeycomb\", \"honeycomb\", \"hopeless\", \"hopeless\", \"hopeless\", \"hopeless\", \"hopeless\", \"hourglass\", \"hourglass\", \"hourglass\", \"hourglass\", \"hourglass\", \"hustlin\", \"hustlin\", \"hustlin\", \"hustlin\", \"hustlin\", \"iain\", \"iain\", \"iain\", \"iain\", \"iain\", \"inattention\", \"inattention\", \"inattention\", \"inattention\", \"inattention\", \"incognito\", \"incognito\", \"incognito\", \"incognito\", \"incognito\", \"inflate\", \"inflate\", \"inflate\", \"inflate\", \"inflate\", \"injure\", \"injure\", \"injure\", \"injure\", \"injure\", \"kabob\", \"kabob\", \"kabob\", \"kabob\", \"kabob\", \"kart\", \"kart\", \"kart\", \"kart\", \"kart\", \"kee\", \"kee\", \"kee\", \"kee\", \"kee\", \"kia\", \"kia\", \"kia\", \"kia\", \"kia\", \"knoock\", \"knoock\", \"knoock\", \"knoock\", \"knoock\", \"knowledge\", \"knowledge\", \"knowledge\", \"knowledge\", \"knowledge\", \"kohbeday\", \"kohbeday\", \"kohbeday\", \"kohbeday\", \"kohbeday\", \"landscaping\", \"landscaping\", \"landscaping\", \"landscaping\", \"landscaping\", \"langoon\", \"langoon\", \"langoon\", \"langoon\", \"langoon\", \"leslie\", \"leslie\", \"leslie\", \"leslie\", \"leslie\", \"limoncello\", \"limoncello\", \"limoncello\", \"limoncello\", \"limoncello\", \"lobsterfeast\", \"lobsterfeast\", \"lobsterfeast\", \"lobsterfeast\", \"lobsterfeast\", \"lubbock\", \"lubbock\", \"lubbock\", \"lubbock\", \"lubbock\", \"luckly\", \"luckly\", \"luckly\", \"luckly\", \"luckly\", \"macalpine\", \"macalpine\", \"macalpine\", \"macalpine\", \"macalpine\", \"macarron\", \"macarron\", \"macarron\", \"macarron\", \"macarron\", \"magnetic\", \"magnetic\", \"magnetic\", \"magnetic\", \"magnetic\", \"masticate\", \"masticate\", \"masticate\", \"masticate\", \"masticate\", \"mayflower\", \"mayflower\", \"mayflower\", \"mayflower\", \"mayflower\", \"microwave\", \"microwave\", \"microwave\", \"microwave\", \"microwave\", \"mid_afternoon\", \"mid_afternoon\", \"mid_afternoon\", \"mid_afternoon\", \"mid_afternoon\", \"misery\", \"misery\", \"misery\", \"misery\", \"misery\", \"misspell\", \"misspell\", \"misspell\", \"misspell\", \"misspell\", \"mmmmh\", \"mmmmh\", \"mmmmh\", \"mmmmh\", \"mmmmh\", \"moreso\", \"moreso\", \"moreso\", \"moreso\", \"moreso\", \"mushy\", \"mushy\", \"mushy\", \"mushy\", \"mushy\", \"necklace\", \"necklace\", \"necklace\", \"necklace\", \"necklace\", \"nigri\", \"nigri\", \"nigri\", \"nigri\", \"nigri\", \"niro\", \"niro\", \"niro\", \"niro\", \"niro\", \"obtain\", \"obtain\", \"obtain\", \"obtain\", \"obtain\", \"octogenarian\", \"octogenarian\", \"octogenarian\", \"octogenarian\", \"octogenarian\", \"operendi\", \"operendi\", \"operendi\", \"operendi\", \"operendi\", \"oppose\", \"oppose\", \"oppose\", \"oppose\", \"oppose\", \"opposed\", \"opposed\", \"opposed\", \"opposed\", \"opposed\", \"panty\", \"panty\", \"panty\", \"panty\", \"panty\", \"parmeasan\", \"parmeasan\", \"parmeasan\", \"parmeasan\", \"parmeasan\", \"pbb\", \"pbb\", \"pbb\", \"pbb\", \"pbb\", \"peking_duck\", \"peking_duck\", \"peking_duck\", \"peking_duck\", \"peking_duck\", \"person\", \"person\", \"person\", \"person\", \"person\", \"piemaker\", \"piemaker\", \"piemaker\", \"piemaker\", \"piemaker\", \"pinot_noir\", \"pinot_noir\", \"pinot_noir\", \"pinot_noir\", \"pinot_noir\", \"pit\", \"pit\", \"pit\", \"pit\", \"pit\", \"playday\", \"playday\", \"playday\", \"playday\", \"playday\", \"potobello\", \"potobello\", \"potobello\", \"potobello\", \"potobello\", \"practice\", \"practice\", \"practice\", \"practice\", \"practice\", \"preconceived\", \"preconceived\", \"preconceived\", \"preconceived\", \"preconceived\", \"premade\", \"premade\", \"premade\", \"premade\", \"premade\", \"preparation\", \"preparation\", \"preparation\", \"preparation\", \"preparation\", \"print\", \"print\", \"print\", \"print\", \"print\", \"pross\", \"pross\", \"pross\", \"pross\", \"pross\", \"prov\", \"prov\", \"prov\", \"prov\", \"prov\", \"prune\", \"prune\", \"prune\", \"prune\", \"prune\", \"psuedo\", \"psuedo\", \"psuedo\", \"psuedo\", \"psuedo\", \"puertorican\", \"puertorican\", \"puertorican\", \"puertorican\", \"puertorican\", \"purell\", \"purell\", \"purell\", \"purell\", \"purell\", \"putem\", \"putem\", \"putem\", \"putem\", \"putem\", \"quite\", \"quite\", \"quite\", \"quite\", \"quite\", \"rainbow_donut\", \"rainbow_donut\", \"rainbow_donut\", \"rainbow_donut\", \"rainbow_donut\", \"rainforest\", \"rainforest\", \"rainforest\", \"rainforest\", \"rainforest\", \"rangoone\", \"rangoone\", \"rangoone\", \"rangoone\", \"rangoone\", \"reccomend\", \"reccomend\", \"reccomend\", \"reccomend\", \"reccomend\", \"recurring\", \"recurring\", \"recurring\", \"recurring\", \"recurring\", \"refrain\", \"refrain\", \"refrain\", \"refrain\", \"refrain\", \"refried_bean\", \"refried_bean\", \"refried_bean\", \"refried_bean\", \"refried_bean\", \"regulate\", \"regulate\", \"regulate\", \"regulate\", \"regulate\", \"rejuvenation\", \"rejuvenation\", \"rejuvenation\", \"rejuvenation\", \"rejuvenation\", \"resolution\", \"resolution\", \"resolution\", \"resolution\", \"resolution\", \"restless\", \"restless\", \"restless\", \"restless\", \"restless\", \"retain\", \"retain\", \"retain\", \"retain\", \"retain\", \"ric\", \"ric\", \"ric\", \"ric\", \"ric\", \"rice\", \"rice\", \"rice\", \"rice\", \"rice\", \"richelle\", \"richelle\", \"richelle\", \"richelle\", \"richelle\", \"rinse\", \"rinse\", \"rinse\", \"rinse\", \"rinse\", \"roat\", \"roat\", \"roat\", \"roat\", \"roat\", \"roland\", \"roland\", \"roland\", \"roland\", \"roland\", \"rubys\", \"rubys\", \"rubys\", \"rubys\", \"rubys\", \"rust\", \"rust\", \"rust\", \"rust\", \"rust\", \"ryoricho\", \"ryoricho\", \"ryoricho\", \"ryoricho\", \"ryoricho\", \"sabrett\", \"sabrett\", \"sabrett\", \"sabrett\", \"sabrett\", \"salvador\", \"salvador\", \"salvador\", \"salvador\", \"salvador\", \"santouka\", \"santouka\", \"santouka\", \"santouka\", \"santouka\", \"scrabl\", \"scrabl\", \"scrabl\", \"scrabl\", \"scrabl\", \"seahawk\", \"seahawk\", \"seahawk\", \"seahawk\", \"seahawk\", \"seaonally\", \"seaonally\", \"seaonally\", \"seaonally\", \"seaonally\", \"seaspray\", \"seaspray\", \"seaspray\", \"seaspray\", \"seaspray\", \"sensible\", \"sensible\", \"sensible\", \"sensible\", \"sensible\", \"servery\", \"servery\", \"servery\", \"servery\", \"servery\", \"settled\", \"settled\", \"settled\", \"settled\", \"settled\", \"shazaam\", \"shazaam\", \"shazaam\", \"shazaam\", \"shazaam\", \"sheet\", \"sheet\", \"sheet\", \"sheet\", \"sheet\", \"shishito\", \"shishito\", \"shishito\", \"shishito\", \"shishito\", \"shorter\", \"shorter\", \"shorter\", \"shorter\", \"shorter\", \"simulate\", \"simulate\", \"simulate\", \"simulate\", \"simulate\", \"sop\", \"sop\", \"sop\", \"sop\", \"sop\", \"soulful\", \"soulful\", \"soulful\", \"soulful\", \"soulful\", \"sprinkled\", \"sprinkled\", \"sprinkled\", \"sprinkled\", \"sprinkled\", \"sscx\", \"sscx\", \"sscx\", \"sscx\", \"sscx\", \"stafff\", \"stafff\", \"stafff\", \"stafff\", \"stafff\", \"stalk\", \"stalk\", \"stalk\", \"stalk\", \"stalk\", \"stalwart\", \"stalwart\", \"stalwart\", \"stalwart\", \"stalwart\", \"staying\", \"staying\", \"staying\", \"staying\", \"staying\", \"sterno\", \"sterno\", \"sterno\", \"sterno\", \"sterno\", \"stylus\", \"stylus\", \"stylus\", \"stylus\", \"stylus\", \"swagger\", \"swagger\", \"swagger\", \"swagger\", \"swagger\", \"sweeet\", \"sweeet\", \"sweeet\", \"sweeet\", \"sweeet\", \"tabletop\", \"tabletop\", \"tabletop\", \"tabletop\", \"tabletop\", \"tamp\", \"tamp\", \"tamp\", \"tamp\", \"tamp\", \"tantan\", \"tantan\", \"tantan\", \"tantan\", \"tantan\", \"taxidermy\", \"taxidermy\", \"taxidermy\", \"taxidermy\", \"taxidermy\", \"taylor_ham\", \"taylor_ham\", \"taylor_ham\", \"taylor_ham\", \"taylor_ham\", \"thebak\", \"thebak\", \"thebak\", \"thebak\", \"thebak\", \"think\", \"think\", \"think\", \"think\", \"think\", \"thoroughly_enjoy\", \"thoroughly_enjoy\", \"thoroughly_enjoy\", \"thoroughly_enjoy\", \"thoroughly_enjoy\", \"throttle\", \"throttle\", \"throttle\", \"throttle\", \"throttle\", \"tide\", \"tide\", \"tide\", \"tide\", \"tide\", \"titti\", \"titti\", \"titti\", \"titti\", \"titti\", \"touchy\", \"touchy\", \"touchy\", \"touchy\", \"touchy\", \"transient\", \"transient\", \"transient\", \"transient\", \"transient\", \"tropic\", \"tropic\", \"tropic\", \"tropic\", \"tropic\", \"troupe\", \"troupe\", \"troupe\", \"troupe\", \"troupe\", \"trusty\", \"trusty\", \"trusty\", \"trusty\", \"trusty\", \"uninitiated\", \"uninitiated\", \"uninitiated\", \"uninitiated\", \"uninitiated\", \"unsatisfi\", \"unsatisfi\", \"unsatisfi\", \"unsatisfi\", \"unsatisfi\", \"unwelcomed\", \"unwelcomed\", \"unwelcomed\", \"unwelcomed\", \"unwelcomed\", \"usairways\", \"usairways\", \"usairways\", \"usairways\", \"usairways\", \"vagrant\", \"vagrant\", \"vagrant\", \"vagrant\", \"vagrant\", \"vertical\", \"vertical\", \"vertical\", \"vertical\", \"vertical\", \"viewpoint\", \"viewpoint\", \"viewpoint\", \"viewpoint\", \"viewpoint\", \"vote\", \"vote\", \"vote\", \"vote\", \"vote\", \"wacko\", \"wacko\", \"wacko\", \"wacko\", \"wacko\", \"wattleseed\", \"wattleseed\", \"wattleseed\", \"wattleseed\", \"wattleseed\", \"weave\", \"weave\", \"weave\", \"weave\", \"weave\", \"wednesday\", \"wednesday\", \"wednesday\", \"wednesday\", \"wednesday\", \"wel\", \"wel\", \"wel\", \"wel\", \"wel\", \"whinny\", \"whinny\", \"whinny\", \"whinny\", \"whinny\", \"willi\", \"willi\", \"willi\", \"willi\", \"willi\", \"witchcraft\", \"witchcraft\", \"witchcraft\", \"witchcraft\", \"witchcraft\", \"writt\", \"writt\", \"writt\", \"writt\", \"writt\", \"xxx\", \"xxx\", \"xxx\", \"xxx\", \"xxx\", \"yackonomy\", \"yackonomy\", \"yackonomy\", \"yackonomy\", \"yackonomy\", \"yc\", \"yc\", \"yc\", \"yc\", \"yc\", \"zbyvjajglqq\", \"zbyvjajglqq\", \"zbyvjajglqq\", \"zbyvjajglqq\", \"zbyvjajglqq\", \"zoom\", \"zoom\", \"zoom\", \"zoom\", \"zoom\"]}, \"R\": 30, \"lambda.step\": 0.01, \"plot.opts\": {\"xlab\": \"PC1\", \"ylab\": \"PC2\"}, \"topic.order\": [4, 1, 2, 5, 3]};\n",
              "\n",
              "function LDAvis_load_lib(url, callback){\n",
              "  var s = document.createElement('script');\n",
              "  s.src = url;\n",
              "  s.async = true;\n",
              "  s.onreadystatechange = s.onload = callback;\n",
              "  s.onerror = function(){console.warn(\"failed to load library \" + url);};\n",
              "  document.getElementsByTagName(\"head\")[0].appendChild(s);\n",
              "}\n",
              "\n",
              "if(typeof(LDAvis) !== \"undefined\"){\n",
              "   // already loaded: just create the visualization\n",
              "   !function(LDAvis){\n",
              "       new LDAvis(\"#\" + \"ldavis_el1411402800840707124026620830\", ldavis_el1411402800840707124026620830_data);\n",
              "   }(LDAvis);\n",
              "}else if(typeof define === \"function\" && define.amd){\n",
              "   // require.js is available: use it to load d3/LDAvis\n",
              "   require.config({paths: {d3: \"https://cdnjs.cloudflare.com/ajax/libs/d3/3.5.5/d3.min\"}});\n",
              "   require([\"d3\"], function(d3){\n",
              "      window.d3 = d3;\n",
              "      LDAvis_load_lib(\"https://cdn.rawgit.com/bmabey/pyLDAvis/files/ldavis.v1.0.0.js\", function(){\n",
              "        new LDAvis(\"#\" + \"ldavis_el1411402800840707124026620830\", ldavis_el1411402800840707124026620830_data);\n",
              "      });\n",
              "    });\n",
              "}else{\n",
              "    // require.js not available: dynamically load d3 & LDAvis\n",
              "    LDAvis_load_lib(\"https://cdnjs.cloudflare.com/ajax/libs/d3/3.5.5/d3.min.js\", function(){\n",
              "         LDAvis_load_lib(\"https://cdn.rawgit.com/bmabey/pyLDAvis/files/ldavis.v1.0.0.js\", function(){\n",
              "                 new LDAvis(\"#\" + \"ldavis_el1411402800840707124026620830\", ldavis_el1411402800840707124026620830_data);\n",
              "            })\n",
              "         });\n",
              "}\n",
              "</script>"
            ],
            "text/plain": [
              "PreparedData(topic_coordinates=            Freq  cluster  topics         x         y\n",
              "topic                                                \n",
              "3      21.213042        1       1  0.000195 -0.000246\n",
              "0      20.476375        1       2 -0.000167 -0.000772\n",
              "1      20.352034        1       3  0.000984  0.000333\n",
              "4      20.138047        1       4 -0.000444 -0.000159\n",
              "2      17.820502        1       5 -0.000568  0.000844, topic_info=      Category       Freq            Term      Total  loglift  logprob\n",
              "term                                                                  \n",
              "7499   Default  64.000000            zoom  64.000000  30.0000  30.0000\n",
              "26766  Default  64.000000           benzs  64.000000  29.0000  29.0000\n",
              "16839  Default  64.000000     giardiarano  64.000000  28.0000  28.0000\n",
              "30326  Default  67.000000         lubbock  67.000000  27.0000  27.0000\n",
              "17486  Default  63.000000         appetiz  63.000000  26.0000  26.0000\n",
              "21540  Default  63.000000           butts  63.000000  25.0000  25.0000\n",
              "22659  Default  66.000000          stafff  66.000000  24.0000  24.0000\n",
              "31355  Default  68.000000       incognito  68.000000  23.0000  23.0000\n",
              "19690  Default  64.000000        necklace  64.000000  22.0000  22.0000\n",
              "823    Default  65.000000            rice  65.000000  21.0000  21.0000\n",
              "20029  Default  67.000000       befitting  67.000000  20.0000  20.0000\n",
              "14263  Default  65.000000        richelle  65.000000  19.0000  19.0000\n",
              "2718   Default  67.000000         company  67.000000  18.0000  18.0000\n",
              "7085   Default  65.000000   mid_afternoon  65.000000  17.0000  17.0000\n",
              "6418   Default  63.000000           kabob  63.000000  16.0000  16.0000\n",
              "642    Default  64.000000           quite  64.000000  15.0000  15.0000\n",
              "25942  Default  68.000000         playday  68.000000  14.0000  14.0000\n",
              "18759  Default  61.000000     uninitiated  61.000000  13.0000  13.0000\n",
              "31580  Default  62.000000       hourglass  62.000000  12.0000  12.0000\n",
              "12247  Default  62.000000           buren  62.000000  11.0000  11.0000\n",
              "31731  Default  64.000000     zbyvjajglqq  64.000000  10.0000  10.0000\n",
              "4252   Default  65.000000    authenticate  65.000000   9.0000   9.0000\n",
              "26352  Default  66.000000           hindi  66.000000   8.0000   8.0000\n",
              "9990   Default  65.000000      deshuesado  65.000000   7.0000   7.0000\n",
              "21753  Default  59.000000          psuedo  59.000000   6.0000   6.0000\n",
              "22496  Default  64.000000   rainbow_donut  64.000000   5.0000   5.0000\n",
              "11940  Default  64.000000            kart  64.000000   4.0000   4.0000\n",
              "28606  Default  65.000000         settled  65.000000   3.0000   3.0000\n",
              "8996   Default  62.000000            iain  62.000000   2.0000   2.0000\n",
              "16231  Default  64.000000           wacko  64.000000   1.0000   1.0000\n",
              "...        ...        ...             ...        ...      ...      ...\n",
              "15302   Topic5  14.352517        sensible  63.719619   0.2343 -10.2684\n",
              "26766   Topic5  14.459480           benzs  64.206294   0.2341 -10.2610\n",
              "7085    Topic5  14.726971   mid_afternoon  65.447362   0.2333 -10.2427\n",
              "14263   Topic5  14.758778        richelle  65.630137   0.2326 -10.2405\n",
              "28606   Topic5  14.648880         settled  65.169630   0.2322 -10.2480\n",
              "4168    Topic5  15.317954         filling  68.184132   0.2316 -10.2033\n",
              "30543   Topic5  14.326936    lobsterfeast  63.782587   0.2315 -10.2702\n",
              "25791   Topic5  14.386417       honeycomb  64.142688   0.2300 -10.2661\n",
              "24427   Topic5  15.385600      taylor_ham  68.615300   0.2297 -10.1989\n",
              "26182   Topic5  14.935652    octogenarian  66.862484   0.2259 -10.2286\n",
              "6466    Topic5  15.039702            tide  67.615248   0.2217 -10.2217\n",
              "7543    Topic5  14.977914      resolution  67.305460   0.2222 -10.2258\n",
              "28258   Topic5  14.793561         grolsch  66.379032   0.2236 -10.2382\n",
              "6471    Topic5  15.005311           sheet  67.580325   0.2199 -10.2240\n",
              "11476   Topic5  15.164305        restless  68.711190   0.2139 -10.2134\n",
              "6024    Topic5  15.047484  browned_butter  68.304968   0.2120 -10.2212\n",
              "20184   Topic5  15.835409         refrain  73.868150   0.1848 -10.1701\n",
              "33786   Topic5  14.862343        magnetic  67.176080   0.2163 -10.2335\n",
              "3650    Topic5  14.868727          booing  67.376190   0.2138 -10.2331\n",
              "34878   Topic5  15.029696         sabrett  68.648522   0.2058 -10.2223\n",
              "27223   Topic5  14.907785     inattention  68.186917   0.2045 -10.2305\n",
              "11507   Topic5  14.977730           putem  69.483716   0.1903 -10.2258\n",
              "28250   Topic5  15.082627             wel  70.870767   0.1775 -10.2188\n",
              "31780   Topic5  14.897407          chease  68.801292   0.1948 -10.2312\n",
              "8945    Topic5  14.889647     peking_duck  68.773774   0.1947 -10.2317\n",
              "7149    Topic5  14.817741       evidently  68.054264   0.2003 -10.2365\n",
              "9228    Topic5  14.754793        tabletop  66.870127   0.2136 -10.2408\n",
              "19607   Topic5  14.874827       recurring  69.851134   0.1781 -10.2327\n",
              "35299   Topic5  14.801857        kohbeday  70.152413   0.1689 -10.2376\n",
              "5666    Topic5  14.760016         hustlin  68.465783   0.1904 -10.2404\n",
              "\n",
              "[284 rows x 6 columns], token_table=       Topic      Freq          Term\n",
              "term                                \n",
              "16974      1  0.229917     accessory\n",
              "16974      2  0.260572     accessory\n",
              "16974      3  0.183933     accessory\n",
              "16974      4  0.168606     accessory\n",
              "16974      5  0.168606     accessory\n",
              "20207      1  0.266192      acquaint\n",
              "20207      2  0.192250      acquaint\n",
              "20207      3  0.207038      acquaint\n",
              "20207      4  0.192250      acquaint\n",
              "20207      5  0.162673      acquaint\n",
              "24092      1  0.179763      activate\n",
              "24092      2  0.179763      activate\n",
              "24092      3  0.209724      activate\n",
              "24092      4  0.254665      activate\n",
              "24092      5  0.194743      activate\n",
              "18297      1  0.202138          adem\n",
              "18297      2  0.259891          adem\n",
              "18297      3  0.187699          adem\n",
              "18297      4  0.202138          adem\n",
              "18297      5  0.158822          adem\n",
              "10037      1  0.197071  agua_frescas\n",
              "10037      2  0.239300  agua_frescas\n",
              "10037      3  0.197071  agua_frescas\n",
              "10037      4  0.197071  agua_frescas\n",
              "10037      5  0.182994  agua_frescas\n",
              "19133      1  0.217292      anderson\n",
              "19133      2  0.246265      anderson\n",
              "19133      3  0.202806      anderson\n",
              "19133      4  0.173834      anderson\n",
              "19133      5  0.159348      anderson\n",
              "...      ...       ...           ...\n",
              "30411      1  0.192294         writt\n",
              "30411      2  0.207086         writt\n",
              "30411      3  0.192294         writt\n",
              "30411      4  0.251462         writt\n",
              "30411      5  0.162711         writt\n",
              "12536      1  0.205617           xxx\n",
              "12536      2  0.189800           xxx\n",
              "12536      3  0.253067           xxx\n",
              "12536      4  0.205617           xxx\n",
              "12536      5  0.142350           xxx\n",
              "29355      1  0.199000     yackonomy\n",
              "29355      2  0.241642     yackonomy\n",
              "29355      3  0.199000     yackonomy\n",
              "29355      4  0.184785     yackonomy\n",
              "29355      5  0.156357     yackonomy\n",
              "34337      1  0.182179            yc\n",
              "34337      2  0.212542            yc\n",
              "34337      3  0.182179            yc\n",
              "34337      4  0.258086            yc\n",
              "34337      5  0.182179            yc\n",
              "31731      1  0.185354   zbyvjajglqq\n",
              "31731      2  0.185354   zbyvjajglqq\n",
              "31731      3  0.231693   zbyvjajglqq\n",
              "31731      4  0.185354   zbyvjajglqq\n",
              "31731      5  0.216247   zbyvjajglqq\n",
              "7499       1  0.202710          zoom\n",
              "7499       2  0.171524          zoom\n",
              "7499       3  0.202710          zoom\n",
              "7499       4  0.187117          zoom\n",
              "7499       5  0.249490          zoom\n",
              "\n",
              "[1340 rows x 3 columns], R=30, lambda_step=0.01, plot_opts={'xlab': 'PC1', 'ylab': 'PC2'}, topic_order=[4, 1, 2, 5, 3])"
            ]
          },
          "metadata": {
            "tags": []
          },
          "execution_count": 82
        }
      ]
    },
    {
      "cell_type": "markdown",
      "metadata": {
        "id": "pkN3G6xdTDCn",
        "colab_type": "text"
      },
      "source": [
        "## 18. Finding the dominant topic in each sentence"
      ]
    },
    {
      "cell_type": "code",
      "metadata": {
        "id": "YjEL2AqeTD1f",
        "colab_type": "code",
        "outputId": "a6e1b84e-4480-43a6-ccc8-11fc8767b551",
        "colab": {
          "base_uri": "https://localhost:8080/",
          "height": 346
        }
      },
      "source": [
        "def format_topics_sentences(ldamodel, corpus=corpus, texts=data):\n",
        "    # Init output\n",
        "    sent_topics_df = pd.DataFrame()\n",
        "\n",
        "    # Get main topic in each document\n",
        "    for i, row in enumerate(ldamodel[corpus]):\n",
        "        row = sorted(row, key=lambda x: (x[1]), reverse=True)\n",
        "        # Get the Dominant topic, Perc Contribution and Keywords for each document\n",
        "        for j, (topic_num, prop_topic) in enumerate(row):\n",
        "            if j == 0:  # => dominant topic\n",
        "                wp = ldamodel.show_topic(topic_num)\n",
        "                topic_keywords = \", \".join([word for word, prop in wp])\n",
        "                sent_topics_df = sent_topics_df.append(pd.Series([int(topic_num), round(prop_topic,4), topic_keywords]), ignore_index=True)\n",
        "            else:\n",
        "                break\n",
        "    sent_topics_df.columns = ['Dominant_Topic', 'Perc_Contribution', 'Topic_Keywords']\n",
        "\n",
        "    # Add original text to the end of the output\n",
        "    contents = pd.Series(texts)\n",
        "    sent_topics_df = pd.concat([sent_topics_df, contents], axis=1)\n",
        "    return(sent_topics_df)\n",
        "\n",
        "\n",
        "df_topic_sents_keywords = format_topics_sentences(ldamodel=lda_model, corpus=corpus, texts=data)\n",
        "\n",
        "# Format\n",
        "df_dominant_topic = df_topic_sents_keywords.reset_index()\n",
        "df_dominant_topic.columns = ['Document_No', 'Dominant_Topic', 'Topic_Perc_Contrib', 'Keywords', 'Text']\n",
        "\n",
        "# Show\n",
        "df_dominant_topic.head(10)"
      ],
      "execution_count": 0,
      "outputs": [
        {
          "output_type": "error",
          "ename": "TypeError",
          "evalue": "ignored",
          "traceback": [
            "\u001b[0;31m---------------------------------------------------------------------------\u001b[0m",
            "\u001b[0;31mTypeError\u001b[0m                                 Traceback (most recent call last)",
            "\u001b[0;32m<ipython-input-91-9202d7c522cd>\u001b[0m in \u001b[0;36m<module>\u001b[0;34m()\u001b[0m\n\u001b[1;32m     22\u001b[0m \u001b[0;34m\u001b[0m\u001b[0m\n\u001b[1;32m     23\u001b[0m \u001b[0;34m\u001b[0m\u001b[0m\n\u001b[0;32m---> 24\u001b[0;31m \u001b[0mdf_topic_sents_keywords\u001b[0m \u001b[0;34m=\u001b[0m \u001b[0mformat_topics_sentences\u001b[0m\u001b[0;34m(\u001b[0m\u001b[0mldamodel\u001b[0m\u001b[0;34m=\u001b[0m\u001b[0mlda_model\u001b[0m\u001b[0;34m,\u001b[0m \u001b[0mcorpus\u001b[0m\u001b[0;34m=\u001b[0m\u001b[0mcorpus\u001b[0m\u001b[0;34m,\u001b[0m \u001b[0mtexts\u001b[0m\u001b[0;34m=\u001b[0m\u001b[0mdata\u001b[0m\u001b[0;34m)\u001b[0m\u001b[0;34m\u001b[0m\u001b[0;34m\u001b[0m\u001b[0m\n\u001b[0m\u001b[1;32m     25\u001b[0m \u001b[0;34m\u001b[0m\u001b[0m\n\u001b[1;32m     26\u001b[0m \u001b[0;31m# Format\u001b[0m\u001b[0;34m\u001b[0m\u001b[0;34m\u001b[0m\u001b[0;34m\u001b[0m\u001b[0m\n",
            "\u001b[0;32m<ipython-input-91-9202d7c522cd>\u001b[0m in \u001b[0;36mformat_topics_sentences\u001b[0;34m(ldamodel, corpus, texts)\u001b[0m\n\u001b[1;32m      5\u001b[0m     \u001b[0;31m# Get main topic in each document\u001b[0m\u001b[0;34m\u001b[0m\u001b[0;34m\u001b[0m\u001b[0;34m\u001b[0m\u001b[0m\n\u001b[1;32m      6\u001b[0m     \u001b[0;32mfor\u001b[0m \u001b[0mi\u001b[0m\u001b[0;34m,\u001b[0m \u001b[0mrow\u001b[0m \u001b[0;32min\u001b[0m \u001b[0menumerate\u001b[0m\u001b[0;34m(\u001b[0m\u001b[0mldamodel\u001b[0m\u001b[0;34m[\u001b[0m\u001b[0mcorpus\u001b[0m\u001b[0;34m]\u001b[0m\u001b[0;34m)\u001b[0m\u001b[0;34m:\u001b[0m\u001b[0;34m\u001b[0m\u001b[0;34m\u001b[0m\u001b[0m\n\u001b[0;32m----> 7\u001b[0;31m         \u001b[0mrow\u001b[0m \u001b[0;34m=\u001b[0m \u001b[0msorted\u001b[0m\u001b[0;34m(\u001b[0m\u001b[0mrow\u001b[0m\u001b[0;34m,\u001b[0m \u001b[0mkey\u001b[0m\u001b[0;34m=\u001b[0m\u001b[0;32mlambda\u001b[0m \u001b[0mx\u001b[0m\u001b[0;34m:\u001b[0m \u001b[0;34m(\u001b[0m\u001b[0mx\u001b[0m\u001b[0;34m[\u001b[0m\u001b[0;36m1\u001b[0m\u001b[0;34m]\u001b[0m\u001b[0;34m)\u001b[0m\u001b[0;34m,\u001b[0m \u001b[0mreverse\u001b[0m\u001b[0;34m=\u001b[0m\u001b[0;32mTrue\u001b[0m\u001b[0;34m)\u001b[0m\u001b[0;34m\u001b[0m\u001b[0;34m\u001b[0m\u001b[0m\n\u001b[0m\u001b[1;32m      8\u001b[0m         \u001b[0;31m# Get the Dominant topic, Perc Contribution and Keywords for each document\u001b[0m\u001b[0;34m\u001b[0m\u001b[0;34m\u001b[0m\u001b[0;34m\u001b[0m\u001b[0m\n\u001b[1;32m      9\u001b[0m         \u001b[0;32mfor\u001b[0m \u001b[0mj\u001b[0m\u001b[0;34m,\u001b[0m \u001b[0;34m(\u001b[0m\u001b[0mtopic_num\u001b[0m\u001b[0;34m,\u001b[0m \u001b[0mprop_topic\u001b[0m\u001b[0;34m)\u001b[0m \u001b[0;32min\u001b[0m \u001b[0menumerate\u001b[0m\u001b[0;34m(\u001b[0m\u001b[0mrow\u001b[0m\u001b[0;34m)\u001b[0m\u001b[0;34m:\u001b[0m\u001b[0;34m\u001b[0m\u001b[0;34m\u001b[0m\u001b[0m\n",
            "\u001b[0;31mTypeError\u001b[0m: '<' not supported between instances of 'int' and 'tuple'"
          ]
        }
      ]
    },
    {
      "cell_type": "code",
      "metadata": {
        "id": "8hjIUdP3TFyX",
        "colab_type": "code",
        "colab": {}
      },
      "source": [
        ""
      ],
      "execution_count": 0,
      "outputs": []
    },
    {
      "cell_type": "markdown",
      "metadata": {
        "id": "k4E-VgRKTK-q",
        "colab_type": "text"
      },
      "source": [
        "##19. Find the most representative document for each topic"
      ]
    },
    {
      "cell_type": "code",
      "metadata": {
        "id": "nvH7nugHTMES",
        "colab_type": "code",
        "outputId": "d3bd5b3b-73f0-4c9b-a1fd-fa7fd911087f",
        "colab": {
          "base_uri": "https://localhost:8080/",
          "height": 231
        }
      },
      "source": [
        "# Group top 5 sentences under each topic\n",
        "sent_topics_sorteddf_mallet = pd.DataFrame()\n",
        "\n",
        "sent_topics_outdf_grpd = df_topic_sents_keywords.groupby('Dominant_Topic')\n",
        "\n",
        "for i, grp in sent_topics_outdf_grpd:\n",
        "    sent_topics_sorteddf_mallet = pd.concat([sent_topics_sorteddf_mallet, \n",
        "                                             grp.sort_values(['Perc_Contribution'], ascending=[0]).head(1)], \n",
        "                                            axis=0)\n",
        "\n",
        "# Reset Index    \n",
        "sent_topics_sorteddf_mallet.reset_index(drop=True, inplace=True)\n",
        "\n",
        "# Format\n",
        "sent_topics_sorteddf_mallet.columns = ['Topic_Num', \"Topic_Perc_Contrib\", \"Keywords\", \"Text\"]\n",
        "\n",
        "# Show\n",
        "sent_topics_sorteddf_mallet.head()"
      ],
      "execution_count": 0,
      "outputs": [
        {
          "output_type": "error",
          "ename": "NameError",
          "evalue": "ignored",
          "traceback": [
            "\u001b[0;31m---------------------------------------------------------------------------\u001b[0m",
            "\u001b[0;31mNameError\u001b[0m                                 Traceback (most recent call last)",
            "\u001b[0;32m<ipython-input-48-4f3274bfb4e5>\u001b[0m in \u001b[0;36m<module>\u001b[0;34m()\u001b[0m\n\u001b[1;32m      1\u001b[0m \u001b[0msent_topics_sorteddf_mallet\u001b[0m \u001b[0;34m=\u001b[0m \u001b[0mpd\u001b[0m\u001b[0;34m.\u001b[0m\u001b[0mDataFrame\u001b[0m\u001b[0;34m(\u001b[0m\u001b[0;34m)\u001b[0m\u001b[0;34m\u001b[0m\u001b[0;34m\u001b[0m\u001b[0m\n\u001b[1;32m      2\u001b[0m \u001b[0;34m\u001b[0m\u001b[0m\n\u001b[0;32m----> 3\u001b[0;31m \u001b[0msent_topics_outdf_grpd\u001b[0m \u001b[0;34m=\u001b[0m \u001b[0mdf_topic_sents_keywords\u001b[0m\u001b[0;34m.\u001b[0m\u001b[0mgroupby\u001b[0m\u001b[0;34m(\u001b[0m\u001b[0;34m'Dominant_Topic'\u001b[0m\u001b[0;34m)\u001b[0m\u001b[0;34m\u001b[0m\u001b[0;34m\u001b[0m\u001b[0m\n\u001b[0m\u001b[1;32m      4\u001b[0m \u001b[0;34m\u001b[0m\u001b[0m\n\u001b[1;32m      5\u001b[0m \u001b[0;32mfor\u001b[0m \u001b[0mi\u001b[0m\u001b[0;34m,\u001b[0m \u001b[0mgrp\u001b[0m \u001b[0;32min\u001b[0m \u001b[0msent_topics_outdf_grpd\u001b[0m\u001b[0;34m:\u001b[0m\u001b[0;34m\u001b[0m\u001b[0;34m\u001b[0m\u001b[0m\n",
            "\u001b[0;31mNameError\u001b[0m: name 'df_topic_sents_keywords' is not defined"
          ]
        }
      ]
    },
    {
      "cell_type": "markdown",
      "metadata": {
        "id": "Nlu7fpgyTOzs",
        "colab_type": "text"
      },
      "source": [
        "##20. Topic distribution across documents"
      ]
    },
    {
      "cell_type": "code",
      "metadata": {
        "id": "AP26RsqLTQrv",
        "colab_type": "code",
        "outputId": "53249c4b-ee6c-4bb3-d5dd-bc454f057de7",
        "colab": {
          "base_uri": "https://localhost:8080/",
          "height": 231
        }
      },
      "source": [
        "# Number of Documents for Each Topic\n",
        "topic_counts = df_topic_sents_keywords['Dominant_Topic'].value_counts()\n",
        "\n",
        "# Percentage of Documents for Each Topic\n",
        "topic_contribution = round(topic_counts/topic_counts.sum(), 4)\n",
        "\n",
        "# Topic Number and Keywords\n",
        "topic_num_keywords = df_topic_sents_keywords[['Dominant_Topic', 'Topic_Keywords']]\n",
        "\n",
        "# Concatenate Column wise\n",
        "df_dominant_topics = pd.concat([topic_num_keywords, topic_counts, topic_contribution], axis=1)\n",
        "\n",
        "# Change Column names\n",
        "df_dominant_topics.columns = ['Dominant_Topic', 'Topic_Keywords', 'Num_Documents', 'Perc_Documents']\n",
        "\n",
        "# Show\n",
        "df_dominant_topics"
      ],
      "execution_count": 0,
      "outputs": [
        {
          "output_type": "error",
          "ename": "NameError",
          "evalue": "ignored",
          "traceback": [
            "\u001b[0;31m---------------------------------------------------------------------------\u001b[0m",
            "\u001b[0;31mNameError\u001b[0m                                 Traceback (most recent call last)",
            "\u001b[0;32m<ipython-input-49-eb5e306201c2>\u001b[0m in \u001b[0;36m<module>\u001b[0;34m()\u001b[0m\n\u001b[0;32m----> 1\u001b[0;31m \u001b[0mtopic_counts\u001b[0m \u001b[0;34m=\u001b[0m \u001b[0mdf_topic_sents_keywords\u001b[0m\u001b[0;34m[\u001b[0m\u001b[0;34m'Dominant_Topic'\u001b[0m\u001b[0;34m]\u001b[0m\u001b[0;34m.\u001b[0m\u001b[0mvalue_counts\u001b[0m\u001b[0;34m(\u001b[0m\u001b[0;34m)\u001b[0m\u001b[0;34m\u001b[0m\u001b[0;34m\u001b[0m\u001b[0m\n\u001b[0m\u001b[1;32m      2\u001b[0m \u001b[0;34m\u001b[0m\u001b[0m\n\u001b[1;32m      3\u001b[0m \u001b[0;31m# Percentage of Documents for Each Topic\u001b[0m\u001b[0;34m\u001b[0m\u001b[0;34m\u001b[0m\u001b[0;34m\u001b[0m\u001b[0m\n\u001b[1;32m      4\u001b[0m \u001b[0mtopic_contribution\u001b[0m \u001b[0;34m=\u001b[0m \u001b[0mround\u001b[0m\u001b[0;34m(\u001b[0m\u001b[0mtopic_counts\u001b[0m\u001b[0;34m/\u001b[0m\u001b[0mtopic_counts\u001b[0m\u001b[0;34m.\u001b[0m\u001b[0msum\u001b[0m\u001b[0;34m(\u001b[0m\u001b[0;34m)\u001b[0m\u001b[0;34m,\u001b[0m \u001b[0;36m4\u001b[0m\u001b[0;34m)\u001b[0m\u001b[0;34m\u001b[0m\u001b[0;34m\u001b[0m\u001b[0m\n\u001b[1;32m      5\u001b[0m \u001b[0;34m\u001b[0m\u001b[0m\n",
            "\u001b[0;31mNameError\u001b[0m: name 'df_topic_sents_keywords' is not defined"
          ]
        }
      ]
    },
    {
      "cell_type": "markdown",
      "metadata": {
        "id": "tw5Jao7sTS5j",
        "colab_type": "text"
      },
      "source": [
        ""
      ]
    }
  ]
}